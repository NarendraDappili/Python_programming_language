{
 "cells": [
  {
   "cell_type": "code",
   "execution_count": null,
   "metadata": {},
   "outputs": [],
   "source": [
    "#1.capitalize() built in function\n",
    "st='dgsgtdd chbg gdsg31233 123%!$@ bsfn'\n",
    "x=st.capitalize()\n",
    "print(x)"
   ]
  },
  {
   "cell_type": "code",
   "execution_count": null,
   "metadata": {},
   "outputs": [],
   "source": [
    "#capitalize() built in function\n",
    "st='dgsgtdd chbg gdsg31233 123%!$@ bsfn'\n",
    "def u_capitalize(coll):\n",
    "    res='' \n",
    "    if 'a'<=coll[0]<='z':\n",
    "        res+=chr(ord(coll[0])-32)\n",
    "    else:\n",
    "        res+=coll[0]\n",
    "    for i in range(1,len(coll)):\n",
    "        if 'A'<=coll[i]<='Z':\n",
    "            res+=chr(ord(coll[i])+32)\n",
    "        else:\n",
    "            res+=coll[i]\n",
    "    return res\n",
    "u_capitalize(st)"
   ]
  },
  {
   "cell_type": "code",
   "execution_count": 14,
   "metadata": {},
   "outputs": [
    {
     "data": {
      "text/plain": [
       "'13Hsg 13  H323B3 3B3 44Nb4Bahvjhbb !#@$Gffggb'"
      ]
     },
     "execution_count": 14,
     "metadata": {},
     "output_type": "execute_result"
    }
   ],
   "source": [
    "#2.title() built in function\n",
    "st='13hsg 13  h323b3 3b3 44nb4BAhvJHBB !#@$gffGGb'\n",
    "st.title()"
   ]
  },
  {
   "cell_type": "code",
   "execution_count": 12,
   "metadata": {},
   "outputs": [
    {
     "data": {
      "text/plain": [
       "'13Hsg 13  H323B3 3B3 44Nb4Bahvjhbb !#@$Gffggb'"
      ]
     },
     "execution_count": 12,
     "metadata": {},
     "output_type": "execute_result"
    }
   ],
   "source": [
    "#title() user define function\n",
    "st='13hsg 13  h323b3 3b3 44nb4BAhvJHBB !#@$gffGGb'\n",
    "def u_title(coll):\n",
    "    res=''\n",
    "    if 'a'<=coll[0]<='z':\n",
    "        res+=chr(ord(coll[0])-32)+coll[1::]\n",
    "    else:\n",
    "        res+=coll\n",
    "    i=1\n",
    "    res1=''\n",
    "    # temp=''\n",
    "    while i<len(res):\n",
    "        if 'a'<=res[i]<='z' and 'A'<=res[i-1]<='Z':\n",
    "            res1+=res[i]\n",
    "        elif 'a'<=res[i]<='z' and (not ('a'<=res[i-1]<='z')):\n",
    "            res1+=chr(ord(res[i])-32)\n",
    "        elif 'A'<=res[i]<='Z' and (not('a'<=res[i-1]<='z' or 'A'<=res[i]<='Z')):\n",
    "            res1+=res[i]\n",
    "        elif 'A'<=res[i]<='Z' and ('A'<=res[i-1]<='Z' or 'a'<=res[i-1]<='z'):\n",
    "            res1+=chr(ord(res[i])+32)   \n",
    "        else:\n",
    "            res1+=res[i]  \n",
    "        i+=1\n",
    "    return res[0]+res1\n",
    "u_title(st)"
   ]
  },
  {
   "cell_type": "code",
   "execution_count": null,
   "metadata": {},
   "outputs": [],
   "source": [
    "#first occur \n",
    "s='zanrenfvnnaadsdffdsfsfds'\n",
    "def u_first_occur(coll):\n",
    "    res={}\n",
    "    for i in coll:\n",
    "        if i not in res:\n",
    "            res[i]=1\n",
    "        else:\n",
    "            res[i]+=1\n",
    "    print(res)\n",
    "    l=list(res)\n",
    "    print(l)\n",
    "    for i in l:\n",
    "        if res[i]==1:\n",
    "            print(i)\n",
    "            break\n",
    "u_first_occur(s)"
   ]
  },
  {
   "cell_type": "code",
   "execution_count": 15,
   "metadata": {},
   "outputs": [
    {
     "name": "stdout",
     "output_type": "stream",
     "text": [
      "{'a': 3, 'n': 4, 'r': 1, 'e': 1, 'v': 1, 'd': 4, 's': 4, 'f': 4}\n",
      "f\n"
     ]
    }
   ],
   "source": [
    "#last occur\n",
    "s='anrenvaanndsdffdsfsfds'\n",
    "def u_last_occur(coll):\n",
    "    res={}\n",
    "    for i in coll:\n",
    "        if i not in res:\n",
    "            res[i]=1\n",
    "        else:\n",
    "            res[i]+=1\n",
    "    print(res)\n",
    "    l=list(res)\n",
    "    l=l[::-1]\n",
    "    for i in l:\n",
    "        if res[i]>1:\n",
    "            print(i)\n",
    "            break\n",
    "u_last_occur(s)"
   ]
  },
  {
   "cell_type": "code",
   "execution_count": 36,
   "metadata": {},
   "outputs": [
    {
     "data": {
      "text/plain": [
       "False"
      ]
     },
     "execution_count": 36,
     "metadata": {},
     "output_type": "execute_result"
    }
   ],
   "source": [
    "#startswith() built in function\n",
    "st='i love india i like love'\n",
    "st.startswith('india')"
   ]
  },
  {
   "cell_type": "code",
   "execution_count": 16,
   "metadata": {},
   "outputs": [
    {
     "data": {
      "text/plain": [
       "True"
      ]
     },
     "execution_count": 16,
     "metadata": {},
     "output_type": "execute_result"
    }
   ],
   "source": [
    "#3.startswith() user define function\n",
    "st='i love india i like love'\n",
    "def u_startswith(coll,sub,start=0,end=None):\n",
    "    if end == None:\n",
    "        end=start+len(sub)\n",
    "    if sub not in coll[start:]:\n",
    "        return False\n",
    "    i=0\n",
    "    while start<end:\n",
    "        if coll[start]!=sub[i]:\n",
    "            return False\n",
    "        i+=1\n",
    "        start+=1\n",
    "    return True\n",
    "u_startswith(st,'india',7)\n",
    "    \n"
   ]
  },
  {
   "cell_type": "code",
   "execution_count": 17,
   "metadata": {},
   "outputs": [
    {
     "name": "stdout",
     "output_type": "stream",
     "text": [
      "sun 0 3\n",
      "s m 8 11\n",
      "ss  12 15\n",
      "s d 13 16\n",
      "sun 19 22\n"
     ]
    },
    {
     "data": {
      "text/plain": [
       "'unday i ma day un'"
      ]
     },
     "execution_count": 17,
     "metadata": {},
     "output_type": "execute_result"
    }
   ],
   "source": [
    "st='sunday is mass day sun'\n",
    "def U_occur_replace(coll,old,new,occur):\n",
    "    start=0\n",
    "    i=0\n",
    "    res=''\n",
    "    while start<len(coll):\n",
    "        if old[0]!=coll[start]:\n",
    "            res+=coll[start]\n",
    "        elif old[0]==coll[start]:\n",
    "            print(coll[start:start+len(old)],start,start+len(old))\n",
    "        \n",
    "        start+=1\n",
    "    return(res)\n",
    "U_occur_replace(st,'sun','mon',2)"
   ]
  },
  {
   "cell_type": "code",
   "execution_count": 19,
   "metadata": {},
   "outputs": [
    {
     "data": {
      "text/plain": [
       "'.instagram.com'"
      ]
     },
     "execution_count": 19,
     "metadata": {},
     "output_type": "execute_result"
    }
   ],
   "source": [
    "#4.removeprefix() buitin function\n",
    "st='www.instagram.com'\n",
    "def u_remove_prefix(coll,ele):\n",
    "    if ele not in coll[0:len(ele):]:\n",
    "        return coll\n",
    "    return coll[len(ele):]\n",
    "u_remove_prefix(st,'www')"
   ]
  },
  {
   "cell_type": "code",
   "execution_count": 11,
   "metadata": {},
   "outputs": [
    {
     "data": {
      "text/plain": [
       "'www.instagram.'"
      ]
     },
     "execution_count": 11,
     "metadata": {},
     "output_type": "execute_result"
    }
   ],
   "source": [
    "#5.removesuffix() user define function\n",
    "st='www.instagram.com'\n",
    "def u_remove_suffix(coll,ele):\n",
    "    if ele not in coll[len(coll)-len(ele):]:\n",
    "        return coll\n",
    "    return coll[0:len(coll)-len(ele)]\n",
    "u_remove_suffix(st,'com')"
   ]
  },
  {
   "cell_type": "code",
   "execution_count": 37,
   "metadata": {},
   "outputs": [
    {
     "data": {
      "text/plain": [
       "'***abc****'"
      ]
     },
     "execution_count": 37,
     "metadata": {},
     "output_type": "execute_result"
    }
   ],
   "source": [
    "#6.center() builtin function\n",
    "st='abc'\n",
    "st.center(10,'*')"
   ]
  },
  {
   "cell_type": "code",
   "execution_count": 30,
   "metadata": {},
   "outputs": [
    {
     "data": {
      "text/plain": [
       "'***abc****'"
      ]
     },
     "execution_count": 30,
     "metadata": {},
     "output_type": "execute_result"
    }
   ],
   "source": [
    "#center() user define function\n",
    "st='abc'\n",
    "def u_center(coll,width,fillchar=' '):\n",
    "    if len(fillchar)>1:\n",
    "        return -1\n",
    "    res=width-len(coll)\n",
    "    l=res//2\n",
    "    r=res-l\n",
    "    res=fillchar*l+coll+fillchar*r\n",
    "    return res\n",
    "u_center(st,10,'*')"
   ]
  },
  {
   "cell_type": "code",
   "execution_count": 41,
   "metadata": {},
   "outputs": [
    {
     "data": {
      "text/plain": [
       "True"
      ]
     },
     "execution_count": 41,
     "metadata": {},
     "output_type": "execute_result"
    }
   ],
   "source": [
    "#7.istitle() built in function\n",
    "st='13Hsg 13  H323B3 3B3 44Nb4Bahvjbb !#@$Gffggb'\n",
    "st.istitle()"
   ]
  },
  {
   "cell_type": "code",
   "execution_count": null,
   "metadata": {},
   "outputs": [],
   "source": [
    "st='13Hsg 13  H323B3 3B3 44Nb4Bahvjbb !#@$Gffggb'\n",
    "def u_istitle(coll):\n",
    "    if '0'<=coll[0]<='9':\n",
    "        return False"
   ]
  },
  {
   "cell_type": "code",
   "execution_count": 7,
   "metadata": {},
   "outputs": [
    {
     "name": "stdout",
     "output_type": "stream",
     "text": [
      "[10, 20, 10]\n"
     ]
    }
   ],
   "source": [
    "l=[10,20,40]\n",
    "l[2]=10\n",
    "print(l)"
   ]
  }
 ],
 "metadata": {
  "kernelspec": {
   "display_name": "Python 3",
   "language": "python",
   "name": "python3"
  },
  "language_info": {
   "codemirror_mode": {
    "name": "ipython",
    "version": 3
   },
   "file_extension": ".py",
   "mimetype": "text/x-python",
   "name": "python",
   "nbconvert_exporter": "python",
   "pygments_lexer": "ipython3",
   "version": "3.11.0"
  },
  "orig_nbformat": 4
 },
 "nbformat": 4,
 "nbformat_minor": 2
}
