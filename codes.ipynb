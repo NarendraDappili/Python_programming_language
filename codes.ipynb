{
 "cells": [
  {
   "cell_type": "code",
   "execution_count": 175,
   "metadata": {},
   "outputs": [],
   "source": [
    "#1\n",
    "a=10\n",
    "b=20\n",
    "c=a+b"
   ]
  },
  {
   "cell_type": "code",
   "execution_count": 176,
   "metadata": {},
   "outputs": [
    {
     "name": "stdout",
     "output_type": "stream",
     "text": [
      "hello world\n"
     ]
    }
   ],
   "source": [
    "#2\n",
    "print('hello world')"
   ]
  },
  {
   "cell_type": "code",
   "execution_count": 177,
   "metadata": {},
   "outputs": [
    {
     "name": "stdout",
     "output_type": "stream",
     "text": [
      "30\n"
     ]
    }
   ],
   "source": [
    "#3\n",
    "a=10\n",
    "b=20\n",
    "c=a+b\n",
    "print(c)"
   ]
  },
  {
   "cell_type": "code",
   "execution_count": 178,
   "metadata": {},
   "outputs": [
    {
     "data": {
      "text/plain": [
       "str"
      ]
     },
     "execution_count": 178,
     "metadata": {},
     "output_type": "execute_result"
    }
   ],
   "source": [
    "#4\n",
    "s='narendra'\n",
    "s\n",
    "id(s)\n",
    "type(s)\n"
   ]
  },
  {
   "cell_type": "code",
   "execution_count": 179,
   "metadata": {},
   "outputs": [
    {
     "name": "stdout",
     "output_type": "stream",
     "text": [
      "2405153224944\n",
      "<class 'str'>\n"
     ]
    }
   ],
   "source": [
    "#5\n",
    "a='eritjrjfnnfsfj'\n",
    "print(id(s))\n",
    "print(type(s))"
   ]
  },
  {
   "cell_type": "code",
   "execution_count": 180,
   "metadata": {},
   "outputs": [
    {
     "name": "stdout",
     "output_type": "stream",
     "text": [
      "narendra\n",
      "2405153224944\n"
     ]
    },
    {
     "data": {
      "text/plain": [
       "str"
      ]
     },
     "execution_count": 180,
     "metadata": {},
     "output_type": "execute_result"
    }
   ],
   "source": [
    "#6\n",
    "s='narendra'\n",
    "print(s)\n",
    "print(id(s))\n",
    "type(s)"
   ]
  },
  {
   "cell_type": "code",
   "execution_count": 181,
   "metadata": {},
   "outputs": [
    {
     "name": "stdout",
     "output_type": "stream",
     "text": [
      "narendra\n"
     ]
    },
    {
     "data": {
      "text/plain": [
       "'n'"
      ]
     },
     "execution_count": 181,
     "metadata": {},
     "output_type": "execute_result"
    }
   ],
   "source": [
    "#7\n",
    "s='narendra'\n",
    "print(s)\n",
    "s[-1]\n",
    "s[0]\n",
    "\n"
   ]
  },
  {
   "cell_type": "code",
   "execution_count": 182,
   "metadata": {},
   "outputs": [
    {
     "name": "stdout",
     "output_type": "stream",
     "text": [
      "hello world\n"
     ]
    }
   ],
   "source": [
    "#8.was to print 'hello world' by using shell\n",
    "print('hello world')"
   ]
  },
  {
   "cell_type": "code",
   "execution_count": 183,
   "metadata": {},
   "outputs": [
    {
     "name": "stdout",
     "output_type": "stream",
     "text": [
      "80\n"
     ]
    }
   ],
   "source": [
    "#9.was to initialize variable and value as 80\n",
    "a=80\n",
    "print(a)"
   ]
  },
  {
   "cell_type": "code",
   "execution_count": 184,
   "metadata": {},
   "outputs": [
    {
     "name": "stdout",
     "output_type": "stream",
     "text": [
      "180 120 280\n"
     ]
    }
   ],
   "source": [
    "#10.was to initialize multiple varaiable values are 180,120,280\n",
    "a,b,c=180,120,280\n",
    "print(a,b,c)"
   ]
  },
  {
   "cell_type": "code",
   "execution_count": 185,
   "metadata": {},
   "outputs": [
    {
     "name": "stdout",
     "output_type": "stream",
     "text": [
      "<class 'list'>\n"
     ]
    }
   ],
   "source": [
    "#11.was to print the type of data in given value\n",
    "a=[1,2,3,4]\n",
    "print(type(a))"
   ]
  },
  {
   "cell_type": "code",
   "execution_count": 186,
   "metadata": {},
   "outputs": [
    {
     "name": "stdout",
     "output_type": "stream",
     "text": [
      "2405153224944\n"
     ]
    }
   ],
   "source": [
    "#12.was to print the address of the memory block address for given value\n",
    "s='narendra'\n",
    "print(id(s))"
   ]
  },
  {
   "cell_type": "code",
   "execution_count": 187,
   "metadata": {},
   "outputs": [
    {
     "name": "stdout",
     "output_type": "stream",
     "text": [
      "narendra\n",
      "22\n",
      "dict_items([('name', 'narendra'), ('age', '22'), ('mno', 9014983958), ('mail', 'narendradappili@gmail.com')])\n",
      "dict_keys(['name', 'age', 'mno', 'mail'])\n",
      "dict_values(['narendra', '22', 9014983958, 'narendradappili@gmail.com'])\n"
     ]
    }
   ],
   "source": [
    "#13.was to print your details firtly store your details, extract the values and display it\n",
    "d={'name':'narendra','age':'22','mno':9014983958,'mail':'narendradappili@gmail.com'}\n",
    "print(d['name']) \n",
    "print(d['age'])\n",
    "print(d.items())\n",
    "print(d.keys())\n",
    "print(d.values())"
   ]
  },
  {
   "cell_type": "code",
   "execution_count": 188,
   "metadata": {},
   "outputs": [
    {
     "name": "stdout",
     "output_type": "stream",
     "text": [
      "30 20\n"
     ]
    }
   ],
   "source": [
    "#14.was to swap two variable values by using temp\n",
    "a=20\n",
    "b=30\n",
    "temp=a\n",
    "a=b\n",
    "b=temp\n",
    "print(a,b) "
   ]
  },
  {
   "cell_type": "code",
   "execution_count": 189,
   "metadata": {},
   "outputs": [
    {
     "name": "stdout",
     "output_type": "stream",
     "text": [
      "(2, 3, 4, 5, 6, 8) [1, 2, 3, 4]\n"
     ]
    }
   ],
   "source": [
    "#15.was to swap two variable values without using temp\n",
    "a=[1,2,3,4]\n",
    "b=(2,3,4,5,6,8)\n",
    "a,b=b,a\n",
    "print(a,b)"
   ]
  },
  {
   "cell_type": "code",
   "execution_count": 190,
   "metadata": {},
   "outputs": [
    {
     "name": "stdout",
     "output_type": "stream",
     "text": [
      "[1, 2, 3, 4, 5]\n",
      "(1, 2, 3, 4, 5, 6, 7)\n"
     ]
    }
   ],
   "source": [
    "#16.was to initialize a value and print the value, after print the value, then reinitialize the new value to the existing variable and display the value\n",
    "#initialization\n",
    "a=[1,2,3,4,5]\n",
    "print(a)\n",
    "#reinitialize the value\n",
    "a=(1,2,3,4,5,6,7,)\n",
    "print(a)"
   ]
  },
  {
   "cell_type": "code",
   "execution_count": 191,
   "metadata": {},
   "outputs": [
    {
     "name": "stdout",
     "output_type": "stream",
     "text": [
      "14\n"
     ]
    }
   ],
   "source": [
    "#17.was to find the length of the sequence\n",
    "s='asdjsdhuhdsfhb'\n",
    "print(len(s))"
   ]
  },
  {
   "cell_type": "code",
   "execution_count": 192,
   "metadata": {},
   "outputs": [
    {
     "name": "stdout",
     "output_type": "stream",
     "text": [
      "4\n",
      "3\n"
     ]
    }
   ],
   "source": [
    "#18.was to print the middle value and find the mid length of the sequence\n",
    "s=[1,2,3,4,5,67,8]\n",
    "print(s[len(s)//2])\n",
    "print(len(s)//2)"
   ]
  },
  {
   "cell_type": "code",
   "execution_count": 193,
   "metadata": {},
   "outputs": [
    {
     "name": "stdout",
     "output_type": "stream",
     "text": [
      "abdhjdajhdhd\n"
     ]
    }
   ],
   "source": [
    "#19.was to concate the two strings\n",
    "a='abdhjd'\n",
    "b='ajhdhd'\n",
    "print(a+b)"
   ]
  },
  {
   "cell_type": "code",
   "execution_count": 194,
   "metadata": {},
   "outputs": [
    {
     "name": "stdout",
     "output_type": "stream",
     "text": [
      "jhhfhsdjhjdf\n"
     ]
    }
   ],
   "source": [
    "#20.was to concate the new string to the ending of the string\n",
    "a='jhhfhsd'\n",
    "b='jhjdf'\n",
    "print(a+b)"
   ]
  },
  {
   "cell_type": "code",
   "execution_count": 195,
   "metadata": {},
   "outputs": [
    {
     "name": "stdout",
     "output_type": "stream",
     "text": [
      "abadgsde\n"
     ]
    }
   ],
   "source": [
    "#21.was to concate the new string to the middle of the given string\n",
    "s='abcde'\n",
    "t='adgs'\n",
    "print(s[0:len(s)//2:]+t+s[(len(s)//2)+1::])"
   ]
  },
  {
   "cell_type": "code",
   "execution_count": 196,
   "metadata": {},
   "outputs": [
    {
     "name": "stdout",
     "output_type": "stream",
     "text": [
      "pysplders\n"
     ]
    }
   ],
   "source": [
    "#22.was to modify the new value to the middle of the given string\n",
    "s='pyspiders'\n",
    "print(s[:len(s)//2]+'l'+s[(len(s)//2)+1::])"
   ]
  },
  {
   "cell_type": "code",
   "execution_count": 197,
   "metadata": {},
   "outputs": [
    {
     "name": "stdout",
     "output_type": "stream",
     "text": [
      "pyspiders\n"
     ]
    }
   ],
   "source": [
    "#23.was to mlodify the sequence of characters in string\n",
    "s='pyspiders'\n",
    "print(s[:3:]+'pid'+s[6::])"
   ]
  },
  {
   "cell_type": "code",
   "execution_count": 198,
   "metadata": {},
   "outputs": [
    {
     "name": "stdout",
     "output_type": "stream",
     "text": [
      "pyspiDers\n"
     ]
    }
   ],
   "source": [
    "#24.was to change the specific character into upper case\n",
    "s='pyspiders'\n",
    "print(s[:5]+'D'+s[6:]) "
   ]
  },
  {
   "cell_type": "code",
   "execution_count": 199,
   "metadata": {},
   "outputs": [
    {
     "name": "stdout",
     "output_type": "stream",
     "text": [
      "pypiders\n"
     ]
    }
   ],
   "source": [
    "#25.was to delete specific character from string\n",
    "s='pyspiders'\n",
    "print(s[:2]+s[3:])"
   ]
  },
  {
   "cell_type": "code",
   "execution_count": 200,
   "metadata": {},
   "outputs": [
    {
     "name": "stdout",
     "output_type": "stream",
     "text": [
      "pysers\n"
     ]
    }
   ],
   "source": [
    "#26.was to delete the sequence of characters from the given string\n",
    "s='pyspiders'\n",
    "print(s[:3]+s[6:])\n",
    "\n"
   ]
  },
  {
   "cell_type": "code",
   "execution_count": 201,
   "metadata": {},
   "outputs": [
    {
     "name": "stdout",
     "output_type": "stream",
     "text": [
      "[1, 34, 8, 4]\n"
     ]
    }
   ],
   "source": [
    "#27.was to modify the specific value in list\n",
    "l=[1,34,6,4]\n",
    "l[2]=8\n",
    "print(l)"
   ]
  },
  {
   "cell_type": "code",
   "execution_count": 202,
   "metadata": {},
   "outputs": [
    {
     "name": "stdout",
     "output_type": "stream",
     "text": [
      "[9, 2, 3, 4, 5]\n"
     ]
    }
   ],
   "source": [
    "#28.was to modify the new value to the starting of the list\n",
    "l=[1,2,3,4,5]\n",
    "l[0]=9\n",
    "print(l)"
   ]
  },
  {
   "cell_type": "code",
   "execution_count": 203,
   "metadata": {},
   "outputs": [
    {
     "name": "stdout",
     "output_type": "stream",
     "text": [
      "[1, 2, 3, 4, 9]\n"
     ]
    }
   ],
   "source": [
    "#29.was to modify the new value to the ending of the list\n",
    "l=[1,2,3,4,5]\n",
    "l[-1]=9\n",
    "print(l)"
   ]
  },
  {
   "cell_type": "code",
   "execution_count": 204,
   "metadata": {},
   "outputs": [
    {
     "name": "stdout",
     "output_type": "stream",
     "text": [
      "[1, 2, 9, 4, 5]\n"
     ]
    }
   ],
   "source": [
    "#30.was to modify the new value to the middle of the list\n",
    "l=[1,2,3,4,5]\n",
    "l[len(l)//2]=9\n",
    "print(l)"
   ]
  },
  {
   "cell_type": "code",
   "execution_count": 205,
   "metadata": {},
   "outputs": [
    {
     "name": "stdout",
     "output_type": "stream",
     "text": [
      "[9, 10, 11, 12, 5, 6, 7, 8]\n"
     ]
    }
   ],
   "source": [
    "#31.was to modify the starting four positions of the list\n",
    "l=[1,2,3,4,5,6,7,8]\n",
    "l[0:4]=[9,10,11,12]\n",
    "print(l)"
   ]
  },
  {
   "cell_type": "code",
   "execution_count": 206,
   "metadata": {},
   "outputs": [
    {
     "name": "stdout",
     "output_type": "stream",
     "text": [
      "[2, 3, 4, 5]\n"
     ]
    }
   ],
   "source": [
    "#32.was to delete the specific element from the list\n",
    "l=[1,2,3,4,5]\n",
    "del l[0]\n",
    "print(l)"
   ]
  },
  {
   "cell_type": "code",
   "execution_count": 207,
   "metadata": {},
   "outputs": [
    {
     "name": "stdout",
     "output_type": "stream",
     "text": [
      "[2, 3, 4, 5]\n"
     ]
    }
   ],
   "source": [
    "#33.was to delete the specific value from  the list without using del keyword\n",
    "l=[1,2,3,4,5]\n",
    "l[0:1]=[]\n",
    "print(l)"
   ]
  },
  {
   "cell_type": "code",
   "execution_count": 208,
   "metadata": {},
   "outputs": [
    {
     "name": "stdout",
     "output_type": "stream",
     "text": [
      "[10, 20, 30, 40, 'a', 's', 'd']\n"
     ]
    }
   ],
   "source": [
    "#34.was to concate the new collection to the list\n",
    "l=[10,20,30,40]\n",
    "m='asd'\n",
    "print(l+list(m))\n",
    "\n"
   ]
  },
  {
   "cell_type": "code",
   "execution_count": 209,
   "metadata": {},
   "outputs": [
    {
     "name": "stdout",
     "output_type": "stream",
     "text": [
      "2405153344064\n",
      "[10, 20, 30, 40, 'a', 's', 'd']\n",
      "2405179583232\n"
     ]
    }
   ],
   "source": [
    "#35.was to concate the new collection to the list \n",
    "# to different address\n",
    "l=[10,20,30,40]\n",
    "print(id(l))\n",
    "m='asd'\n",
    "l=l+list(m)\n",
    "print(l)\n",
    "print(id(l))"
   ]
  },
  {
   "cell_type": "code",
   "execution_count": 210,
   "metadata": {},
   "outputs": [
    {
     "name": "stdout",
     "output_type": "stream",
     "text": [
      "2405179927680\n",
      "[10, 20, 30, 40, 'a', 's', 'd']\n",
      "2405179927680\n"
     ]
    }
   ],
   "source": [
    "#36.was to concate the new collection to the list \n",
    "# to same address by using compound assingnment operator\n",
    "l=[10,20,30,40]\n",
    "print(id(l))\n",
    "m='asd'\n",
    "l+=list(m)\n",
    "print(l)\n",
    "print(id(l))"
   ]
  },
  {
   "cell_type": "code",
   "execution_count": 211,
   "metadata": {},
   "outputs": [
    {
     "name": "stdout",
     "output_type": "stream",
     "text": [
      "2405179548480\n",
      "{1, 2, 3, 4, 40, 10, 20, 30}\n",
      "2405179547136\n"
     ]
    }
   ],
   "source": [
    "#37.was to concate the new valus into set\n",
    "# to different address\n",
    "s={10,20,30,40}\n",
    "print(id(s))\n",
    "s=s|{1,2,3,4}\n",
    "print(s)\n",
    "print(id(s))"
   ]
  },
  {
   "cell_type": "code",
   "execution_count": 212,
   "metadata": {},
   "outputs": [
    {
     "name": "stdout",
     "output_type": "stream",
     "text": [
      "{40, 10, 20, 30} 2405179545792\n",
      "{1, 2, 3, 4, 40, 10, 20, 30}\n",
      "2405179545792\n"
     ]
    }
   ],
   "source": [
    "#38.was to concate the new valus into set\n",
    "# to same address by using compound assignment operator\n",
    "s={10,20,30,40}\n",
    "print(s,id(s))\n",
    "s|={1,2,3,4}\n",
    "print(s)\n",
    "print(id(s))"
   ]
  },
  {
   "cell_type": "code",
   "execution_count": 213,
   "metadata": {},
   "outputs": [
    {
     "name": "stdout",
     "output_type": "stream",
     "text": [
      "{40, 10, 20, 30}\n",
      "2405179548704\n",
      "{40, 30}\n",
      "2405179548704\n"
     ]
    }
   ],
   "source": [
    "#39.was to perform difference operation on set\n",
    "s={10,20,30,40}\n",
    "print(s)\n",
    "print(id(s))\n",
    "s-={10,20}\n",
    "print(s)\n",
    "print(id(s))"
   ]
  },
  {
   "cell_type": "code",
   "execution_count": 214,
   "metadata": {},
   "outputs": [
    {
     "name": "stdout",
     "output_type": "stream",
     "text": [
      "{1: 10, 2: [1, 2, 3], 3: 'abc', 4: (10, 20)}\n"
     ]
    }
   ],
   "source": [
    "#40.was to concate the new value pair to the dictionary\n",
    "d={1:10,2:[1,2,3],3:'abc'}\n",
    "d[4]=(10,20)\n",
    "print(d)\n"
   ]
  },
  {
   "cell_type": "code",
   "execution_count": 215,
   "metadata": {},
   "outputs": [
    {
     "name": "stdout",
     "output_type": "stream",
     "text": [
      "{1: 100, 2: [1, 2, 3], 3: 'abc'}\n"
     ]
    }
   ],
   "source": [
    "#41.was to modufy the specific value in the dictionary\n",
    "d={1:10,2:[1,2,3],3:'abc'}\n",
    "d[1]=100\n",
    "print(d)"
   ]
  },
  {
   "cell_type": "code",
   "execution_count": 216,
   "metadata": {},
   "outputs": [
    {
     "name": "stdout",
     "output_type": "stream",
     "text": [
      "{2: [1, 2, 3], 3: 'abc'}\n"
     ]
    }
   ],
   "source": [
    "#42.was to delete specific value from dict\n",
    "d={1:10,2:[1,2,3],3:'abc'}\n",
    "del d[1]\n",
    "print(d)"
   ]
  },
  {
   "cell_type": "code",
   "execution_count": 217,
   "metadata": {},
   "outputs": [
    {
     "name": "stdout",
     "output_type": "stream",
     "text": [
      "[1, 2, 3, 4, 5, 10, 20, 30]\n"
     ]
    }
   ],
   "source": [
    "#43.was to concate list and tuple values by using typecasting\n",
    "l=[1,2,3,4,5]\n",
    "m=10,20,30,\n",
    "print(l+list(m))"
   ]
  },
  {
   "cell_type": "code",
   "execution_count": 218,
   "metadata": {},
   "outputs": [
    {
     "name": "stdout",
     "output_type": "stream",
     "text": [
      "[1, 2, 3, 4, 5, 10, 20, 30]\n"
     ]
    }
   ],
   "source": [
    "#44.was to concate list and tuple values without using typecasting\n",
    "# by using assignment operator\n",
    "l=[1,2,3,4,5]\n",
    "m=10,20,30,\n",
    "l+=m\n",
    "print(l)"
   ]
  },
  {
   "cell_type": "code",
   "execution_count": 219,
   "metadata": {},
   "outputs": [
    {
     "name": "stdout",
     "output_type": "stream",
     "text": [
      "True\n"
     ]
    }
   ],
   "source": [
    "#45.was to check the number is divisible by 3\n",
    "n=12\n",
    "print(n%3==0)"
   ]
  },
  {
   "cell_type": "code",
   "execution_count": 220,
   "metadata": {},
   "outputs": [
    {
     "name": "stdout",
     "output_type": "stream",
     "text": [
      "True\n",
      "False\n"
     ]
    }
   ],
   "source": [
    "#46.was to check the number is divisible by 2 and 6\n",
    "n=12\n",
    "print(n%2==0 and n%6==0)\n",
    "m=13\n",
    "print(m%2==0 and m%6==0)"
   ]
  },
  {
   "cell_type": "code",
   "execution_count": 221,
   "metadata": {},
   "outputs": [
    {
     "name": "stdout",
     "output_type": "stream",
     "text": [
      "True\n",
      "False\n"
     ]
    }
   ],
   "source": [
    "#47.was to check the last digit is divisible by 3 from given integer\n",
    "n=1999\n",
    "res=n%10\n",
    "print(res%3==0)\n",
    "\n",
    "\n",
    "#------\n",
    "n=1995\n",
    "res=n%10\n",
    "print(res%3==0)\n"
   ]
  },
  {
   "cell_type": "code",
   "execution_count": 222,
   "metadata": {},
   "outputs": [
    {
     "name": "stdout",
     "output_type": "stream",
     "text": [
      "1783\n"
     ]
    }
   ],
   "source": [
    "#48.was to convert integer to string with using type casting\n",
    "n=1783\n",
    "res = str(n)\n",
    "print(res)"
   ]
  },
  {
   "cell_type": "code",
   "execution_count": 223,
   "metadata": {},
   "outputs": [
    {
     "name": "stdout",
     "output_type": "stream",
     "text": [
      "True\n",
      "False\n"
     ]
    }
   ],
   "source": [
    "#49.was to check the given number is greater than 150\n",
    "n=1783\n",
    "print(n>150)\n",
    "\n",
    "m=140\n",
    "print(m>150)"
   ]
  },
  {
   "cell_type": "code",
   "execution_count": 224,
   "metadata": {},
   "outputs": [
    {
     "name": "stdout",
     "output_type": "stream",
     "text": [
      "True\n",
      "False\n"
     ]
    }
   ],
   "source": [
    "#50.was to check the given number is greater than or equal to 150\n",
    "n=1783\n",
    "print(n>=150)\n",
    "\n",
    "m=130\n",
    "print(m>=150)"
   ]
  },
  {
   "cell_type": "code",
   "execution_count": 225,
   "metadata": {},
   "outputs": [
    {
     "name": "stdout",
     "output_type": "stream",
     "text": [
      "False\n"
     ]
    }
   ],
   "source": [
    "#51.was to check the given number is less than 150\n",
    "n=1783\n",
    "print(n<150)"
   ]
  },
  {
   "cell_type": "code",
   "execution_count": 226,
   "metadata": {},
   "outputs": [
    {
     "name": "stdout",
     "output_type": "stream",
     "text": [
      "False\n",
      "True\n"
     ]
    }
   ],
   "source": [
    "#52.was to check the given number is less than 150\n",
    "n=1783\n",
    "print(n<100)\n",
    "\n",
    "m=100\n",
    "print(m<=100)"
   ]
  },
  {
   "cell_type": "code",
   "execution_count": 227,
   "metadata": {},
   "outputs": [
    {
     "name": "stdout",
     "output_type": "stream",
     "text": [
      "True\n"
     ]
    }
   ],
   "source": [
    "#53.was to check the given number is greater than 15 and less than 24\n",
    "n=17\n",
    "print(n>15 and n<24)\n"
   ]
  },
  {
   "cell_type": "code",
   "execution_count": 228,
   "metadata": {},
   "outputs": [
    {
     "name": "stdout",
     "output_type": "stream",
     "text": [
      "False\n",
      "True\n"
     ]
    }
   ],
   "source": [
    "#54.was to check the given number is even number\n",
    "n=1783\n",
    "print(n%2==0)\n",
    "\n",
    "m=468\n",
    "print(m%2==0)"
   ]
  },
  {
   "cell_type": "code",
   "execution_count": 229,
   "metadata": {},
   "outputs": [
    {
     "name": "stdout",
     "output_type": "stream",
     "text": [
      "True\n",
      "False\n"
     ]
    }
   ],
   "source": [
    "#55.was to check the given number is odd number\n",
    "n=1783\n",
    "print(n%2!=0)\n",
    "\n",
    "m=468\n",
    "print(m%2!=0)"
   ]
  },
  {
   "cell_type": "code",
   "execution_count": 230,
   "metadata": {},
   "outputs": [
    {
     "name": "stdout",
     "output_type": "stream",
     "text": [
      "asdasdasdasdasdasd\n"
     ]
    }
   ],
   "source": [
    "#56.was to check perform the replication of a given string with 6\n",
    "# .... multiplication between one integer and collection datatype is called replication\n",
    "s='asd'\n",
    "print(s*6)"
   ]
  },
  {
   "cell_type": "code",
   "execution_count": 231,
   "metadata": {},
   "outputs": [
    {
     "name": "stdout",
     "output_type": "stream",
     "text": [
      "True\n",
      "False\n"
     ]
    }
   ],
   "source": [
    "#57.was to check the number is divisible by three and also greater then 23\n",
    "n=30\n",
    "print(n%3==0 and n>23)\n",
    "\n",
    "m=18\n",
    "print(m%3==0 and m>23)"
   ]
  },
  {
   "cell_type": "code",
   "execution_count": 232,
   "metadata": {},
   "outputs": [
    {
     "name": "stdout",
     "output_type": "stream",
     "text": [
      "9\n",
      "False\n"
     ]
    }
   ],
   "source": [
    "#58.was to check the length of given collection is even or odd\n",
    "a='12334njff'\n",
    "print(len(a))\n",
    "print(len(a)%2==0)"
   ]
  },
  {
   "cell_type": "code",
   "execution_count": 233,
   "metadata": {},
   "outputs": [
    {
     "name": "stdout",
     "output_type": "stream",
     "text": [
      "True\n"
     ]
    }
   ],
   "source": [
    "#59.was to check the length of the collection is less than 55 and grater than the 16\n",
    "t='12345hg32hjgkhhajhdfkfjj'\n",
    "print(len(t)>16 and len(t)<55)"
   ]
  },
  {
   "cell_type": "code",
   "execution_count": 234,
   "metadata": {},
   "outputs": [
    {
     "name": "stdout",
     "output_type": "stream",
     "text": [
      "30\n",
      "False\n"
     ]
    }
   ],
   "source": [
    "#60.was to check the length of the collection is divisible by 5 and odd\n",
    "t='12345hg32hjgkhhajhdfkfjjsqwert'\n",
    "print(len(t))\n",
    "print(len(t)%5==0 and len(t)%2!=0)"
   ]
  },
  {
   "cell_type": "code",
   "execution_count": 235,
   "metadata": {},
   "outputs": [
    {
     "name": "stdout",
     "output_type": "stream",
     "text": [
      "<class 'str'>\n"
     ]
    }
   ],
   "source": [
    "#61.was to check the middle value of a given collection is which type\n",
    "s='asdjf'\n",
    "res=type(s[(len(s)//2)])\n",
    "print(res)"
   ]
  },
  {
   "cell_type": "code",
   "execution_count": 236,
   "metadata": {},
   "outputs": [
    {
     "name": "stdout",
     "output_type": "stream",
     "text": [
      "True\n"
     ]
    }
   ],
   "source": [
    "#62.was to check the number is divisible by 20 and 30 and it should be even\n",
    "n=360\n",
    "print(n%20==0 and n%30==0 and n%2==0)"
   ]
  },
  {
   "cell_type": "code",
   "execution_count": 237,
   "metadata": {},
   "outputs": [
    {
     "name": "stdout",
     "output_type": "stream",
     "text": [
      "True\n"
     ]
    }
   ],
   "source": [
    "#63.was to check the number is even and less than 120\n",
    "n=110\n",
    "print(n%2==0 and n<120)"
   ]
  },
  {
   "cell_type": "code",
   "execution_count": 238,
   "metadata": {},
   "outputs": [
    {
     "name": "stdout",
     "output_type": "stream",
     "text": [
      "True\n"
     ]
    }
   ],
   "source": [
    "#64.was to check the number is even and less than or equal to 70 and grater than or equal to 40\n",
    "n=50\n",
    "print(n%2==0 and n>=40 and n<=70)"
   ]
  },
  {
   "cell_type": "code",
   "execution_count": 239,
   "metadata": {},
   "outputs": [
    {
     "name": "stdout",
     "output_type": "stream",
     "text": [
      "True\n"
     ]
    }
   ],
   "source": [
    "#65.was to check the number is odd and grater than 97\n",
    "n=95\n",
    "print(n%2!=0 and n<97)"
   ]
  },
  {
   "cell_type": "code",
   "execution_count": 240,
   "metadata": {},
   "outputs": [
    {
     "name": "stdout",
     "output_type": "stream",
     "text": [
      "True\n"
     ]
    }
   ],
   "source": [
    "#66.was to check the number is grater than 48 andless than 122 and divisible by 4\n",
    "n=112\n",
    "print(n%4==0 and n>48 and n<122)"
   ]
  },
  {
   "cell_type": "code",
   "execution_count": 241,
   "metadata": {},
   "outputs": [
    {
     "name": "stdout",
     "output_type": "stream",
     "text": [
      "True\n"
     ]
    }
   ],
   "source": [
    "#67.was to check the number is divisible 3 or 5\n",
    "n=110\n",
    "print(n%3==0 or n%5==0)"
   ]
  },
  {
   "cell_type": "code",
   "execution_count": 242,
   "metadata": {},
   "outputs": [
    {
     "name": "stdout",
     "output_type": "stream",
     "text": [
      "100\n",
      "True\n"
     ]
    }
   ],
   "source": [
    "#68.was to check the last character's ascii value should be divisible by 5\n",
    "s='asdfgd'\n",
    "print(ord(s[-1]))\n",
    "print((ord(s[-1]))%5==0)"
   ]
  },
  {
   "cell_type": "code",
   "execution_count": 243,
   "metadata": {},
   "outputs": [
    {
     "name": "stdout",
     "output_type": "stream",
     "text": [
      "True\n"
     ]
    }
   ],
   "source": [
    "#69.was to check the given number is present b/w 60 and 130 and the number should be divisible by 3 and 4and the last didit should be less than 9.\n",
    "n=120\n",
    "print(60<=n<=130 and n%3==0 and n%4==0 and (n%10)<9)"
   ]
  },
  {
   "cell_type": "code",
   "execution_count": 244,
   "metadata": {},
   "outputs": [
    {
     "name": "stdout",
     "output_type": "stream",
     "text": [
      "True\n"
     ]
    }
   ],
   "source": [
    "#70.was to check the given number is even or less than 25.\n",
    "n=24\n",
    "print(n%2==0 or n<25)"
   ]
  },
  {
   "cell_type": "code",
   "execution_count": 245,
   "metadata": {},
   "outputs": [
    {
     "name": "stdout",
     "output_type": "stream",
     "text": [
      "True\n"
     ]
    }
   ],
   "source": [
    "#71.was to check the given number is even or greater than 25.\n",
    "n=31\n",
    "print(n%2==0 or n>25)"
   ]
  },
  {
   "cell_type": "code",
   "execution_count": 246,
   "metadata": {},
   "outputs": [
    {
     "name": "stdout",
     "output_type": "stream",
     "text": [
      "True\n"
     ]
    }
   ],
   "source": [
    "#72.was to check the number is divisible by 3 or 5\n",
    "n=20\n",
    "print(n%3==0 or n%5==0)"
   ]
  },
  {
   "cell_type": "code",
   "execution_count": 247,
   "metadata": {},
   "outputs": [
    {
     "name": "stdout",
     "output_type": "stream",
     "text": [
      "True\n"
     ]
    }
   ],
   "source": [
    "#73.was to check the number is not an even number\n",
    "n=25\n",
    "print(n%2!=0)"
   ]
  },
  {
   "cell_type": "code",
   "execution_count": 250,
   "metadata": {},
   "outputs": [
    {
     "name": "stdout",
     "output_type": "stream",
     "text": [
      "97\n"
     ]
    }
   ],
   "source": [
    "#74.was to find ascii value of given character\n",
    "n='a'\n",
    "print(ord(n))"
   ]
  },
  {
   "cell_type": "code",
   "execution_count": 251,
   "metadata": {},
   "outputs": [
    {
     "name": "stdout",
     "output_type": "stream",
     "text": [
      "65\n"
     ]
    }
   ],
   "source": [
    "#75.was to find ascii value of given character\n",
    "n='A'\n",
    "print(ord(n))"
   ]
  },
  {
   "cell_type": "code",
   "execution_count": 253,
   "metadata": {},
   "outputs": [
    {
     "name": "stdout",
     "output_type": "stream",
     "text": [
      "A\n"
     ]
    }
   ],
   "source": [
    "#76.was to find character of given ascii value\n",
    "ch=65\n",
    "print(chr(ch))"
   ]
  },
  {
   "cell_type": "code",
   "execution_count": 254,
   "metadata": {},
   "outputs": [
    {
     "name": "stdout",
     "output_type": "stream",
     "text": [
      "m\n"
     ]
    }
   ],
   "source": [
    "#77.was to find ascii value of given character\n",
    "ch=109\n",
    "print(chr(ch))"
   ]
  },
  {
   "cell_type": "code",
   "execution_count": 255,
   "metadata": {},
   "outputs": [
    {
     "name": "stdout",
     "output_type": "stream",
     "text": [
      "True\n"
     ]
    }
   ],
   "source": [
    "#78.was to check given character is in uppercase or not\n",
    "n='A'\n",
    "print(n<='A' and n<='Z')"
   ]
  },
  {
   "cell_type": "code",
   "execution_count": 256,
   "metadata": {},
   "outputs": [
    {
     "name": "stdout",
     "output_type": "stream",
     "text": [
      "True\n"
     ]
    }
   ],
   "source": [
    "#79.was to check given character is in lowercase or not\n",
    "n='a'\n",
    "print(n<='a' and n<='z')"
   ]
  },
  {
   "cell_type": "code",
   "execution_count": 267,
   "metadata": {},
   "outputs": [
    {
     "name": "stdout",
     "output_type": "stream",
     "text": [
      "False\n"
     ]
    }
   ],
   "source": [
    "#80.was to check given character is in uppercase or not\n",
    "n='AD'\n",
    "print(len(n)==1 and (n<='A' and n<='Z'))"
   ]
  },
  {
   "cell_type": "code",
   "execution_count": 259,
   "metadata": {},
   "outputs": [
    {
     "name": "stdout",
     "output_type": "stream",
     "text": [
      "False\n"
     ]
    }
   ],
   "source": [
    "#81.was to check given character is in lowercase or not\n",
    "n='abc'\n",
    "print(len(n)==1 and n<='A' and n<='Z')"
   ]
  },
  {
   "cell_type": "code",
   "execution_count": 272,
   "metadata": {},
   "outputs": [
    {
     "name": "stdout",
     "output_type": "stream",
     "text": [
      "True\n"
     ]
    }
   ],
   "source": [
    "#82.was to check given character is alphabet\n",
    "n='A'\n",
    "print(n>='A' or n<='Z' or 'a'<=n<='z')"
   ]
  },
  {
   "cell_type": "code",
   "execution_count": 277,
   "metadata": {},
   "outputs": [
    {
     "name": "stdout",
     "output_type": "stream",
     "text": [
      "False\n"
     ]
    }
   ],
   "source": [
    "#83.was to check given character is alphabet\n",
    "n='Aaa'\n",
    "print(len(n)==1 and (n>='A' or n<='Z' or 'a'<=n<='z'))"
   ]
  },
  {
   "cell_type": "code",
   "execution_count": 273,
   "metadata": {},
   "outputs": [
    {
     "name": "stdout",
     "output_type": "stream",
     "text": [
      "True\n"
     ]
    }
   ],
   "source": [
    "#84.was to check given character is ascii value or not\n",
    "n='9'\n",
    "print(n>='0' and n<='9')"
   ]
  },
  {
   "cell_type": "code",
   "execution_count": 280,
   "metadata": {},
   "outputs": [
    {
     "name": "stdout",
     "output_type": "stream",
     "text": [
      "False\n"
     ]
    }
   ],
   "source": [
    "#85.was to check given character is ascii value or not\n",
    "n='976'\n",
    "print(len(n)==1 and n>='0' and n<='9')"
   ]
  },
  {
   "cell_type": "code",
   "execution_count": 283,
   "metadata": {},
   "outputs": [
    {
     "name": "stdout",
     "output_type": "stream",
     "text": [
      "True\n"
     ]
    }
   ],
   "source": [
    "#86.was to check given character is special character or not\n",
    "n='/'\n",
    "print(not(n>='A' and n<='Z' and 'a'<=n<='z' and n>='0' and n<='9'))"
   ]
  },
  {
   "cell_type": "code",
   "execution_count": 286,
   "metadata": {},
   "outputs": [
    {
     "name": "stdout",
     "output_type": "stream",
     "text": [
      "True\n"
     ]
    }
   ],
   "source": [
    "#87.was to check the character is present in the collection or not\n",
    "ch='dfg'\n",
    "print(ch in 'abcndfgmki')"
   ]
  },
  {
   "cell_type": "code",
   "execution_count": 287,
   "metadata": {},
   "outputs": [
    {
     "name": "stdout",
     "output_type": "stream",
     "text": [
      "False\n"
     ]
    }
   ],
   "source": [
    "#88.was to check the character is present in the collection or not\n",
    "ch='dg'\n",
    "print(ch in 'abcndfgmki')"
   ]
  },
  {
   "cell_type": "code",
   "execution_count": 288,
   "metadata": {},
   "outputs": [
    {
     "name": "stdout",
     "output_type": "stream",
     "text": [
      "a\n"
     ]
    }
   ],
   "source": [
    "#89.was to convert uppercase to lowercase character\n",
    "ch='A'\n",
    "print(chr(ord(ch)+32))"
   ]
  },
  {
   "cell_type": "code",
   "execution_count": 289,
   "metadata": {},
   "outputs": [
    {
     "name": "stdout",
     "output_type": "stream",
     "text": [
      "False\n"
     ]
    }
   ],
   "source": [
    "#90.was to convert uppercase to lowercase character\n",
    "ch='Aaa'\n",
    "print(len(ch)==1 and chr(ord(ch)+32))"
   ]
  },
  {
   "cell_type": "code",
   "execution_count": 290,
   "metadata": {},
   "outputs": [
    {
     "name": "stdout",
     "output_type": "stream",
     "text": [
      "A\n"
     ]
    }
   ],
   "source": [
    "#91.was to convert lowercase to uppercase character\n",
    "ch='a'\n",
    "print(chr(ord(ch)-32))"
   ]
  },
  {
   "cell_type": "code",
   "execution_count": 291,
   "metadata": {},
   "outputs": [
    {
     "name": "stdout",
     "output_type": "stream",
     "text": [
      "False\n"
     ]
    }
   ],
   "source": [
    "#92.was to convert lowercase to uppercase character\n",
    "ch='abf'\n",
    "print(len(ch)==1 and chr(ord(ch)+32))"
   ]
  },
  {
   "cell_type": "code",
   "execution_count": 292,
   "metadata": {},
   "outputs": [
    {
     "name": "stdout",
     "output_type": "stream",
     "text": [
      "True\n"
     ]
    }
   ],
   "source": [
    "#93.was to check the character is vowel or not\n",
    "ch='a'\n",
    "print(ch in 'aeiouAEIOU')"
   ]
  },
  {
   "cell_type": "code",
   "execution_count": 293,
   "metadata": {},
   "outputs": [
    {
     "name": "stdout",
     "output_type": "stream",
     "text": [
      "False\n"
     ]
    }
   ],
   "source": [
    "#94.was to check the character is vowel or not\n",
    "ch='acs'\n",
    "print(len(ch)==1 and ch in 'aeiouAEIOU')"
   ]
  },
  {
   "cell_type": "code",
   "execution_count": 295,
   "metadata": {},
   "outputs": [
    {
     "name": "stdout",
     "output_type": "stream",
     "text": [
      "B\n"
     ]
    }
   ],
   "source": [
    "#95.was to extract the next character of given character\n",
    "ch='A' \n",
    "print(chr(ord(ch)+1))"
   ]
  },
  {
   "cell_type": "code",
   "execution_count": 297,
   "metadata": {},
   "outputs": [
    {
     "name": "stdout",
     "output_type": "stream",
     "text": [
      "False\n"
     ]
    }
   ],
   "source": [
    "#96.was to extract the next character of given character\n",
    "ch='Aaa' \n",
    "print(len(ch)==1 and chr(ord(ch)+1))"
   ]
  },
  {
   "cell_type": "code",
   "execution_count": 298,
   "metadata": {},
   "outputs": [
    {
     "name": "stdout",
     "output_type": "stream",
     "text": [
      "A\n"
     ]
    }
   ],
   "source": [
    "#97.was to extract the previous character of given character\n",
    "ch='B' \n",
    "print(chr(ord(ch)-1))"
   ]
  },
  {
   "cell_type": "code",
   "execution_count": 299,
   "metadata": {},
   "outputs": [
    {
     "name": "stdout",
     "output_type": "stream",
     "text": [
      "False\n"
     ]
    }
   ],
   "source": [
    "#98.was to extract the previous character of given character\n",
    "ch='Baa' \n",
    "print(len(ch)==1 and chr(ord(ch)-1))"
   ]
  },
  {
   "cell_type": "code",
   "execution_count": 332,
   "metadata": {},
   "outputs": [
    {
     "name": "stdout",
     "output_type": "stream",
     "text": [
      "True\n"
     ]
    }
   ],
   "source": [
    "#99.was to check the given character is converted to ascii value and the value is even as well as the character as well as the character should be lowercase.\n",
    "ch='b'\n",
    "print(ord(ch)%2==0 and 'a'<=ch<='z')"
   ]
  },
  {
   "cell_type": "code",
   "execution_count": 333,
   "metadata": {},
   "outputs": [
    {
     "name": "stdout",
     "output_type": "stream",
     "text": [
      "False\n"
     ]
    }
   ],
   "source": [
    "#100.was to check the given character is converted to ascii value and the value is even as well as the character should be lowercase.\n",
    "ch='ba'\n",
    "print(len(ch)==1 and ord(ch)%2==0 and 'a'<=ch<='z')"
   ]
  },
  {
   "cell_type": "code",
   "execution_count": 55,
   "metadata": {},
   "outputs": [
    {
     "name": "stdout",
     "output_type": "stream",
     "text": [
      "True\n",
      "False\n",
      "dict_keys(['a'])\n"
     ]
    }
   ],
   "source": [
    "#101.was to check the dict value in tuple\n",
    "t=(10,[10],['a'],30,40,50)\n",
    "d={'a':10}\n",
    "print(d['a'] in t)\n",
    "print(d.keys() in t)\n",
    "print(d.keys())\n"
   ]
  },
  {
   "cell_type": "code",
   "execution_count": 4,
   "metadata": {},
   "outputs": [
    {
     "name": "stdout",
     "output_type": "stream",
     "text": [
      "False\n"
     ]
    }
   ],
   "source": [
    "#102.was to check the given character is converted to ascii value and the value is odd as well as the character should be uppercase.\n",
    "ch='B'\n",
    "print(ord(ch)%2!=0 and 'A'<=ch<='Z')"
   ]
  },
  {
   "cell_type": "code",
   "execution_count": 5,
   "metadata": {},
   "outputs": [
    {
     "name": "stdout",
     "output_type": "stream",
     "text": [
      "False\n"
     ]
    }
   ],
   "source": [
    "#103.was to check the given character is converted to ascii value and the value is odd as well as the character should be uppercase.\n",
    "ch='Ba'\n",
    "print(len(ch)==1 and ord(ch)%2!=0 and 'A'<=ch<='Z')"
   ]
  },
  {
   "cell_type": "code",
   "execution_count": 7,
   "metadata": {},
   "outputs": [
    {
     "name": "stdout",
     "output_type": "stream",
     "text": [
      "True\n"
     ]
    }
   ],
   "source": [
    "#104.was to covert the numer into character and it is not a special symbol\n",
    "n=100\n",
    "print('a'<=chr(n)<='z' or 'A'<=chr(n)<='Z' or '0'<=chr(n)<='9')"
   ]
  },
  {
   "cell_type": "code",
   "execution_count": 8,
   "metadata": {},
   "outputs": [
    {
     "name": "stdout",
     "output_type": "stream",
     "text": [
      "True\n"
     ]
    }
   ],
   "source": [
    "#105.was to covert the numer into character and it is vowel\n",
    "n=101\n",
    "print(chr(n) in 'aeiouAEIOU')"
   ]
  },
  {
   "cell_type": "code",
   "execution_count": 9,
   "metadata": {},
   "outputs": [
    {
     "name": "stdout",
     "output_type": "stream",
     "text": [
      "True\n"
     ]
    }
   ],
   "source": [
    "#106.was to covert the numer into character and it is vowel\n",
    "n=65\n",
    "print(chr(n) in 'aeiouAEIOU')"
   ]
  },
  {
   "cell_type": "code",
   "execution_count": 10,
   "metadata": {},
   "outputs": [
    {
     "name": "stdout",
     "output_type": "stream",
     "text": [
      "True\n"
     ]
    }
   ],
   "source": [
    "#107.was to covert the numer into character and it is vowel\n",
    "n=101\n",
    "print(chr(n) in 'aeiouAEIOU')"
   ]
  },
  {
   "cell_type": "code",
   "execution_count": 11,
   "metadata": {},
   "outputs": [
    {
     "name": "stdout",
     "output_type": "stream",
     "text": [
      "True\n"
     ]
    }
   ],
   "source": [
    "#108. was to check the first and second characters are sequence or not in given string\n",
    "s='abcd'\n",
    "print((ord(s[0])+1) == ord(s[1]))"
   ]
  },
  {
   "cell_type": "code",
   "execution_count": 12,
   "metadata": {},
   "outputs": [
    {
     "name": "stdout",
     "output_type": "stream",
     "text": [
      "False\n"
     ]
    }
   ],
   "source": [
    "#109. was to check the first and second characters are sequence or not in given string\n",
    "s='afcd'\n",
    "print((ord(s[0])+1) == ord(s[1]))"
   ]
  },
  {
   "cell_type": "code",
   "execution_count": 15,
   "metadata": {},
   "outputs": [
    {
     "name": "stdout",
     "output_type": "stream",
     "text": [
      "True\n"
     ]
    }
   ],
   "source": [
    "#110. was to check the ascii value of a character is greater than 50 and greater than 25 or less than 112.\n",
    "n='a'\n",
    "print(ord(n) > 25 or ord(n) < 112 ) "
   ]
  },
  {
   "cell_type": "code",
   "execution_count": 19,
   "metadata": {},
   "outputs": [
    {
     "name": "stdout",
     "output_type": "stream",
     "text": [
      "101\n"
     ]
    }
   ],
   "source": [
    "#111.was to perform the incriment of one in given number\n",
    "n=100\n",
    "n+=1\n",
    "print(n)"
   ]
  },
  {
   "cell_type": "code",
   "execution_count": 20,
   "metadata": {},
   "outputs": [
    {
     "name": "stdout",
     "output_type": "stream",
     "text": [
      "102\n"
     ]
    }
   ],
   "source": [
    "#112.was to perform the incriment of two in given number\n",
    "n=100\n",
    "n+=2\n",
    "print(n)"
   ]
  },
  {
   "cell_type": "code",
   "execution_count": 21,
   "metadata": {},
   "outputs": [
    {
     "name": "stdout",
     "output_type": "stream",
     "text": [
      "99\n"
     ]
    }
   ],
   "source": [
    "#113.was to perform the decriment of one in given number\n",
    "n=100\n",
    "n-=1\n",
    "print(n)"
   ]
  },
  {
   "cell_type": "code",
   "execution_count": 22,
   "metadata": {},
   "outputs": [
    {
     "name": "stdout",
     "output_type": "stream",
     "text": [
      "98\n"
     ]
    }
   ],
   "source": [
    "#114.was to perform the incriment of two in given number\n",
    "n=100\n",
    "n-=2\n",
    "print(n)"
   ]
  },
  {
   "cell_type": "code",
   "execution_count": 23,
   "metadata": {},
   "outputs": [
    {
     "name": "stdout",
     "output_type": "stream",
     "text": [
      "True\n"
     ]
    }
   ],
   "source": [
    "#115.was to check the given integer is present in collection\n",
    "n=10\n",
    "s=[1,2,3,4,10]\n",
    "print(n in s)"
   ]
  },
  {
   "cell_type": "code",
   "execution_count": 24,
   "metadata": {},
   "outputs": [
    {
     "name": "stdout",
     "output_type": "stream",
     "text": [
      "False\n"
     ]
    }
   ],
   "source": [
    "#116.was to check the given integer is present in collection\n",
    "n=20\n",
    "s=[1,2,3,4,10]\n",
    "print(n in s)"
   ]
  },
  {
   "cell_type": "code",
   "execution_count": 26,
   "metadata": {},
   "outputs": [
    {
     "name": "stdout",
     "output_type": "stream",
     "text": [
      "22\n"
     ]
    }
   ],
   "source": [
    "#117.was to perform addition operation on a nd b values and value should be assign to a\n",
    "a=10\n",
    "b=12\n",
    "a+=b\n",
    "print(a)"
   ]
  },
  {
   "cell_type": "code",
   "execution_count": 27,
   "metadata": {},
   "outputs": [
    {
     "name": "stdout",
     "output_type": "stream",
     "text": [
      "True\n"
     ]
    }
   ],
   "source": [
    "#118.was to check the given value is present in collection\n",
    "n='abc'\n",
    "s=[1,2,'abc',3,4,10]\n",
    "print(n in s)"
   ]
  },
  {
   "cell_type": "code",
   "execution_count": 28,
   "metadata": {},
   "outputs": [
    {
     "name": "stdout",
     "output_type": "stream",
     "text": [
      "True\n"
     ]
    }
   ],
   "source": [
    "#119.was to check the given list is present in list\n",
    "n=[10,20,30]\n",
    "s=[1,2,3,4,10,[10,20,30]]\n",
    "print(n in s)"
   ]
  },
  {
   "cell_type": "code",
   "execution_count": 31,
   "metadata": {},
   "outputs": [
    {
     "name": "stdout",
     "output_type": "stream",
     "text": [
      "True\n"
     ]
    }
   ],
   "source": [
    "#120.was to check the given dict is present in tuple\n",
    "n={20:'abc'}\n",
    "s=({20:'abc'},2,3,4,10)\n",
    "print(n in s)"
   ]
  },
  {
   "cell_type": "code",
   "execution_count": 32,
   "metadata": {},
   "outputs": [
    {
     "name": "stdout",
     "output_type": "stream",
     "text": [
      "True\n"
     ]
    }
   ],
   "source": [
    "#121.was to check the given integer is present in dictionay\n",
    "n=20\n",
    "s={1:20,20:30,3:40}\n",
    "print(n in s)"
   ]
  },
  {
   "cell_type": "code",
   "execution_count": 33,
   "metadata": {},
   "outputs": [
    {
     "name": "stdout",
     "output_type": "stream",
     "text": [
      "True\n"
     ]
    }
   ],
   "source": [
    "#122.was to check the given integer is present in dictionay\n",
    "n=20\n",
    "s={1:20,20:30,3:40}\n",
    "print(n in s.values())"
   ]
  },
  {
   "cell_type": "code",
   "execution_count": 35,
   "metadata": {},
   "outputs": [
    {
     "name": "stdout",
     "output_type": "stream",
     "text": [
      "<class 'int'>\n"
     ]
    }
   ],
   "source": [
    "#123.was to check the given value is integer or not\n",
    "n=123\n",
    "print(type(n))"
   ]
  },
  {
   "cell_type": "code",
   "execution_count": 36,
   "metadata": {},
   "outputs": [
    {
     "name": "stdout",
     "output_type": "stream",
     "text": [
      "<class 'str'>\n"
     ]
    }
   ],
   "source": [
    "#124.was to check the given value is string or not\n",
    "n='123'\n",
    "print(type(n))"
   ]
  },
  {
   "cell_type": "code",
   "execution_count": 37,
   "metadata": {},
   "outputs": [
    {
     "name": "stdout",
     "output_type": "stream",
     "text": [
      "True\n"
     ]
    }
   ],
   "source": [
    "#125.was to check the given value is single value  or not\n",
    "n=123\n",
    "print(type(n) in [int,float,bool,bytes,complex,type(None)])"
   ]
  },
  {
   "cell_type": "code",
   "execution_count": 38,
   "metadata": {},
   "outputs": [
    {
     "name": "stdout",
     "output_type": "stream",
     "text": [
      "False\n"
     ]
    }
   ],
   "source": [
    "#126.was to check the given value is single value  or not\n",
    "n='123'\n",
    "print(type(n) in [int,float,bool,bytes,complex,type(None)])"
   ]
  },
  {
   "cell_type": "code",
   "execution_count": 39,
   "metadata": {},
   "outputs": [
    {
     "name": "stdout",
     "output_type": "stream",
     "text": [
      "False\n"
     ]
    }
   ],
   "source": [
    "#127.was to check the given value is multi value  or not\n",
    "n=123\n",
    "print(type(n) not in [int,float,bool,bytes,complex,type(None)])"
   ]
  },
  {
   "cell_type": "code",
   "execution_count": 40,
   "metadata": {},
   "outputs": [
    {
     "name": "stdout",
     "output_type": "stream",
     "text": [
      "True\n"
     ]
    }
   ],
   "source": [
    "#128.was to check the given value is multi value  or not\n",
    "n='123'\n",
    "print(type(n) not in [int,float,bool,bytes,complex,type(None)])"
   ]
  },
  {
   "cell_type": "code",
   "execution_count": 41,
   "metadata": {},
   "outputs": [
    {
     "name": "stdout",
     "output_type": "stream",
     "text": [
      "False\n"
     ]
    }
   ],
   "source": [
    "#129.was to check the given value is mutable or not\n",
    "n=123\n",
    "print(type(n) not in [int,float,bool,bytes,complex,type(None)])"
   ]
  },
  {
   "cell_type": "code",
   "execution_count": 42,
   "metadata": {},
   "outputs": [
    {
     "name": "stdout",
     "output_type": "stream",
     "text": [
      "True\n"
     ]
    }
   ],
   "source": [
    "#130.was to check the given value is mutable or not\n",
    "n=[1,2,3]\n",
    "print(type(n) not in [int,float,bool,bytes,complex,type(None)])"
   ]
  },
  {
   "cell_type": "code",
   "execution_count": 43,
   "metadata": {},
   "outputs": [
    {
     "name": "stdout",
     "output_type": "stream",
     "text": [
      "3\n"
     ]
    }
   ],
   "source": [
    "#131.was to perform the bitwise and operation on values 15 and 19\n",
    "n=15\n",
    "m=19\n",
    "print(n&m)"
   ]
  },
  {
   "cell_type": "code",
   "execution_count": 44,
   "metadata": {},
   "outputs": [
    {
     "name": "stdout",
     "output_type": "stream",
     "text": [
      "127\n"
     ]
    }
   ],
   "source": [
    "#132.was to perform the bitwise or operation on values 115 and 79\n",
    "n=115\n",
    "m=79\n",
    "print(n|m)"
   ]
  },
  {
   "cell_type": "code",
   "execution_count": 45,
   "metadata": {},
   "outputs": [
    {
     "name": "stdout",
     "output_type": "stream",
     "text": [
      "46\n"
     ]
    }
   ],
   "source": [
    "#133.was to perform the bitwise xor operation on values 56 and 22\n",
    "n=56\n",
    "m=22\n",
    "print(n^m)"
   ]
  },
  {
   "cell_type": "code",
   "execution_count": 46,
   "metadata": {},
   "outputs": [
    {
     "name": "stdout",
     "output_type": "stream",
     "text": [
      "-16\n"
     ]
    }
   ],
   "source": [
    "#134.was to perform the bitwise not operation on values 15\n",
    "n=15\n",
    "print(~n)"
   ]
  },
  {
   "cell_type": "code",
   "execution_count": 48,
   "metadata": {},
   "outputs": [
    {
     "name": "stdout",
     "output_type": "stream",
     "text": [
      "256\n"
     ]
    }
   ],
   "source": [
    "#135.was to perform the bitwise left shift operation on value 32 and skipping value is 3\n",
    "n=32\n",
    "m=3\n",
    "print(n<<m)"
   ]
  },
  {
   "cell_type": "code",
   "execution_count": 49,
   "metadata": {},
   "outputs": [
    {
     "name": "stdout",
     "output_type": "stream",
     "text": [
      "6\n"
     ]
    }
   ],
   "source": [
    "#136.was to perform the bitwise right shift operation on value 25 and skipping value is 2\n",
    "n=25\n",
    "m=2\n",
    "print(n>>m)"
   ]
  },
  {
   "cell_type": "code",
   "execution_count": 50,
   "metadata": {},
   "outputs": [
    {
     "name": "stdout",
     "output_type": "stream",
     "text": [
      "True\n"
     ]
    }
   ],
   "source": [
    "#137.was to check the given value is in dictionary \n",
    "d={1:10,2:30}\n",
    "a=10\n",
    "print(a in d.values())"
   ]
  },
  {
   "cell_type": "code",
   "execution_count": 56,
   "metadata": {},
   "outputs": [
    {
     "ename": "IndexError",
     "evalue": "tuple index out of range",
     "output_type": "error",
     "traceback": [
      "\u001b[1;31m---------------------------------------------------------------------------\u001b[0m",
      "\u001b[1;31mIndexError\u001b[0m                                Traceback (most recent call last)",
      "Cell \u001b[1;32mIn[56], line 1\u001b[0m\n\u001b[1;32m----> 1\u001b[0m ([\u001b[39m100\u001b[39m,\u001b[39m200\u001b[39m,\u001b[39m300\u001b[39m,\u001b[39m400\u001b[39m][\u001b[39m-\u001b[39m\u001b[39m1\u001b[39m]\u001b[39m/\u001b[39m\u001b[39m/\u001b[39m\u001b[39m10\u001b[39m \u001b[39mand\u001b[39;00m (\u001b[39m10\u001b[39m,\u001b[39m20\u001b[39m,\u001b[39m30\u001b[39m)[\u001b[39m-\u001b[39m\u001b[39m1\u001b[39m:\u001b[39m-\u001b[39m\u001b[39m3\u001b[39m][\u001b[39m0\u001b[39m]\u001b[39m*\u001b[39m\u001b[39m*\u001b[39m\u001b[39m2\u001b[39m) \u001b[39mor\u001b[39;00m (\u001b[39m'\u001b[39m\u001b[39mMan\u001b[39m\u001b[39m'\u001b[39m\u001b[39m<\u001b[39m\u001b[39m=\u001b[39m\u001b[39m'\u001b[39m\u001b[39mWoman\u001b[39m\u001b[39m'\u001b[39m)\n",
      "\u001b[1;31mIndexError\u001b[0m: tuple index out of range"
     ]
    }
   ],
   "source": [
    "([100,200,300,400][-1]//10 and (10,20,30)[-1:-3][0]**2) or ('Man'<='Woman')"
   ]
  },
  {
   "cell_type": "code",
   "execution_count": 63,
   "metadata": {},
   "outputs": [
    {
     "ename": "IndexError",
     "evalue": "list index out of range",
     "output_type": "error",
     "traceback": [
      "\u001b[1;31m---------------------------------------------------------------------------\u001b[0m",
      "\u001b[1;31mIndexError\u001b[0m                                Traceback (most recent call last)",
      "Cell \u001b[1;32mIn[63], line 2\u001b[0m\n\u001b[0;32m      1\u001b[0m t\u001b[39m=\u001b[39m[\u001b[39m10\u001b[39m,\u001b[39m20\u001b[39m,\u001b[39m30\u001b[39m]\n\u001b[1;32m----> 2\u001b[0m \u001b[39mprint\u001b[39m(t[\u001b[39m-\u001b[39m\u001b[39m1\u001b[39m:\u001b[39m-\u001b[39m\u001b[39m3\u001b[39m][\u001b[39m0\u001b[39m])\n",
      "\u001b[1;31mIndexError\u001b[0m: list index out of range"
     ]
    }
   ],
   "source": [
    "t=[10,20,30]\n",
    "print(t[-1:-3][0]z)"
   ]
  },
  {
   "cell_type": "code",
   "execution_count": null,
   "metadata": {},
   "outputs": [],
   "source": [
    "# simple if programs"
   ]
  },
  {
   "cell_type": "code",
   "execution_count": 3,
   "metadata": {},
   "outputs": [
    {
     "name": "stdout",
     "output_type": "stream",
     "text": [
      "positive\n"
     ]
    }
   ],
   "source": [
    "# 1.wap to check whether the number is positive. i fpositive print a message positive\n",
    "n=10\n",
    "if n>=0:\n",
    "    print('positive')"
   ]
  },
  {
   "cell_type": "code",
   "execution_count": 2,
   "metadata": {},
   "outputs": [
    {
     "name": "stdout",
     "output_type": "stream",
     "text": [
      "hello world\n"
     ]
    }
   ],
   "source": [
    "#2. wap to print heloo world if the number is greater than 1 and less than 5.\n",
    "s='hello world'\n",
    "n=4\n",
    "if n>1 and n<5:\n",
    "    print(s)\n"
   ]
  },
  {
   "cell_type": "code",
   "execution_count": 4,
   "metadata": {},
   "outputs": [
    {
     "name": "stdout",
     "output_type": "stream",
     "text": [
      "fizz\n"
     ]
    }
   ],
   "source": [
    "#3.wap to check whether the given number is divisible by 3 or not if print fizz\n",
    "n=9\n",
    "if n%3==0:\n",
    "    print('fizz')"
   ]
  },
  {
   "cell_type": "code",
   "execution_count": 6,
   "metadata": {},
   "outputs": [
    {
     "name": "stdout",
     "output_type": "stream",
     "text": [
      "(12+0j)\n"
     ]
    }
   ],
   "source": [
    "#4.wap to check whether the input is divisible by 2 and 6. if the condition is satisfied, covert the given number into a complex.\n",
    "n=12\n",
    "if n%2==0 and n%6==0:\n",
    "    print(complex(n))"
   ]
  },
  {
   "cell_type": "code",
   "execution_count": 11,
   "metadata": {},
   "outputs": [
    {
     "name": "stdout",
     "output_type": "stream",
     "text": [
      "['3', '0']\n"
     ]
    }
   ],
   "source": [
    "#5.wap to check whether a given input is divisible by 3 or 5. if the condition is satisfied, the number is converted to to list.\n",
    "n=30\n",
    "if n%3==0 and n%5==0:\n",
    "    res=str(n)\n",
    "    print(list(res))"
   ]
  },
  {
   "cell_type": "code",
   "execution_count": 14,
   "metadata": {},
   "outputs": [
    {
     "name": "stdout",
     "output_type": "stream",
     "text": [
      "n is multiple of 5\n"
     ]
    }
   ],
   "source": [
    "#6.wap to check whether a given number is multiple of 5 or not.\n",
    "n=105\n",
    "if n%5==0:\n",
    "    print('n is multiple of 5')"
   ]
  },
  {
   "cell_type": "code",
   "execution_count": 15,
   "metadata": {},
   "outputs": [
    {
     "name": "stdout",
     "output_type": "stream",
     "text": [
      "0\n"
     ]
    }
   ],
   "source": [
    "#7.wap to check whether the given input is 0 or not. if 0 print 0.\n",
    "n=0\n",
    "if n==0:\n",
    "    print('0')"
   ]
  },
  {
   "cell_type": "code",
   "execution_count": 16,
   "metadata": {},
   "outputs": [
    {
     "name": "stdout",
     "output_type": "stream",
     "text": [
      "negative\n"
     ]
    }
   ],
   "source": [
    "#8.wap to check the given number is negative. if negative print negative.\n",
    "n=-1213\n",
    "if n<0:\n",
    "    print('negative')"
   ]
  },
  {
   "cell_type": "code",
   "execution_count": 17,
   "metadata": {},
   "outputs": [
    {
     "name": "stdout",
     "output_type": "stream",
     "text": [
      "['1', '2', '3', '4']\n"
     ]
    }
   ],
   "source": [
    "#9.wap to check whether the given number is even or not. if even,store the value in inside the list.\n",
    "n=1234\n",
    "if n%2==0:\n",
    "    print(list(str(n)))"
   ]
  },
  {
   "cell_type": "code",
   "execution_count": 18,
   "metadata": {},
   "outputs": [
    {
     "name": "stdout",
     "output_type": "stream",
     "text": [
      "('1', '2', '3', '3', '4', '5', '7')\n"
     ]
    }
   ],
   "source": [
    "#10.wap to check whether the given number is even or not. if odd, store the value in inside the tuple.\n",
    "n=1233457\n",
    "if n%2!=0:\n",
    "    print(tuple(str(n)))\n"
   ]
  },
  {
   "cell_type": "code",
   "execution_count": 19,
   "metadata": {},
   "outputs": [
    {
     "name": "stdout",
     "output_type": "stream",
     "text": [
      "10000\n"
     ]
    }
   ],
   "source": [
    "#11.wap to check whether the given number is even or not. if it is yes, to print power of 4 in a given number.\n",
    "n=10\n",
    "if n%2==0:\n",
    "    print(n**4)"
   ]
  },
  {
   "cell_type": "code",
   "execution_count": 20,
   "metadata": {},
   "outputs": [
    {
     "name": "stdout",
     "output_type": "stream",
     "text": [
      "14\n"
     ]
    }
   ],
   "source": [
    "#12.wap to take the input from the user as a number and check whether it is a number or not. if yes, take the number and add some value and print it.\n",
    "n=int(input('enter a number :')) \n",
    "if type(n) in [int,float,complex,bytes]:\n",
    "    n+=10\n",
    "    print(n)"
   ]
  },
  {
   "cell_type": "code",
   "execution_count": 42,
   "metadata": {},
   "outputs": [
    {
     "name": "stdout",
     "output_type": "stream",
     "text": [
      "133\n"
     ]
    }
   ],
   "source": [
    "#13.wap to take the input from the user as a number and check whether it is a number or not. if yes, take the number and add some value and print it.\n",
    "n=int(input('enter a number :')) \n",
    "if type(n) in [int,float,complex,bytes]:\n",
    "    n+=10\n",
    "    print(n)"
   ]
  },
  {
   "cell_type": "code",
   "execution_count": 38,
   "metadata": {},
   "outputs": [
    {
     "name": "stdout",
     "output_type": "stream",
     "text": [
      "notnarendra\n"
     ]
    }
   ],
   "source": [
    "#14.wap to \n",
    "s='notnarendra'\n",
    "if (s[0:3:1] == 'not'):\n",
    "    print(s)\n",
    "else:\n",
    "    print('not'+s)\n"
   ]
  },
  {
   "cell_type": "code",
   "execution_count": 40,
   "metadata": {},
   "outputs": [
    {
     "name": "stdout",
     "output_type": "stream",
     "text": [
      "1234 5678\n",
      "1234 5678\n"
     ]
    }
   ],
   "source": [
    "#15\n",
    "s='1234 5678'\n",
    "t='1234 5678'\n",
    "if s == t:\n",
    "    s,t=t,s\n",
    "    print(s)\n",
    "    print(t)"
   ]
  },
  {
   "cell_type": "code",
   "execution_count": 43,
   "metadata": {},
   "outputs": [
    {
     "name": "stdout",
     "output_type": "stream",
     "text": [
      "4900\n"
     ]
    }
   ],
   "source": [
    "# 16.wap to check whether the value is divisible by 5 and 7. if the value is divisible, to display the square of the value. \n",
    "n=70\n",
    "if n%5==0 and n%7==0:\n",
    "    print(n**2) "
   ]
  },
  {
   "cell_type": "code",
   "execution_count": 44,
   "metadata": {},
   "outputs": [
    {
     "name": "stdout",
     "output_type": "stream",
     "text": [
      "729\n"
     ]
    }
   ],
   "source": [
    "#17. wap to check whether the value is divisible by 3 and less than 30. if the value is divisible,to display the square of the values. \n",
    "n=27\n",
    "if n%3==0 and n<30:\n",
    "    print(n**2)\n",
    "    "
   ]
  },
  {
   "cell_type": "code",
   "execution_count": 45,
   "metadata": {},
   "outputs": [
    {
     "name": "stdout",
     "output_type": "stream",
     "text": [
      "308641\n"
     ]
    }
   ],
   "source": [
    "#18. wap to check the number's last digit is greater than 5 or not.if greater, to perform the bitwise right shift operation(skipping value is 2).\n",
    "n=1234567\n",
    "if (n%10)>5:\n",
    "    res=n>>2\n",
    "    print(res)"
   ]
  },
  {
   "cell_type": "code",
   "execution_count": 46,
   "metadata": {},
   "outputs": [
    {
     "name": "stdout",
     "output_type": "stream",
     "text": [
      "4096\n"
     ]
    }
   ],
   "source": [
    "#19. wap to check the given value is even number and divisible by 4. if satisfied to display the cube of the values.\n",
    "n=16\n",
    "if n%2==0 and n%4==0:\n",
    "    print(n**3)"
   ]
  },
  {
   "cell_type": "code",
   "execution_count": 47,
   "metadata": {},
   "outputs": [
    {
     "name": "stdout",
     "output_type": "stream",
     "text": [
      "['1', '2', '3', '4']\n"
     ]
    }
   ],
   "source": [
    "#20. wap to check whether the given values is even or not. if the even stores thevalue inside list.\n",
    "n=1234\n",
    "if n%2==0:\n",
    "    print(list(str(n)))"
   ]
  },
  {
   "cell_type": "code",
   "execution_count": 60,
   "metadata": {},
   "outputs": [
    {
     "name": "stdout",
     "output_type": "stream",
     "text": [
      "3\n"
     ]
    }
   ],
   "source": [
    "#21. wap whether the given value is negative or even number. if satisfied, to diplay the last digit of the value.\n",
    "n=-103\n",
    "if n<0 or n%2==0:\n",
    "    print((-n%10))"
   ]
  },
  {
   "cell_type": "code",
   "execution_count": 66,
   "metadata": {},
   "outputs": [
    {
     "name": "stdout",
     "output_type": "stream",
     "text": [
      "-64\n"
     ]
    }
   ],
   "source": [
    "#22. wap to check whether the given value is negative or odd and divisible by 4. if satisfied, to display the cube of the value.\n",
    "n=-4\n",
    "if n%4==0 and (n<0 or n%2!=0):\n",
    "    print(n**3) "
   ]
  },
  {
   "cell_type": "code",
   "execution_count": 69,
   "metadata": {},
   "outputs": [
    {
     "name": "stdout",
     "output_type": "stream",
     "text": [
      "d\n"
     ]
    }
   ],
   "source": [
    "#23. wap to check whether the given ascii value is divisible by 4 and even value. if satisfied, to display the ascii character.\n",
    "n=100\n",
    "if n%4==0 and n%2==0:\n",
    "    print(chr(n)) "
   ]
  },
  {
   "cell_type": "code",
   "execution_count": 70,
   "metadata": {},
   "outputs": [
    {
     "name": "stdout",
     "output_type": "stream",
     "text": [
      "d\n"
     ]
    }
   ],
   "source": [
    "#24. wap to check whether the given value is present b/w 45 to 125 and the number should be divisible by 4 and 5 and even value. if satisfied, to display the ascii character\n",
    "n=100\n",
    "if 45<=n<=125 and n%4==0 and n%5==0 and n%2==0:\n",
    "    print(chr(n))"
   ]
  },
  {
   "cell_type": "code",
   "execution_count": 71,
   "metadata": {},
   "outputs": [
    {
     "name": "stdout",
     "output_type": "stream",
     "text": [
      "200\n"
     ]
    }
   ],
   "source": [
    "#25. wap to check whether the given value is present b/w 25 to 100 and the number should be divisible by 4 and 5. if satisfeid display multiplication of given value with 5.\n",
    "n=40\n",
    "if 25<=n<=100 and n%4==0 and n%5==0:\n",
    "    print(n*5)"
   ]
  },
  {
   "cell_type": "code",
   "execution_count": 85,
   "metadata": {},
   "outputs": [
    {
     "name": "stdout",
     "output_type": "stream",
     "text": [
      "10.2\n"
     ]
    }
   ],
   "source": [
    "#26. wap to check the given value is an intger and odd number. if the condition is satisfied, the integer is divisible by 5 and displays the result.\n",
    "n=51\n",
    "if type(n) == int and n%2!=0:\n",
    "    res=n/5\n",
    "    print(res)"
   ]
  },
  {
   "cell_type": "code",
   "execution_count": 86,
   "metadata": {},
   "outputs": [
    {
     "name": "stdout",
     "output_type": "stream",
     "text": [
      "1234\n"
     ]
    }
   ],
   "source": [
    "#27. wap to check the given value is an intger or not. if the condition is satisfied, the integer value convert into string and displays the result.\n",
    "n=1234\n",
    "if type(n) == int:\n",
    "    print(str(n))"
   ]
  },
  {
   "cell_type": "code",
   "execution_count": 87,
   "metadata": {},
   "outputs": [
    {
     "name": "stdout",
     "output_type": "stream",
     "text": [
      "2\n"
     ]
    }
   ],
   "source": [
    "#28.wap to check the value is less than 125 and greater than 60 or not. if the condition is satisfied, take the name and extract the middle character and display it.\n",
    "n=123\n",
    "if 60<=n<=125:\n",
    "    b=str(n)\n",
    "    print(b[len(b)//2])"
   ]
  },
  {
   "cell_type": "code",
   "execution_count": 88,
   "metadata": {},
   "outputs": [
    {
     "name": "stdout",
     "output_type": "stream",
     "text": [
      "42\n"
     ]
    }
   ],
   "source": [
    "#29.wap to check the two values are equal or not. if both are equal, perform addition and display the result.\n",
    "n=21\n",
    "m=21\n",
    "if n==m:\n",
    "    print(m+n)"
   ]
  },
  {
   "cell_type": "code",
   "execution_count": 91,
   "metadata": {},
   "outputs": [
    {
     "name": "stdout",
     "output_type": "stream",
     "text": [
      "441\n",
      "147.0\n"
     ]
    }
   ],
   "source": [
    "#30. wap to check the two values are equal or not. if equal, to perform multiplication of two numbers and that result is division by 3 and display the value.\n",
    "n=21\n",
    "m=21\n",
    "if n==m:\n",
    "    b=n*m\n",
    "    print(b)\n",
    "    b/=3\n",
    "    print(b)"
   ]
  },
  {
   "cell_type": "code",
   "execution_count": null,
   "metadata": {},
   "outputs": [],
   "source": [
    "# if else programs"
   ]
  },
  {
   "cell_type": "code",
   "execution_count": 92,
   "metadata": {},
   "outputs": [
    {
     "name": "stdout",
     "output_type": "stream",
     "text": [
      "Positive\n"
     ]
    }
   ],
   "source": [
    "#1. wap to veck whether a number is positive or negative. if positive print positive message or else print negative number.\n",
    "n=10\n",
    "if n>=0:\n",
    "    print('Positive')\n",
    "else:\n",
    "    print('Negative')"
   ]
  },
  {
   "cell_type": "code",
   "execution_count": 93,
   "metadata": {},
   "outputs": [
    {
     "name": "stdout",
     "output_type": "stream",
     "text": [
      "even\n"
     ]
    }
   ],
   "source": [
    "#2. wap to veck whether a number is even or odd. if positive print even message or else print odd number.\n",
    "n=22\n",
    "if n%2==0:\n",
    "    print('even')\n",
    "else:\n",
    "    print('odd')"
   ]
  },
  {
   "cell_type": "code",
   "execution_count": 94,
   "metadata": {},
   "outputs": [
    {
     "name": "stdout",
     "output_type": "stream",
     "text": [
      "Greater\n"
     ]
    }
   ],
   "source": [
    "#3. wap to veck whether a number is greater than 10 or not. if it is greater than 10  message as greater or else print lesser.\n",
    "n=15\n",
    "if n>10:\n",
    "    print('Greater')\n",
    "else:\n",
    "    print('lesser')"
   ]
  },
  {
   "cell_type": "code",
   "execution_count": 95,
   "metadata": {},
   "outputs": [
    {
     "name": "stdout",
     "output_type": "stream",
     "text": [
      "good morning\n"
     ]
    }
   ],
   "source": [
    "#4.wap to check whether the given two numbers are divisible by 3 and 5. if it is divisible, print good morning, or else print good evening.\n",
    "n=15\n",
    "if n%3==0 and n%5==0:\n",
    "    print('good morning')\n",
    "else:\n",
    "    print('good evening')"
   ]
  },
  {
   "cell_type": "code",
   "execution_count": 115,
   "metadata": {},
   "outputs": [
    {
     "name": "stdout",
     "output_type": "stream",
     "text": [
      "'11' '10'\n"
     ]
    }
   ],
   "source": [
    "#5.wap to check the two values are equal or not. if equal, multiply the values or else display the quotation value.\n",
    "n=11\n",
    "m=10\n",
    "if n==m:\n",
    "    print(n*m)\n",
    "else:\n",
    "    print(f\"'{n}'\",f\"'{m}'\")"
   ]
  },
  {
   "cell_type": "code",
   "execution_count": 101,
   "metadata": {},
   "outputs": [
    {
     "name": "stdout",
     "output_type": "stream",
     "text": [
      "30\n"
     ]
    }
   ],
   "source": [
    "#6.wap to find laegest of two numbers.\n",
    "n=10\n",
    "m=30\n",
    "if n>m:\n",
    "    print(n)\n",
    "else:\n",
    "    print(m)"
   ]
  },
  {
   "cell_type": "code",
   "execution_count": 110,
   "metadata": {},
   "outputs": [
    {
     "name": "stdout",
     "output_type": "stream",
     "text": [
      "[3.0, 10, 120, -14]\n"
     ]
    }
   ],
   "source": [
    "#.7\n",
    "l=[9,10,120,13]\n",
    "if type(l)==list and type(l[0])==int and type(l[-1])==int:\n",
    "    l[0]=l[0]/3  #n\n",
    "    l[-1]=~l[-1]   #m\n",
    "    #l[0]+=n\n",
    "    #l[-1]+=m\n",
    "    print(l)\n",
    "else:\n",
    "    print(len(l)**2)"
   ]
  },
  {
   "cell_type": "code",
   "execution_count": 109,
   "metadata": {},
   "outputs": [
    {
     "name": "stdout",
     "output_type": "stream",
     "text": [
      "d\n"
     ]
    }
   ],
   "source": [
    "n=100\n",
    "print(chr(n))"
   ]
  },
  {
   "cell_type": "code",
   "execution_count": 117,
   "metadata": {},
   "outputs": [
    {
     "name": "stdout",
     "output_type": "stream",
     "text": [
      "greater 12\n"
     ]
    }
   ],
   "source": [
    "#8.WAP to check whether the input number is greater than 10 or not if it is greater than 10 print messages as greater with number. if it is not a greater than 10 print that number.\n",
    "n=12\n",
    "if n>10:\n",
    "    print('greater',n)"
   ]
  },
  {
   "cell_type": "code",
   "execution_count": 123,
   "metadata": {},
   "outputs": [
    {
     "name": "stdout",
     "output_type": "stream",
     "text": [
      "12\n"
     ]
    }
   ],
   "source": [
    "#9.WAP to the given number integer, if n is greater than 21,print the absolute difference between n and 21 otherwise print twice the absolute difference.\n",
    "n=15\n",
    "a=21\n",
    "if n>a:\n",
    "    print(abs(n-a))\n",
    "else:\n",
    "    print(2*abs(n-a))"
   ]
  },
  {
   "cell_type": "code",
   "execution_count": 125,
   "metadata": {},
   "outputs": [
    {
     "name": "stdout",
     "output_type": "stream",
     "text": [
      "9\n"
     ]
    }
   ],
   "source": [
    "#10.WAP to find the smallest of two numbers.\n",
    "m=10\n",
    "n=9\n",
    "if m<n:\n",
    "    print(m)\n",
    "else:\n",
    "    print(n)"
   ]
  },
  {
   "cell_type": "code",
   "execution_count": 139,
   "metadata": {},
   "outputs": [
    {
     "name": "stdout",
     "output_type": "stream",
     "text": [
      "13\n"
     ]
    }
   ],
   "source": [
    "#11.WAP to check whether the given number is even or odd. If it is even then make \n",
    "#it as an odd number, if it is an odd number then make it as even number.\n",
    "n=13\n",
    "if n%2==0:\n",
    "    print(n+1)\n",
    "else:\n",
    "    print(n)"
   ]
  },
  {
   "cell_type": "code",
   "execution_count": 138,
   "metadata": {},
   "outputs": [
    {
     "name": "stdout",
     "output_type": "stream",
     "text": [
      "`\n"
     ]
    }
   ],
   "source": [
    "#12.WAP to print the string collection five times when the length of the string \n",
    "#collection should be more than 3 and the middle character of the string should \n",
    "#be vowel and the first character ASCII value should be even, to print the previous \n",
    "#character of middle character, or else if ASCII value is odd then print the string \n",
    "#three times as print that string.\n",
    "s='nar'\n",
    "if len(s)>3:\n",
    "    print(s*5)\n",
    "elif s[len(s)//2] in 'aeiouAEIOU' and ord(s[0])%2==0:\n",
    "    print(chr(ord(s[len(s)//2])-1))\n",
    "else:\n",
    "    print(s*3)"
   ]
  },
  {
   "cell_type": "code",
   "execution_count": 135,
   "metadata": {},
   "outputs": [
    {
     "name": "stdout",
     "output_type": "stream",
     "text": [
      "`\n"
     ]
    }
   ],
   "source": [
    "s='nar'\n",
    "print(chr(ord(s[len(s)//2])-1))"
   ]
  },
  {
   "cell_type": "code",
   "execution_count": 140,
   "metadata": {},
   "outputs": [
    {
     "name": "stdout",
     "output_type": "stream",
     "text": [
      "9\n"
     ]
    }
   ],
   "source": [
    "#14.WAP to check whether the given number is divisible by 3 or not if yes, print the \n",
    "#number or else print the cube of the numbers.\n",
    "n=9\n",
    "if n%3==0:\n",
    "    print(n)\n",
    "else:\n",
    "    print(n**3)"
   ]
  },
  {
   "cell_type": "code",
   "execution_count": 143,
   "metadata": {},
   "outputs": [
    {
     "data": {
      "text/plain": [
       "'16'"
      ]
     },
     "execution_count": 143,
     "metadata": {},
     "output_type": "execute_result"
    }
   ],
   "source": [
    "#14.WAP to check whether the given input is divisible by 3 and 5. If yes print the \n",
    "#actual number or else print string of that number.\n",
    "n=16\n",
    "if n%3==0 and n%5==0:\n",
    "    print(n)\n",
    "else:\n",
    "    a=str(n)\n",
    "a"
   ]
  },
  {
   "cell_type": "code",
   "execution_count": 146,
   "metadata": {},
   "outputs": [
    {
     "name": "stdout",
     "output_type": "stream",
     "text": [
      "64\n"
     ]
    }
   ],
   "source": [
    "#15.WAP to check whether the given number lies between 1 to 19, if it is true square \n",
    "#that number or else false cube that number and display the number.\n",
    "n=8\n",
    "if 1<=n<=19:\n",
    "    print(n**2)\n",
    "else:\n",
    "    print(n**3)"
   ]
  },
  {
   "cell_type": "code",
   "execution_count": 147,
   "metadata": {},
   "outputs": [
    {
     "name": "stdout",
     "output_type": "stream",
     "text": [
      "PASS 50\n"
     ]
    }
   ],
   "source": [
    "#16.WAP to check whether the student has passed or failed. If the student got more \n",
    "#than 40 marks, print ‘PASS’ along with those marks, if it is not printed ‘FAIL’ along \n",
    "#with those marks.\n",
    "marks=50\n",
    "if marks>40:\n",
    "    print('PASS',marks)\n",
    "else:\n",
    "    print('FAIL',marks)"
   ]
  },
  {
   "cell_type": "code",
   "execution_count": 148,
   "metadata": {},
   "outputs": [
    {
     "name": "stdout",
     "output_type": "stream",
     "text": [
      "0\n"
     ]
    }
   ],
   "source": [
    "#17.WAP to check whether a given value is even and in range of 47 to 58 and not in 0 \n",
    "#or odd. if condition is True, to perform display the ascii character. or else to \n",
    "#perform floor division with 5 and display it.\n",
    "n=48\n",
    "if n%2==0 and 47<=n<58 and n!=0 or n%2!=0:\n",
    "    print(chr(n))\n",
    "else:\n",
    "    a=n//5\n",
    "    print(a)"
   ]
  },
  {
   "cell_type": "code",
   "execution_count": 149,
   "metadata": {},
   "outputs": [
    {
     "name": "stdout",
     "output_type": "stream",
     "text": [
      "0\n"
     ]
    }
   ],
   "source": [
    "n=48\n",
    "print(chr(n))"
   ]
  },
  {
   "cell_type": "code",
   "execution_count": 150,
   "metadata": {},
   "outputs": [
    {
     "name": "stdout",
     "output_type": "stream",
     "text": [
      "{120: 'x'}\n"
     ]
    }
   ],
   "source": [
    "#18. WAP to check whether a given value is less than 125 and in between 47 to 125 or \n",
    "#not. if condition is True, to perform store the given value as key and value as a \n",
    "#character into the dict or else to append the value in list and display it.\n",
    "n=120\n",
    "d={}\n",
    "l=[]\n",
    "if 47<=n<=125:\n",
    "    d|={n:chr(n)}\n",
    "    print(d)\n",
    "else:\n",
    "    l+=n\n",
    "    print(l)"
   ]
  },
  {
   "cell_type": "code",
   "execution_count": 152,
   "metadata": {},
   "outputs": [
    {
     "name": "stdout",
     "output_type": "stream",
     "text": [
      "alphabet A\n"
     ]
    }
   ],
   "source": [
    "#19.WAP to check whether a given character is in the alphabet or not. if alphabet, \n",
    "#display the alphabet with character or else display the not alphabet with \n",
    "#character.\n",
    "ch='A'\n",
    "if 'A'<=ch<='Z' or 'a'<=ch<='z':\n",
    "    print('alphabet',ch)\n",
    "else:\n",
    "    print('not alphabet',ch)"
   ]
  },
  {
   "cell_type": "code",
   "execution_count": 153,
   "metadata": {},
   "outputs": [
    {
     "name": "stdout",
     "output_type": "stream",
     "text": [
      "uppercase A\n"
     ]
    }
   ],
   "source": [
    "#20.WAP to check whether a given character is uppercase or other character. if \n",
    "#uppercase, display the uppercase with character or else display the other \n",
    "#character with character.\n",
    "ch='A'\n",
    "if 'A'<=ch<='Z':\n",
    "    print('uppercase',ch)\n",
    "else:\n",
    "    print('character',ch)"
   ]
  },
  {
   "cell_type": "code",
   "execution_count": 154,
   "metadata": {},
   "outputs": [
    {
     "name": "stdout",
     "output_type": "stream",
     "text": [
      "lowercase a\n"
     ]
    }
   ],
   "source": [
    "#21.WAP to check whether a given character is lowercase or other character. if \n",
    "#lowercase, display the lowercase with character or else display the other\n",
    "#character with character.\n",
    "ch='a'\n",
    "if 'a'<=ch<='z':\n",
    "    print('lowercase',ch)\n",
    "else:\n",
    "    print('character',ch)"
   ]
  },
  {
   "cell_type": "code",
   "execution_count": 155,
   "metadata": {},
   "outputs": [
    {
     "name": "stdout",
     "output_type": "stream",
     "text": [
      "a\n"
     ]
    }
   ],
   "source": [
    "#22.WAP to check whether a given character is uppercase or other character. if \n",
    "#uppercase, convert to lowercase .or else display the ascii number.\n",
    "ch='A'\n",
    "if 'A'<=ch<='Z':\n",
    "    print(chr(ord(ch)+32))\n",
    "else:\n",
    "    print(ord(ch))"
   ]
  },
  {
   "cell_type": "code",
   "execution_count": 158,
   "metadata": {},
   "outputs": [
    {
     "name": "stdout",
     "output_type": "stream",
     "text": [
      "A\n"
     ]
    }
   ],
   "source": [
    "#23.WAP to check whether the given character is in lowercase or uppercase. If it is \n",
    "#in lowercase, convert it into uppercase, or else it is in uppercase and convert it \n",
    "#into lowercase. Display the value.\n",
    "ch='a'\n",
    "if 'a'<=ch<='z':\n",
    "    print(chr(ord(ch)-32))\n",
    "else:\n",
    "    print(chr(ord(ch)+32))"
   ]
  },
  {
   "cell_type": "code",
   "execution_count": 178,
   "metadata": {},
   "outputs": [
    {
     "name": "stdout",
     "output_type": "stream",
     "text": [
      "ardn\n"
     ]
    }
   ],
   "source": [
    "#24.WAP to check whether the given string of the first character is a special symbol \n",
    "#or not. If a special symbol, to extract and display the middle character or else to \n",
    "#reverse the string and display the half of the string.\n",
    "s='@naendra'\n",
    "if 'A'<=s[0]<='Z' or'a'<=s[0]<='z' or '0'<=s[0]<='9':\n",
    "    print(s[len(s)//2])\n",
    "else:\n",
    "    print(s[:(len(s)//2)-1:-1])"
   ]
  },
  {
   "cell_type": "code",
   "execution_count": 181,
   "metadata": {},
   "outputs": [
    {
     "name": "stdout",
     "output_type": "stream",
     "text": [
      "VOWEL a\n"
     ]
    }
   ],
   "source": [
    "#25.WAP to check whether the input character is a vowel or not. If it is vowel print \n",
    "#‘VOWEL’ along with that character, if it is not just print ‘CONSONANT’.\n",
    "ch='a'\n",
    "if ch in 'aeiouAEIOU':\n",
    "    print('VOWEL',ch)\n",
    "else:\n",
    "    print('CONSONANT')"
   ]
  },
  {
   "cell_type": "code",
   "execution_count": 185,
   "metadata": {},
   "outputs": [
    {
     "name": "stdout",
     "output_type": "stream",
     "text": [
      "b\n"
     ]
    }
   ],
   "source": [
    "#26.WAP to check whether a given character is a vowel or consonant. if vowel, to \n",
    "#print the next character of a given character or else print previous characters.\n",
    "ch='a'\n",
    "if ch in 'aeiouAEIOU':\n",
    "    print(chr(ord(ch)+1))\n",
    "else:\n",
    "    print(chr(ord(ch)-1))"
   ]
  },
  {
   "cell_type": "code",
   "execution_count": 187,
   "metadata": {},
   "outputs": [
    {
     "name": "stdout",
     "output_type": "stream",
     "text": [
      "n\n"
     ]
    }
   ],
   "source": [
    "#27.WAP to check whether a given string of first character is alphabet or not\n",
    "#if the alphabet prints, reverse the string or else print the middle character.\n",
    "s='1arendra1'\n",
    "if 'A'<=s[0]<='Z' or 'a'<=s[0]<='z':\n",
    "    print(s[::-1])\n",
    "else:\n",
    "    print(s[len(s)//2])"
   ]
  },
  {
   "cell_type": "code",
   "execution_count": 190,
   "metadata": {},
   "outputs": [
    {
     "name": "stdout",
     "output_type": "stream",
     "text": [
      "A\n"
     ]
    }
   ],
   "source": [
    "#28.WAP to check whether the given input character is uppercase or lowercase. If \n",
    "#the input character is upper case convert into lower case and vice versa.\n",
    "ch='a'\n",
    "if 'A'<=ch<='Z':\n",
    "    print(chr(ord(ch)+32))\n",
    "else:\n",
    "    print(chr(ord(ch)-32))"
   ]
  },
  {
   "cell_type": "code",
   "execution_count": 192,
   "metadata": {},
   "outputs": [
    {
     "name": "stdout",
     "output_type": "stream",
     "text": [
      "endra\n"
     ]
    }
   ],
   "source": [
    "#29.WAP to check whether a given string is less than 3 characters, to print the entire \n",
    "#string otherwise to print after third positions to the remaining string.\n",
    "s='narendra'\n",
    "if len(s)<3:\n",
    "    print(s)\n",
    "else:\n",
    "    print(s[3::1])"
   ]
  },
  {
   "cell_type": "code",
   "execution_count": 14,
   "metadata": {},
   "outputs": [
    {
     "name": "stdout",
     "output_type": "stream",
     "text": [
      "narendrabye\n"
     ]
    }
   ],
   "source": [
    "#30.WAP to check whether a given length of the string is even or not. if even, to \n",
    "#append the new string called \"bye\" or else print the first and last characters.\n",
    "s='narendra'\n",
    "t='bye'\n",
    "if len(s)%2==0:\n",
    "    res=s+t\n",
    "    print(res)\n",
    "else:\n",
    "    print(s[0],s[-1])"
   ]
  },
  {
   "cell_type": "code",
   "execution_count": 3,
   "metadata": {},
   "outputs": [
    {
     "name": "stdout",
     "output_type": "stream",
     "text": [
      "30  is greater\n"
     ]
    }
   ],
   "source": [
    "#wap to find largest of two numbers\n",
    "n=30\n",
    "m=20\n",
    "if m>n:\n",
    "    print(m,'is greater')\n",
    "elif m<n:\n",
    "    print(n,' is greater')\n",
    "else:\n",
    "    print(m,n,'are qual')\n"
   ]
  },
  {
   "cell_type": "code",
   "execution_count": 4,
   "metadata": {},
   "outputs": [
    {
     "name": "stdout",
     "output_type": "stream",
     "text": [
      "narendraqspiders\n"
     ]
    }
   ],
   "source": [
    "#wap check whether a given length of the string is even or not. if even to append the new string called qspiders or else print the last character.\n",
    "s='narendra'\n",
    "t='qspiders'\n",
    "if len(s)%2==0:\n",
    "    res=s+t\n",
    "    print(res)\n",
    "else:\n",
    "    print(s[-1])\n",
    "    "
   ]
  },
  {
   "cell_type": "code",
   "execution_count": 190,
   "metadata": {},
   "outputs": [
    {
     "name": "stdout",
     "output_type": "stream",
     "text": [
      "{'a': 10, 'b': 20, 'c': 30}\n"
     ]
    }
   ],
   "source": [
    "#wap to check whether key is not present in the dictionary or not if not append the new key into dictionary.\n",
    "d={'a':10,'b':20}\n",
    "if d['a'] in d:\n",
    "    print()\n",
    "else:\n",
    "    d|={'c':30}\n",
    "    print(d)"
   ]
  },
  {
   "cell_type": "code",
   "execution_count": 28,
   "metadata": {},
   "outputs": [
    {
     "name": "stdout",
     "output_type": "stream",
     "text": [
      "arendr\n"
     ]
    }
   ],
   "source": [
    "#31.WAP to check whether a given length of the string is odd or not. if odd, to append \n",
    "#the new string(\"Haii\") from the starting of the given string, or else to avoid the \n",
    "#starting character and ending character of the given\n",
    "#string and to display the remaining characters.\n",
    "s='narendra'\n",
    "t='Haii'\n",
    "if len(s)%2!=0:\n",
    "    print(t+s)\n",
    "else:\n",
    "    res=s[1:len(s)-1:]\n",
    "    print(res)"
   ]
  },
  {
   "cell_type": "code",
   "execution_count": 37,
   "metadata": {},
   "outputs": [
    {
     "name": "stdout",
     "output_type": "stream",
     "text": [
      "naredraan\n"
     ]
    }
   ],
   "source": [
    "#32.WAP to check whether the last of the given string is a special character or not, if \n",
    "#the special character prints reverse the string except the last character or else to \n",
    "#check if the length of the string is odd or not, if odd to extract the middle \n",
    "#character to the end of the string.\n",
    "s='narendraa'\n",
    "if not('a'<=s[-1]<='z' or 'A'<=s[-1]<='Z' or '0'<=s[-1]<='9'):\n",
    "    print(s[-2::-1])\n",
    "elif len(s)%2!=0:\n",
    "    res=s[0:len(s)//2:1]+s[(len(s)//2)+1::1]+s[len(s)//2]\n",
    "    print(res)\n"
   ]
  },
  {
   "cell_type": "code",
   "execution_count": 41,
   "metadata": {},
   "outputs": [
    {
     "name": "stdout",
     "output_type": "stream",
     "text": [
      "leap year\n"
     ]
    }
   ],
   "source": [
    "#33.WAP to check whether a given year is a leap year or not. if leap year, print leap \n",
    "#year or else not a leap year.\n",
    "year=2000\n",
    "if year%4==0:\n",
    "    print('leap year')\n",
    "else:\n",
    "    print('not a leap year')"
   ]
  },
  {
   "cell_type": "code",
   "execution_count": 117,
   "metadata": {},
   "outputs": [
    {
     "name": "stdout",
     "output_type": "stream",
     "text": [
      "{'str'}\n"
     ]
    }
   ],
   "source": [
    "n=[1,2,3]\n",
    "m=set()\n",
    "a=''\n",
    "if type(n)==str and len(n)==1:\n",
    "    if 'A'<=n<='Z' or 'a'<=n<='z':\n",
    "        if 'A'<=n<='Z':\n",
    "            res=chr(ord(n)+32)\n",
    "            print(res)\n",
    "        elif 'a'<=n<='z':\n",
    "            res=chr(ord(n)-32)\n",
    "            print(res)\n",
    "        elif '0'<=n<='9':\n",
    "            a+=str(n)+' '+str(ord(n))\n",
    "            print(a)\n",
    "        elif not ('a'<=n<='z' or 'A'<=n<='Z' or '0'<=n<='9'):\n",
    "            a+=chr(ord(n)-1)+n+chr(ord(n)+1)\n",
    "            print(a)\n",
    "else:\n",
    "    if type(n) in [list,tuple,set,dict]:\n",
    "        m={tuple(n)}\n",
    "        print(m)\n",
    "    else:\n",
    "        m|={n}\n",
    "        print(m)"
   ]
  },
  {
   "cell_type": "code",
   "execution_count": 60,
   "metadata": {},
   "outputs": [
    {
     "name": "stdout",
     "output_type": "stream",
     "text": [
      "kjjdkds\n"
     ]
    }
   ],
   "source": [
    "n='0'\n",
    "if '0'<=n<='9':\n",
    "    print('kjjdkds')"
   ]
  },
  {
   "cell_type": "code",
   "execution_count": 212,
   "metadata": {},
   "outputs": [
    {
     "ename": "TypeError",
     "evalue": "'set' object is not subscriptable",
     "output_type": "error",
     "traceback": [
      "\u001b[1;31m---------------------------------------------------------------------------\u001b[0m",
      "\u001b[1;31mTypeError\u001b[0m                                 Traceback (most recent call last)",
      "Cell \u001b[1;32mIn[212], line 28\u001b[0m\n\u001b[0;32m     26\u001b[0m     \u001b[39mprint\u001b[39m(a)\n\u001b[0;32m     27\u001b[0m \u001b[39melif\u001b[39;00m \u001b[39mtype\u001b[39m(a) \u001b[39min\u001b[39;00m [\u001b[39mset\u001b[39m,\u001b[39mdict\u001b[39m] \u001b[39mand\u001b[39;00m \u001b[39mtype\u001b[39m(b) \u001b[39min\u001b[39;00m [\u001b[39mset\u001b[39m,\u001b[39mdict\u001b[39m]:\n\u001b[1;32m---> 28\u001b[0m     a\u001b[39m|\u001b[39m\u001b[39m=\u001b[39mb[\u001b[39m'\u001b[39m\u001b[39ma\u001b[39m\u001b[39m'\u001b[39m]\n\u001b[0;32m     29\u001b[0m     \u001b[39mprint\u001b[39m(a)\n",
      "\u001b[1;31mTypeError\u001b[0m: 'set' object is not subscriptable"
     ]
    }
   ],
   "source": [
    "a={10:20}\n",
    "b={10,20,30}\n",
    "if type(a)==type(b):\n",
    "    if type(a)==list and type(b)==list:\n",
    "        a+=b\n",
    "        print(a)\n",
    "    elif type(a)==dict and type(b)==dict:\n",
    "        a['a'],a['b']=b['c'],b['d']\n",
    "        print(a)\n",
    "    elif type(a) in [int,float,bytes,complex] and type(b) in [int,float,bytes,complex]:\n",
    "        print(a*b)\n",
    "    elif (type(a) in [bool,type(None)]) or (type(b) in [bool,type(None)]):\n",
    "        res=str(a,b)\n",
    "        print(res)\n",
    "    elif type(a)==complex or type(b)==complex:\n",
    "        res=(complex(complex(imag=a),complex(imag=b)))\n",
    "        print(res)\n",
    "    elif type(a)==bytes and type(b)==bytes:\n",
    "        res=list(a)+list(b)\n",
    "        print(res)\n",
    "    #else: \n",
    "        \n",
    "    #    print(res)\n",
    "elif type(a) in [list,tuple] and type(b) in [list,tuple]:\n",
    "    a+=b\n",
    "    print(a)\n",
    "elif type(a) in [set,dict] and type(b) in [set,dict]:\n",
    "    print(a)"
   ]
  },
  {
   "cell_type": "code",
   "execution_count": 214,
   "metadata": {},
   "outputs": [
    {
     "ename": "TypeError",
     "evalue": "ord() expected a character, but string of length 7 found",
     "output_type": "error",
     "traceback": [
      "\u001b[1;31m---------------------------------------------------------------------------\u001b[0m",
      "\u001b[1;31mTypeError\u001b[0m                                 Traceback (most recent call last)",
      "Cell \u001b[1;32mIn[214], line 2\u001b[0m\n\u001b[0;32m      1\u001b[0m a\u001b[39m=\u001b[39m\u001b[39mb\u001b[39m\u001b[39m\"\u001b[39m\u001b[39m1100\u001b[39m\u001b[39m\"\u001b[39m\n\u001b[1;32m----> 2\u001b[0m \u001b[39mprint\u001b[39m(\u001b[39mord\u001b[39m(\u001b[39mstr\u001b[39m(a)))\n",
      "\u001b[1;31mTypeError\u001b[0m: ord() expected a character, but string of length 7 found"
     ]
    }
   ],
   "source": [
    "a=b\"1100\"\n",
    "print(ord(str(a)))\n"
   ]
  },
  {
   "cell_type": "code",
   "execution_count": 223,
   "metadata": {},
   "outputs": [],
   "source": [
    "n='@'\n",
    "if type(n)==str and len(n)==1:\n",
    "    if 'A'<=n<='Z':\n",
    "        if n in 'AEIOU':\n",
    "            print(chr(ord(n)+1))\n",
    "    elif 'a'<=n<='z':\n",
    "        print(chr(ord(n)-32))\n",
    "    elif '0'<=n<='9' or not('A'<=n<='Z' or 'a'<=n<='z'):\n",
    "        print(n)"
   ]
  },
  {
   "cell_type": "code",
   "execution_count": 229,
   "metadata": {},
   "outputs": [
    {
     "name": "stdout",
     "output_type": "stream",
     "text": [
      "1384.74\n"
     ]
    }
   ],
   "source": [
    "n=21\n",
    "if type(n)==int:\n",
    "    if n%2==0 or n%2!=0:\n",
    "        if n%2==0:\n",
    "            if n%4==0:\n",
    "                print(n**2)\n",
    "        if n%2!=0:\n",
    "            if n%3==0 and n%7==0:\n",
    "                print(3.14*(n**2))"
   ]
  },
  {
   "cell_type": "code",
   "execution_count": 230,
   "metadata": {},
   "outputs": [
    {
     "ename": "SyntaxError",
     "evalue": "expected ':' (1223651915.py, line 3)",
     "output_type": "error",
     "traceback": [
      "\u001b[1;36m  Cell \u001b[1;32mIn[230], line 3\u001b[1;36m\u001b[0m\n\u001b[1;33m    case n>=70:\u001b[0m\n\u001b[1;37m          ^\u001b[0m\n\u001b[1;31mSyntaxError\u001b[0m\u001b[1;31m:\u001b[0m expected ':'\n"
     ]
    }
   ],
   "source": [
    "n=float(input('enter a number'))\n",
    "match n:\n",
    "    case n>=70:\n",
    "        print('first grade')\n",
    "    case n>=60 and n<70:\n",
    "        print('second grade')\n",
    "    case n>=40 and n<60:\n",
    "        print('third grade')\n",
    "    case _:\n",
    "        print('fail')"
   ]
  },
  {
   "cell_type": "code",
   "execution_count": 232,
   "metadata": {},
   "outputs": [
    {
     "name": "stdout",
     "output_type": "stream",
     "text": [
      "jkdk\n"
     ]
    }
   ],
   "source": [
    "print('jkdk')"
   ]
  }
 ],
 "metadata": {
  "kernelspec": {
   "display_name": "Python 3",
   "language": "python",
   "name": "python3"
  },
  "language_info": {
   "codemirror_mode": {
    "name": "ipython",
    "version": 3
   },
   "file_extension": ".py",
   "mimetype": "text/x-python",
   "name": "python",
   "nbconvert_exporter": "python",
   "pygments_lexer": "ipython3",
   "version": "3.11.0a5"
  },
  "orig_nbformat": 4
 },
 "nbformat": 4,
 "nbformat_minor": 2
}
