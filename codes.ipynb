{
 "cells": [
  {
   "cell_type": "code",
   "execution_count": 107,
   "metadata": {},
   "outputs": [],
   "source": [
    "a=10\n",
    "b=20\n",
    "c=a+b"
   ]
  },
  {
   "cell_type": "code",
   "execution_count": 108,
   "metadata": {},
   "outputs": [
    {
     "name": "stdout",
     "output_type": "stream",
     "text": [
      "hello world\n"
     ]
    }
   ],
   "source": [
    "print('hello world')"
   ]
  },
  {
   "cell_type": "code",
   "execution_count": 109,
   "metadata": {},
   "outputs": [
    {
     "name": "stdout",
     "output_type": "stream",
     "text": [
      "30\n"
     ]
    }
   ],
   "source": [
    "a=10\n",
    "b=20\n",
    "c=a+b\n",
    "print(c)"
   ]
  },
  {
   "cell_type": "code",
   "execution_count": 110,
   "metadata": {},
   "outputs": [
    {
     "data": {
      "text/plain": [
       "str"
      ]
     },
     "execution_count": 110,
     "metadata": {},
     "output_type": "execute_result"
    }
   ],
   "source": [
    "s='narendra'\n",
    "s\n",
    "id(s)\n",
    "type(s)\n"
   ]
  },
  {
   "cell_type": "code",
   "execution_count": 111,
   "metadata": {},
   "outputs": [
    {
     "name": "stdout",
     "output_type": "stream",
     "text": [
      "2405153285296\n",
      "<class 'str'>\n"
     ]
    }
   ],
   "source": [
    "a='eritjrjfnnfsfj'\n",
    "print(id(s))\n",
    "print(type(s))"
   ]
  },
  {
   "cell_type": "code",
   "execution_count": 112,
   "metadata": {},
   "outputs": [
    {
     "name": "stdout",
     "output_type": "stream",
     "text": [
      "narendra\n",
      "2405153285296\n"
     ]
    },
    {
     "data": {
      "text/plain": [
       "str"
      ]
     },
     "execution_count": 112,
     "metadata": {},
     "output_type": "execute_result"
    }
   ],
   "source": [
    "s='narendra'\n",
    "print(s)\n",
    "print(id(s))\n",
    "type(s)"
   ]
  },
  {
   "cell_type": "code",
   "execution_count": 113,
   "metadata": {},
   "outputs": [
    {
     "name": "stdout",
     "output_type": "stream",
     "text": [
      "narendra\n"
     ]
    },
    {
     "data": {
      "text/plain": [
       "'n'"
      ]
     },
     "execution_count": 113,
     "metadata": {},
     "output_type": "execute_result"
    }
   ],
   "source": [
    "s='narendra'\n",
    "print(s)\n",
    "s[-1]\n",
    "s[0]\n",
    "\n"
   ]
  },
  {
   "cell_type": "code",
   "execution_count": 114,
   "metadata": {},
   "outputs": [
    {
     "name": "stdout",
     "output_type": "stream",
     "text": [
      "hello world\n"
     ]
    }
   ],
   "source": [
    "#was to print 'hello world' by using shell\n",
    "print('hello world')"
   ]
  },
  {
   "cell_type": "code",
   "execution_count": 115,
   "metadata": {},
   "outputs": [
    {
     "name": "stdout",
     "output_type": "stream",
     "text": [
      "80\n"
     ]
    }
   ],
   "source": [
    "#was to initialize variable and value as 80\n",
    "a=80\n",
    "print(a)"
   ]
  },
  {
   "cell_type": "code",
   "execution_count": 116,
   "metadata": {},
   "outputs": [
    {
     "name": "stdout",
     "output_type": "stream",
     "text": [
      "180 120 280\n"
     ]
    }
   ],
   "source": [
    "#was to initialize multiple varaiable values are 180,120,280\n",
    "a,b,c=180,120,280\n",
    "print(a,b,c)"
   ]
  },
  {
   "cell_type": "code",
   "execution_count": 117,
   "metadata": {},
   "outputs": [
    {
     "name": "stdout",
     "output_type": "stream",
     "text": [
      "<class 'list'>\n"
     ]
    }
   ],
   "source": [
    "#was to print the type of data in given value\n",
    "a=[1,2,3,4]\n",
    "print(type(a))"
   ]
  },
  {
   "cell_type": "code",
   "execution_count": 118,
   "metadata": {},
   "outputs": [
    {
     "name": "stdout",
     "output_type": "stream",
     "text": [
      "2405153285296\n"
     ]
    }
   ],
   "source": [
    "#was to print the address of the memory block address for given value\n",
    "s='narendra'\n",
    "print(id(s))"
   ]
  },
  {
   "cell_type": "code",
   "execution_count": 119,
   "metadata": {},
   "outputs": [
    {
     "name": "stdout",
     "output_type": "stream",
     "text": [
      "narendra\n",
      "22\n",
      "dict_items([('name', 'narendra'), ('age', '22'), ('mno', 9014983958), ('mail', 'narendradappili@gmail.com')])\n",
      "dict_keys(['name', 'age', 'mno', 'mail'])\n",
      "dict_values(['narendra', '22', 9014983958, 'narendradappili@gmail.com'])\n"
     ]
    }
   ],
   "source": [
    "#was to print your details firtly store your details, extract the values and display it\n",
    "d={'name':'narendra','age':'22','mno':9014983958,'mail':'narendradappili@gmail.com'}\n",
    "print(d['name']) \n",
    "print(d['age'])\n",
    "print(d.items())\n",
    "print(d.keys())\n",
    "print(d.values())"
   ]
  },
  {
   "cell_type": "code",
   "execution_count": 120,
   "metadata": {},
   "outputs": [
    {
     "name": "stdout",
     "output_type": "stream",
     "text": [
      "30 20\n"
     ]
    }
   ],
   "source": [
    "#was to swap two variable values by using temp\n",
    "a=20\n",
    "b=30\n",
    "temp=a\n",
    "a=b\n",
    "b=temp\n",
    "print(a,b) "
   ]
  },
  {
   "cell_type": "code",
   "execution_count": 121,
   "metadata": {},
   "outputs": [
    {
     "name": "stdout",
     "output_type": "stream",
     "text": [
      "(2, 3, 4, 5, 6, 8) [1, 2, 3, 4]\n"
     ]
    }
   ],
   "source": [
    "#was to swap two variable values without using temp\n",
    "a=[1,2,3,4]\n",
    "b=(2,3,4,5,6,8)\n",
    "a,b=b,a\n",
    "print(a,b)"
   ]
  },
  {
   "cell_type": "code",
   "execution_count": 122,
   "metadata": {},
   "outputs": [
    {
     "name": "stdout",
     "output_type": "stream",
     "text": [
      "[1, 2, 3, 4, 5]\n",
      "(1, 2, 3, 4, 5, 6, 7)\n"
     ]
    }
   ],
   "source": [
    "#was to initialize a value and print the value, after print the value, then reinitialize the new value to the existing variable and display the value\n",
    "#initialization\n",
    "a=[1,2,3,4,5]\n",
    "print(a)\n",
    "#reinitialize the value\n",
    "a=(1,2,3,4,5,6,7,)\n",
    "print(a)"
   ]
  },
  {
   "cell_type": "code",
   "execution_count": 123,
   "metadata": {},
   "outputs": [
    {
     "name": "stdout",
     "output_type": "stream",
     "text": [
      "14\n"
     ]
    }
   ],
   "source": [
    "#was to find the length of the sequence\n",
    "s='asdjsdhuhdsfhb'\n",
    "print(len(s))"
   ]
  },
  {
   "cell_type": "code",
   "execution_count": 124,
   "metadata": {},
   "outputs": [
    {
     "name": "stdout",
     "output_type": "stream",
     "text": [
      "4\n",
      "3\n"
     ]
    }
   ],
   "source": [
    "#was to print the middle value and find the mid length of the sequence\n",
    "s=[1,2,3,4,5,67,8]\n",
    "print(s[len(s)//2])\n",
    "print(len(s)//2)"
   ]
  },
  {
   "cell_type": "code",
   "execution_count": 125,
   "metadata": {},
   "outputs": [
    {
     "name": "stdout",
     "output_type": "stream",
     "text": [
      "abdhjdajhdhd\n"
     ]
    }
   ],
   "source": [
    "#was to concate the two strings\n",
    "a='abdhjd'\n",
    "b='ajhdhd'\n",
    "print(a+b)"
   ]
  },
  {
   "cell_type": "code",
   "execution_count": 126,
   "metadata": {},
   "outputs": [
    {
     "name": "stdout",
     "output_type": "stream",
     "text": [
      "jhhfhsdjhjdf\n"
     ]
    }
   ],
   "source": [
    "#was to concate the new string to the ending of the string\n",
    "a='jhhfhsd'\n",
    "b='jhjdf'\n",
    "print(a+b)"
   ]
  },
  {
   "cell_type": "code",
   "execution_count": 127,
   "metadata": {},
   "outputs": [
    {
     "name": "stdout",
     "output_type": "stream",
     "text": [
      "abadgsde\n"
     ]
    }
   ],
   "source": [
    "#was to concate the new string to the middle of the given string\n",
    "s='abcde'\n",
    "t='adgs'\n",
    "print(s[0:len(s)//2:]+t+s[(len(s)//2)+1::])"
   ]
  },
  {
   "cell_type": "code",
   "execution_count": 128,
   "metadata": {},
   "outputs": [
    {
     "name": "stdout",
     "output_type": "stream",
     "text": [
      "pysplders\n"
     ]
    }
   ],
   "source": [
    "#was to modify the new value to the middle of the given string\n",
    "s='pyspiders'\n",
    "print(s[:len(s)//2]+'l'+s[(len(s)//2)+1::])"
   ]
  },
  {
   "cell_type": "code",
   "execution_count": 129,
   "metadata": {},
   "outputs": [
    {
     "name": "stdout",
     "output_type": "stream",
     "text": [
      "pyspiders\n"
     ]
    }
   ],
   "source": [
    "#was to mlodify the sequence of characters in string\n",
    "s='pyspiders'\n",
    "print(s[:3:]+'pid'+s[6::])"
   ]
  },
  {
   "cell_type": "code",
   "execution_count": 130,
   "metadata": {},
   "outputs": [
    {
     "name": "stdout",
     "output_type": "stream",
     "text": [
      "pyspiDers\n"
     ]
    }
   ],
   "source": [
    "#was to change the specific character into upper case\n",
    "s='pyspiders'\n",
    "print(s[:5]+'D'+s[6:]) "
   ]
  },
  {
   "cell_type": "code",
   "execution_count": 131,
   "metadata": {},
   "outputs": [
    {
     "name": "stdout",
     "output_type": "stream",
     "text": [
      "pypiders\n"
     ]
    }
   ],
   "source": [
    "#was to delete specific character from string\n",
    "s='pyspiders'\n",
    "print(s[:2]+s[3:])"
   ]
  },
  {
   "cell_type": "code",
   "execution_count": 132,
   "metadata": {},
   "outputs": [
    {
     "name": "stdout",
     "output_type": "stream",
     "text": [
      "pysers\n"
     ]
    }
   ],
   "source": [
    "#was to delete the sequence of characters from the given string\n",
    "s='pyspiders'\n",
    "print(s[:3]+s[6:])\n",
    "\n"
   ]
  },
  {
   "cell_type": "code",
   "execution_count": 133,
   "metadata": {},
   "outputs": [
    {
     "name": "stdout",
     "output_type": "stream",
     "text": [
      "[1, 34, 8, 4]\n"
     ]
    }
   ],
   "source": [
    "#was to modify the specific value in list\n",
    "l=[1,34,6,4]\n",
    "l[2]=8\n",
    "print(l)"
   ]
  },
  {
   "cell_type": "code",
   "execution_count": 134,
   "metadata": {},
   "outputs": [
    {
     "name": "stdout",
     "output_type": "stream",
     "text": [
      "[9, 2, 3, 4, 5]\n"
     ]
    }
   ],
   "source": [
    "#was to modify the new value to the starting of the list\n",
    "l=[1,2,3,4,5]\n",
    "l[0]=9\n",
    "print(l)"
   ]
  },
  {
   "cell_type": "code",
   "execution_count": 135,
   "metadata": {},
   "outputs": [
    {
     "name": "stdout",
     "output_type": "stream",
     "text": [
      "[1, 2, 3, 4, 9]\n"
     ]
    }
   ],
   "source": [
    "#was to modify the new value to the ending of the list\n",
    "l=[1,2,3,4,5]\n",
    "l[-1]=9\n",
    "print(l)"
   ]
  },
  {
   "cell_type": "code",
   "execution_count": 136,
   "metadata": {},
   "outputs": [
    {
     "name": "stdout",
     "output_type": "stream",
     "text": [
      "[1, 2, 9, 4, 5]\n"
     ]
    }
   ],
   "source": [
    "#was to modify the new value to the middle of the list\n",
    "l=[1,2,3,4,5]\n",
    "l[len(l)//2]=9\n",
    "print(l)"
   ]
  },
  {
   "cell_type": "code",
   "execution_count": 137,
   "metadata": {},
   "outputs": [
    {
     "name": "stdout",
     "output_type": "stream",
     "text": [
      "[9, 10, 11, 12, 5, 6, 7, 8]\n"
     ]
    }
   ],
   "source": [
    "#was to modify the starting four positions of the list\n",
    "l=[1,2,3,4,5,6,7,8]\n",
    "l[0:4]=[9,10,11,12]\n",
    "print(l)"
   ]
  },
  {
   "cell_type": "code",
   "execution_count": 138,
   "metadata": {},
   "outputs": [
    {
     "name": "stdout",
     "output_type": "stream",
     "text": [
      "[2, 3, 4, 5]\n"
     ]
    }
   ],
   "source": [
    "#was to delete the specific element from the list\n",
    "l=[1,2,3,4,5]\n",
    "del l[0]\n",
    "print(l)"
   ]
  },
  {
   "cell_type": "code",
   "execution_count": 139,
   "metadata": {},
   "outputs": [
    {
     "name": "stdout",
     "output_type": "stream",
     "text": [
      "[2, 3, 4, 5]\n"
     ]
    }
   ],
   "source": [
    "#was to delete the specific value from  the list without using del keyword\n",
    "l=[1,2,3,4,5]\n",
    "l[0:1]=[]\n",
    "print(l)"
   ]
  },
  {
   "cell_type": "code",
   "execution_count": 140,
   "metadata": {},
   "outputs": [
    {
     "name": "stdout",
     "output_type": "stream",
     "text": [
      "[10, 20, 30, 40, 'a', 's', 'd']\n"
     ]
    }
   ],
   "source": [
    "#was to concate the new collection to the list\n",
    "l=[10,20,30,40]\n",
    "m='asd'\n",
    "print(l+list(m))\n",
    "\n"
   ]
  },
  {
   "cell_type": "code",
   "execution_count": 141,
   "metadata": {},
   "outputs": [
    {
     "name": "stdout",
     "output_type": "stream",
     "text": [
      "2405153348992\n",
      "[10, 20, 30, 40, 'a', 's', 'd']\n",
      "2405179617408\n"
     ]
    }
   ],
   "source": [
    "#was to concate the new collection to the list \n",
    "# to different address\n",
    "l=[10,20,30,40]\n",
    "print(id(l))\n",
    "m='asd'\n",
    "l=l+list(m)\n",
    "print(l)\n",
    "print(id(l))"
   ]
  },
  {
   "cell_type": "code",
   "execution_count": 142,
   "metadata": {},
   "outputs": [
    {
     "name": "stdout",
     "output_type": "stream",
     "text": [
      "2405179672448\n",
      "[10, 20, 30, 40, 'a', 's', 'd']\n",
      "2405179672448\n"
     ]
    }
   ],
   "source": [
    "#was to concate the new collection to the list \n",
    "# to same address by using compound assingnment operator\n",
    "l=[10,20,30,40]\n",
    "print(id(l))\n",
    "m='asd'\n",
    "l+=list(m)\n",
    "print(l)\n",
    "print(id(l))"
   ]
  },
  {
   "cell_type": "code",
   "execution_count": 143,
   "metadata": {},
   "outputs": [
    {
     "name": "stdout",
     "output_type": "stream",
     "text": [
      "2405179546464\n",
      "{1, 2, 3, 4, 40, 10, 20, 30}\n",
      "2405179545792\n"
     ]
    }
   ],
   "source": [
    "#was to concate the new valus into set\n",
    "# to different address\n",
    "s={10,20,30,40}\n",
    "print(id(s))\n",
    "s=s|{1,2,3,4}\n",
    "print(s)\n",
    "print(id(s))"
   ]
  },
  {
   "cell_type": "code",
   "execution_count": 144,
   "metadata": {},
   "outputs": [
    {
     "name": "stdout",
     "output_type": "stream",
     "text": [
      "{40, 10, 20, 30} 2405179546912\n",
      "{1, 2, 3, 4, 40, 10, 20, 30}\n",
      "2405179546912\n"
     ]
    }
   ],
   "source": [
    "#was to concate the new valus into set\n",
    "# to same address by using compound assignment operator\n",
    "s={10,20,30,40}\n",
    "print(s,id(s))\n",
    "s|={1,2,3,4}\n",
    "print(s)\n",
    "print(id(s))"
   ]
  },
  {
   "cell_type": "code",
   "execution_count": 145,
   "metadata": {},
   "outputs": [
    {
     "name": "stdout",
     "output_type": "stream",
     "text": [
      "{40, 10, 20, 30}\n",
      "2405179547808\n",
      "{40, 30}\n",
      "2405179547808\n"
     ]
    }
   ],
   "source": [
    "#was to perform difference operation on set\n",
    "s={10,20,30,40}\n",
    "print(s)\n",
    "print(id(s))\n",
    "s-={10,20}\n",
    "print(s)\n",
    "print(id(s))"
   ]
  },
  {
   "cell_type": "code",
   "execution_count": 146,
   "metadata": {},
   "outputs": [
    {
     "name": "stdout",
     "output_type": "stream",
     "text": [
      "{1: 10, 2: [1, 2, 3], 3: 'abc', 4: (10, 20)}\n"
     ]
    }
   ],
   "source": [
    "#was to concate the new value pair to the dictionary\n",
    "d={1:10,2:[1,2,3],3:'abc'}\n",
    "d[4]=(10,20)\n",
    "print(d)\n"
   ]
  },
  {
   "cell_type": "code",
   "execution_count": 147,
   "metadata": {},
   "outputs": [
    {
     "name": "stdout",
     "output_type": "stream",
     "text": [
      "{1: 100, 2: [1, 2, 3], 3: 'abc'}\n"
     ]
    }
   ],
   "source": [
    "#was to modufy the specific value in the dictionary\n",
    "d={1:10,2:[1,2,3],3:'abc'}\n",
    "d[1]=100\n",
    "print(d)"
   ]
  },
  {
   "cell_type": "code",
   "execution_count": 148,
   "metadata": {},
   "outputs": [
    {
     "name": "stdout",
     "output_type": "stream",
     "text": [
      "{2: [1, 2, 3], 3: 'abc'}\n"
     ]
    }
   ],
   "source": [
    "#was to delete specific value from dict\n",
    "d={1:10,2:[1,2,3],3:'abc'}\n",
    "del d[1]\n",
    "print(d)"
   ]
  },
  {
   "cell_type": "code",
   "execution_count": 149,
   "metadata": {},
   "outputs": [
    {
     "name": "stdout",
     "output_type": "stream",
     "text": [
      "[1, 2, 3, 4, 5, 10, 20, 30]\n"
     ]
    }
   ],
   "source": [
    "#was to concate list and tuple values by using typecasting\n",
    "l=[1,2,3,4,5]\n",
    "m=10,20,30,\n",
    "print(l+list(m))"
   ]
  },
  {
   "cell_type": "code",
   "execution_count": 150,
   "metadata": {},
   "outputs": [
    {
     "name": "stdout",
     "output_type": "stream",
     "text": [
      "[1, 2, 3, 4, 5, 10, 20, 30]\n"
     ]
    }
   ],
   "source": [
    "#was to concate list and tuple values without using typecasting\n",
    "# by using assignment operator\n",
    "l=[1,2,3,4,5]\n",
    "m=10,20,30,\n",
    "l+=m\n",
    "print(l)"
   ]
  },
  {
   "cell_type": "code",
   "execution_count": 151,
   "metadata": {},
   "outputs": [
    {
     "name": "stdout",
     "output_type": "stream",
     "text": [
      "True\n"
     ]
    }
   ],
   "source": [
    "#was to check the number is divisible by 3\n",
    "n=12\n",
    "print(n%3==0)"
   ]
  },
  {
   "cell_type": "code",
   "execution_count": 152,
   "metadata": {},
   "outputs": [
    {
     "name": "stdout",
     "output_type": "stream",
     "text": [
      "True\n",
      "False\n"
     ]
    }
   ],
   "source": [
    "#was to check the number is divisible by 2 and 6\n",
    "n=12\n",
    "print(n%2==0 and n%6==0)\n",
    "m=13\n",
    "print(m%2==0 and m%6==0)"
   ]
  },
  {
   "cell_type": "code",
   "execution_count": 153,
   "metadata": {},
   "outputs": [
    {
     "name": "stdout",
     "output_type": "stream",
     "text": [
      "True\n",
      "False\n"
     ]
    }
   ],
   "source": [
    "#was to check the last digit is divisible by 3 from given integer\n",
    "n=1999\n",
    "res=n%10\n",
    "print(res%3==0)\n",
    "\n",
    "\n",
    "#------\n",
    "n=1995\n",
    "res=n%10\n",
    "print(res%3==0)\n"
   ]
  },
  {
   "cell_type": "code",
   "execution_count": 154,
   "metadata": {},
   "outputs": [
    {
     "name": "stdout",
     "output_type": "stream",
     "text": [
      "1783\n"
     ]
    }
   ],
   "source": [
    "#was to convert integer to string with using type casting\n",
    "n=1783\n",
    "res = str(n)\n",
    "print(res)"
   ]
  },
  {
   "cell_type": "code",
   "execution_count": 155,
   "metadata": {},
   "outputs": [
    {
     "name": "stdout",
     "output_type": "stream",
     "text": [
      "True\n",
      "False\n"
     ]
    }
   ],
   "source": [
    "#was to check the given number is greater than 150\n",
    "n=1783\n",
    "print(n>150)\n",
    "\n",
    "m=140\n",
    "print(m>150)"
   ]
  },
  {
   "cell_type": "code",
   "execution_count": 156,
   "metadata": {},
   "outputs": [
    {
     "name": "stdout",
     "output_type": "stream",
     "text": [
      "True\n",
      "False\n"
     ]
    }
   ],
   "source": [
    "#was to check the given number is greater than or equal to 150\n",
    "n=1783\n",
    "print(n>=150)\n",
    "\n",
    "m=130\n",
    "print(m>=150)"
   ]
  },
  {
   "cell_type": "code",
   "execution_count": 157,
   "metadata": {},
   "outputs": [
    {
     "name": "stdout",
     "output_type": "stream",
     "text": [
      "False\n"
     ]
    }
   ],
   "source": [
    "#was to check the given number is less than 150\n",
    "n=1783\n",
    "print(n<150)"
   ]
  },
  {
   "cell_type": "code",
   "execution_count": 158,
   "metadata": {},
   "outputs": [
    {
     "name": "stdout",
     "output_type": "stream",
     "text": [
      "False\n",
      "True\n"
     ]
    }
   ],
   "source": [
    "#was to check the given number is less than 150\n",
    "n=1783\n",
    "print(n<100)\n",
    "\n",
    "m=100\n",
    "print(m<=100)"
   ]
  },
  {
   "cell_type": "code",
   "execution_count": 159,
   "metadata": {},
   "outputs": [
    {
     "name": "stdout",
     "output_type": "stream",
     "text": [
      "True\n"
     ]
    }
   ],
   "source": [
    "#was to check the given number is greater than 15 and less than 24\n",
    "n=17\n",
    "print(n>15 and n<24)\n"
   ]
  },
  {
   "cell_type": "code",
   "execution_count": 160,
   "metadata": {},
   "outputs": [
    {
     "name": "stdout",
     "output_type": "stream",
     "text": [
      "False\n",
      "True\n"
     ]
    }
   ],
   "source": [
    "#was to check the given number is even number\n",
    "n=1783\n",
    "print(n%2==0)\n",
    "\n",
    "m=468\n",
    "print(m%2==0)"
   ]
  },
  {
   "cell_type": "code",
   "execution_count": 161,
   "metadata": {},
   "outputs": [
    {
     "name": "stdout",
     "output_type": "stream",
     "text": [
      "True\n",
      "False\n"
     ]
    }
   ],
   "source": [
    "#was to check the given number is odd number\n",
    "n=1783\n",
    "print(n%2!=0)\n",
    "\n",
    "m=468\n",
    "print(m%2!=0)"
   ]
  },
  {
   "cell_type": "code",
   "execution_count": 162,
   "metadata": {},
   "outputs": [
    {
     "name": "stdout",
     "output_type": "stream",
     "text": [
      "asdasdasdasdasdasd\n"
     ]
    }
   ],
   "source": [
    "#was to check perform the replication of a given string with 6\n",
    "# .... multiplication between one integer and collection datatype is called replication\n",
    "s='asd'\n",
    "print(s*6)"
   ]
  },
  {
   "cell_type": "code",
   "execution_count": 163,
   "metadata": {},
   "outputs": [
    {
     "name": "stdout",
     "output_type": "stream",
     "text": [
      "True\n",
      "False\n"
     ]
    }
   ],
   "source": [
    "#was to check the number is divisible by three and also greater then 23\n",
    "n=30\n",
    "print(n%3==0 and n>23)\n",
    "\n",
    "m=18\n",
    "print(m%3==0 and m>23)"
   ]
  },
  {
   "cell_type": "code",
   "execution_count": 164,
   "metadata": {},
   "outputs": [
    {
     "name": "stdout",
     "output_type": "stream",
     "text": [
      "9\n",
      "False\n"
     ]
    }
   ],
   "source": [
    "#was to check the length of given collection is even or odd\n",
    "a='12334njff'\n",
    "print(len(a))\n",
    "print(len(a)%2==0)"
   ]
  },
  {
   "cell_type": "code",
   "execution_count": 165,
   "metadata": {},
   "outputs": [
    {
     "name": "stdout",
     "output_type": "stream",
     "text": [
      "True\n"
     ]
    }
   ],
   "source": [
    "#was to check the length of the collection is less than 55 and grater than the 16\n",
    "t='12345hg32hjgkhhajhdfkfjj'\n",
    "print(len(t)>16 and len(t)<55)"
   ]
  },
  {
   "cell_type": "code",
   "execution_count": 166,
   "metadata": {},
   "outputs": [
    {
     "name": "stdout",
     "output_type": "stream",
     "text": [
      "30\n",
      "False\n"
     ]
    }
   ],
   "source": [
    "#was to check the length of the collection is divisible by 5 and odd\n",
    "t='12345hg32hjgkhhajhdfkfjjsqwert'\n",
    "print(len(t))\n",
    "print(len(t)%5==0 and len(t)%2!=0)"
   ]
  },
  {
   "cell_type": "code",
   "execution_count": 167,
   "metadata": {},
   "outputs": [
    {
     "name": "stdout",
     "output_type": "stream",
     "text": [
      "<class 'str'>\n"
     ]
    }
   ],
   "source": [
    "#was to check the middle value of a given collection is which type\n",
    "s='asdjf'\n",
    "res=type(s[(len(s)//2)])\n",
    "print(res)"
   ]
  },
  {
   "cell_type": "code",
   "execution_count": 168,
   "metadata": {},
   "outputs": [
    {
     "name": "stdout",
     "output_type": "stream",
     "text": [
      "True\n"
     ]
    }
   ],
   "source": [
    "#wss to check the number is divisible by 20 and 30 and it should be even\n",
    "n=360\n",
    "print(n%20==0 and n%30==0 and n%2==0)"
   ]
  },
  {
   "cell_type": "code",
   "execution_count": 169,
   "metadata": {},
   "outputs": [
    {
     "name": "stdout",
     "output_type": "stream",
     "text": [
      "True\n"
     ]
    }
   ],
   "source": [
    "#was to check the number is even and less than 120\n",
    "n=110\n",
    "print(n%2==0 and n<120)"
   ]
  },
  {
   "cell_type": "code",
   "execution_count": 170,
   "metadata": {},
   "outputs": [
    {
     "name": "stdout",
     "output_type": "stream",
     "text": [
      "True\n"
     ]
    }
   ],
   "source": [
    "#was to check the number is even and less than or equal to 70 and grater than or equal to 40\n",
    "n=50\n",
    "print(n%2==0 and n>=40 and n<=70)"
   ]
  },
  {
   "cell_type": "code",
   "execution_count": 171,
   "metadata": {},
   "outputs": [
    {
     "name": "stdout",
     "output_type": "stream",
     "text": [
      "True\n"
     ]
    }
   ],
   "source": [
    "#was to check the number is odd and grater than 97\n",
    "n=95\n",
    "print(n%2!=0 and n<97)"
   ]
  },
  {
   "cell_type": "code",
   "execution_count": 172,
   "metadata": {},
   "outputs": [
    {
     "name": "stdout",
     "output_type": "stream",
     "text": [
      "True\n"
     ]
    }
   ],
   "source": [
    "#was to check the number is grater than 48 andless than 122 and divisible by 4\n",
    "n=112\n",
    "print(n%4==0 and n>48 and n<122)"
   ]
  },
  {
   "cell_type": "code",
   "execution_count": 173,
   "metadata": {},
   "outputs": [
    {
     "name": "stdout",
     "output_type": "stream",
     "text": [
      "True\n"
     ]
    }
   ],
   "source": [
    "#was to check the number is divisible 3 or 5\n",
    "n=110\n",
    "print(n%3==0 or n%5==0)"
   ]
  },
  {
   "cell_type": "code",
   "execution_count": 174,
   "metadata": {},
   "outputs": [
    {
     "name": "stdout",
     "output_type": "stream",
     "text": [
      "100\n",
      "True\n"
     ]
    }
   ],
   "source": [
    "#was to check the last character's ascii value should be divisible by 5\n",
    "s='asdfgd'\n",
    "print(ord(s[-1]))\n",
    "print((ord(s[-1]))%5==0)"
   ]
  },
  {
   "cell_type": "code",
   "execution_count": null,
   "metadata": {},
   "outputs": [],
   "source": []
  }
 ],
 "metadata": {
  "kernelspec": {
   "display_name": "Python 3",
   "language": "python",
   "name": "python3"
  },
  "language_info": {
   "codemirror_mode": {
    "name": "ipython",
    "version": 3
   },
   "file_extension": ".py",
   "mimetype": "text/x-python",
   "name": "python",
   "nbconvert_exporter": "python",
   "pygments_lexer": "ipython3",
   "version": "3.11.0a5"
  },
  "orig_nbformat": 4
 },
 "nbformat": 4,
 "nbformat_minor": 2
}
