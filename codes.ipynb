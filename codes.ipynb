{
 "cells": [
  {
   "cell_type": "code",
   "execution_count": 4,
   "metadata": {},
   "outputs": [],
   "source": [
    "a=10\n",
    "b=20\n",
    "c=a+b"
   ]
  },
  {
   "cell_type": "code",
   "execution_count": 5,
   "metadata": {},
   "outputs": [
    {
     "name": "stdout",
     "output_type": "stream",
     "text": [
      "hello world\n"
     ]
    }
   ],
   "source": [
    "print('hello world')"
   ]
  },
  {
   "cell_type": "code",
   "execution_count": 6,
   "metadata": {},
   "outputs": [
    {
     "name": "stdout",
     "output_type": "stream",
     "text": [
      "30\n"
     ]
    }
   ],
   "source": [
    "a=10\n",
    "b=20\n",
    "c=a+b\n",
    "print(c)"
   ]
  },
  {
   "cell_type": "code",
   "execution_count": 7,
   "metadata": {},
   "outputs": [
    {
     "data": {
      "text/plain": [
       "str"
      ]
     },
     "execution_count": 7,
     "metadata": {},
     "output_type": "execute_result"
    }
   ],
   "source": [
    "s='narendra'\n",
    "s\n",
    "id(s)\n",
    "type(s)\n"
   ]
  },
  {
   "cell_type": "code",
   "execution_count": 8,
   "metadata": {},
   "outputs": [
    {
     "name": "stdout",
     "output_type": "stream",
     "text": [
      "1469035608368\n",
      "<class 'str'>\n"
     ]
    }
   ],
   "source": [
    "a='eritjrjfnnfsfj'\n",
    "print(id(s))\n",
    "print(type(s))"
   ]
  },
  {
   "cell_type": "code",
   "execution_count": 9,
   "metadata": {},
   "outputs": [
    {
     "name": "stdout",
     "output_type": "stream",
     "text": [
      "narendra\n",
      "1469035608368\n"
     ]
    },
    {
     "data": {
      "text/plain": [
       "str"
      ]
     },
     "execution_count": 9,
     "metadata": {},
     "output_type": "execute_result"
    }
   ],
   "source": [
    "s='narendra'\n",
    "print(s)\n",
    "print(id(s))\n",
    "type(s)"
   ]
  },
  {
   "cell_type": "code",
   "execution_count": 15,
   "metadata": {},
   "outputs": [
    {
     "name": "stdout",
     "output_type": "stream",
     "text": [
      "narendra\n"
     ]
    },
    {
     "data": {
      "text/plain": [
       "'n'"
      ]
     },
     "execution_count": 15,
     "metadata": {},
     "output_type": "execute_result"
    }
   ],
   "source": [
    "s='narendra'\n",
    "print(s)\n",
    "s[-1]\n",
    "s[0]\n",
    "\n"
   ]
  },
  {
   "cell_type": "code",
   "execution_count": 16,
   "metadata": {},
   "outputs": [
    {
     "name": "stdout",
     "output_type": "stream",
     "text": [
      "hello world\n"
     ]
    }
   ],
   "source": [
    "#was to print 'hello world' by using shell\n",
    "print('hello world')"
   ]
  },
  {
   "cell_type": "code",
   "execution_count": 18,
   "metadata": {},
   "outputs": [
    {
     "name": "stdout",
     "output_type": "stream",
     "text": [
      "80\n"
     ]
    }
   ],
   "source": [
    "#was to initialize variable and value as 80\n",
    "a=80\n",
    "print(a)"
   ]
  },
  {
   "cell_type": "code",
   "execution_count": 19,
   "metadata": {},
   "outputs": [
    {
     "name": "stdout",
     "output_type": "stream",
     "text": [
      "180 120 280\n"
     ]
    }
   ],
   "source": [
    "#was to initialize multiple varaiable values are 180,120,280\n",
    "a,b,c=180,120,280\n",
    "print(a,b,c)"
   ]
  },
  {
   "cell_type": "code",
   "execution_count": 20,
   "metadata": {},
   "outputs": [
    {
     "name": "stdout",
     "output_type": "stream",
     "text": [
      "<class 'list'>\n"
     ]
    }
   ],
   "source": [
    "#was to print the type of data in given value\n",
    "a=[1,2,3,4]\n",
    "print(type(a))"
   ]
  },
  {
   "cell_type": "code",
   "execution_count": 21,
   "metadata": {},
   "outputs": [
    {
     "name": "stdout",
     "output_type": "stream",
     "text": [
      "1469035608368\n"
     ]
    }
   ],
   "source": [
    "#was to print the address of the memory block address for given value\n",
    "s='narendra'\n",
    "print(id(s))"
   ]
  },
  {
   "cell_type": "code",
   "execution_count": 22,
   "metadata": {},
   "outputs": [
    {
     "name": "stdout",
     "output_type": "stream",
     "text": [
      "narendra\n",
      "22\n",
      "dict_items([('name', 'narendra'), ('age', '22'), ('mno', 9014983958), ('mail', 'narendradappili@gmail.com')])\n",
      "dict_keys(['name', 'age', 'mno', 'mail'])\n",
      "dict_values(['narendra', '22', 9014983958, 'narendradappili@gmail.com'])\n"
     ]
    }
   ],
   "source": [
    "#was to print your details firtly store your details, extract the values and display it\n",
    "d={'name':'narendra','age':'22','mno':9014983958,'mail':'narendradappili@gmail.com'}\n",
    "print(d['name']) \n",
    "print(d['age'])\n",
    "print(d.items())\n",
    "print(d.keys())\n",
    "print(d.values())"
   ]
  },
  {
   "cell_type": "code",
   "execution_count": 23,
   "metadata": {},
   "outputs": [
    {
     "name": "stdout",
     "output_type": "stream",
     "text": [
      "30 20\n"
     ]
    }
   ],
   "source": [
    "#was to swap two variable values by using temp\n",
    "a=20\n",
    "b=30\n",
    "temp=a\n",
    "a=b\n",
    "b=temp\n",
    "print(a,b) "
   ]
  },
  {
   "cell_type": "code",
   "execution_count": 24,
   "metadata": {},
   "outputs": [
    {
     "name": "stdout",
     "output_type": "stream",
     "text": [
      "(2, 3, 4, 5, 6, 8) [1, 2, 3, 4]\n"
     ]
    }
   ],
   "source": [
    "#was to swap two variable values without using temp\n",
    "a=[1,2,3,4]\n",
    "b=(2,3,4,5,6,8)\n",
    "a,b=b,a\n",
    "print(a,b)"
   ]
  },
  {
   "cell_type": "code",
   "execution_count": 25,
   "metadata": {},
   "outputs": [
    {
     "name": "stdout",
     "output_type": "stream",
     "text": [
      "[1, 2, 3, 4, 5]\n",
      "(1, 2, 3, 4, 5, 6, 7)\n"
     ]
    }
   ],
   "source": [
    "#was to initialize a value and print the value, after print the value, then reinitialize the new value to the existing variable and display the value\n",
    "#initialization\n",
    "a=[1,2,3,4,5]\n",
    "print(a)\n",
    "#reinitialize the value\n",
    "a=(1,2,3,4,5,6,7,)\n",
    "print(a)"
   ]
  },
  {
   "cell_type": "code",
   "execution_count": 26,
   "metadata": {},
   "outputs": [
    {
     "name": "stdout",
     "output_type": "stream",
     "text": [
      "14\n"
     ]
    }
   ],
   "source": [
    "#was to find the length of the sequence\n",
    "s='asdjsdhuhdsfhb'\n",
    "print(len(s))"
   ]
  },
  {
   "cell_type": "code",
   "execution_count": 30,
   "metadata": {},
   "outputs": [
    {
     "name": "stdout",
     "output_type": "stream",
     "text": [
      "4\n",
      "3\n"
     ]
    }
   ],
   "source": [
    "#was to print the middle value and find the mid length of the sequence\n",
    "s=[1,2,3,4,5,67,8]\n",
    "print(s[len(s)//2])\n",
    "print(len(s)//2)"
   ]
  },
  {
   "cell_type": "code",
   "execution_count": 31,
   "metadata": {},
   "outputs": [
    {
     "name": "stdout",
     "output_type": "stream",
     "text": [
      "abdhjdajhdhd\n"
     ]
    }
   ],
   "source": [
    "#was to concate the two strings\n",
    "a='abdhjd'\n",
    "b='ajhdhd'\n",
    "print(a+b)"
   ]
  },
  {
   "cell_type": "code",
   "execution_count": 32,
   "metadata": {},
   "outputs": [
    {
     "name": "stdout",
     "output_type": "stream",
     "text": [
      "jhhfhsdjhjdf\n"
     ]
    }
   ],
   "source": [
    "#was to concate the new string to the ending of the string\n",
    "a='jhhfhsd'\n",
    "b='jhjdf'\n",
    "print(a+b)"
   ]
  },
  {
   "cell_type": "code",
   "execution_count": 33,
   "metadata": {},
   "outputs": [
    {
     "name": "stdout",
     "output_type": "stream",
     "text": [
      "abadgsde\n"
     ]
    }
   ],
   "source": [
    "#was to concate the new string to the middle of the given string\n",
    "s='abcde'\n",
    "t='adgs'\n",
    "print(s[0:len(s)//2:]+t+s[(len(s)//2)+1::])"
   ]
  },
  {
   "cell_type": "code",
   "execution_count": 36,
   "metadata": {},
   "outputs": [
    {
     "name": "stdout",
     "output_type": "stream",
     "text": [
      "pysplders\n"
     ]
    }
   ],
   "source": [
    "#was to modify the new value to the middle of the given string\n",
    "s='pyspiders'\n",
    "print(s[:len(s)//2]+'l'+s[(len(s)//2)+1::])"
   ]
  },
  {
   "cell_type": "code",
   "execution_count": 37,
   "metadata": {},
   "outputs": [
    {
     "name": "stdout",
     "output_type": "stream",
     "text": [
      "pyspiders\n"
     ]
    }
   ],
   "source": [
    "#was to mlodify the sequence of characters in string\n",
    "s='pyspiders'\n",
    "print(s[:3:]+'pid'+s[6::])"
   ]
  },
  {
   "cell_type": "code",
   "execution_count": 38,
   "metadata": {},
   "outputs": [
    {
     "name": "stdout",
     "output_type": "stream",
     "text": [
      "pyspiDers\n"
     ]
    }
   ],
   "source": [
    "#was to change the specific character into upper case\n",
    "s='pyspiders'\n",
    "print(s[:5]+'D'+s[6:]) "
   ]
  },
  {
   "cell_type": "code",
   "execution_count": 39,
   "metadata": {},
   "outputs": [
    {
     "name": "stdout",
     "output_type": "stream",
     "text": [
      "pypiders\n"
     ]
    }
   ],
   "source": [
    "#was to delete specific character from string\n",
    "s='pyspiders'\n",
    "print(s[:2]+s[3:])"
   ]
  },
  {
   "cell_type": "code",
   "execution_count": 40,
   "metadata": {},
   "outputs": [
    {
     "name": "stdout",
     "output_type": "stream",
     "text": [
      "pysers\n"
     ]
    }
   ],
   "source": [
    "#was to delete the sequence of characters from the given string\n",
    "s='pyspiders'\n",
    "print(s[:3]+s[6:])\n",
    "\n"
   ]
  },
  {
   "cell_type": "code",
   "execution_count": 45,
   "metadata": {},
   "outputs": [
    {
     "name": "stdout",
     "output_type": "stream",
     "text": [
      "[1, 34, 8, 4]\n"
     ]
    }
   ],
   "source": [
    "#was to modify the specific value in list\n",
    "l=[1,34,6,4]\n",
    "l[2]=8\n",
    "print(l)"
   ]
  },
  {
   "cell_type": "code",
   "execution_count": 46,
   "metadata": {},
   "outputs": [
    {
     "name": "stdout",
     "output_type": "stream",
     "text": [
      "[9, 2, 3, 4, 5]\n"
     ]
    }
   ],
   "source": [
    "#was to modify the new value to the starting of the list\n",
    "l=[1,2,3,4,5]\n",
    "l[0]=9\n",
    "print(l)"
   ]
  },
  {
   "cell_type": "code",
   "execution_count": 47,
   "metadata": {},
   "outputs": [
    {
     "name": "stdout",
     "output_type": "stream",
     "text": [
      "[1, 2, 3, 4, 9]\n"
     ]
    }
   ],
   "source": [
    "#was to modify the new value to the ending of the list\n",
    "l=[1,2,3,4,5]\n",
    "l[-1]=9\n",
    "print(l)"
   ]
  },
  {
   "cell_type": "code",
   "execution_count": 48,
   "metadata": {},
   "outputs": [
    {
     "name": "stdout",
     "output_type": "stream",
     "text": [
      "[1, 2, 9, 4, 5]\n"
     ]
    }
   ],
   "source": [
    "#was to modify the new value to the middle of the list\n",
    "l=[1,2,3,4,5]\n",
    "l[len(l)//2]=9\n",
    "print(l)"
   ]
  },
  {
   "cell_type": "code",
   "execution_count": 49,
   "metadata": {},
   "outputs": [
    {
     "name": "stdout",
     "output_type": "stream",
     "text": [
      "[9, 10, 11, 12, 5, 6, 7, 8]\n"
     ]
    }
   ],
   "source": [
    "#was to modify the starting four positions of the list\n",
    "l=[1,2,3,4,5,6,7,8]\n",
    "l[0:4]=[9,10,11,12]\n",
    "print(l)"
   ]
  },
  {
   "cell_type": "code",
   "execution_count": 50,
   "metadata": {},
   "outputs": [
    {
     "name": "stdout",
     "output_type": "stream",
     "text": [
      "[2, 3, 4, 5]\n"
     ]
    }
   ],
   "source": [
    "#was to delete the specific element from the list\n",
    "l=[1,2,3,4,5]\n",
    "del l[0]\n",
    "print(l)"
   ]
  },
  {
   "cell_type": "code",
   "execution_count": 52,
   "metadata": {},
   "outputs": [
    {
     "name": "stdout",
     "output_type": "stream",
     "text": [
      "[2, 3, 4, 5]\n"
     ]
    }
   ],
   "source": [
    "#was to delete the specific value from  the list without using del keyword\n",
    "l=[1,2,3,4,5]\n",
    "l[0:1]=[]\n",
    "print(l)"
   ]
  },
  {
   "cell_type": "code",
   "execution_count": 54,
   "metadata": {},
   "outputs": [
    {
     "name": "stdout",
     "output_type": "stream",
     "text": [
      "[10, 20, 30, 40, 'a', 's', 'd']\n"
     ]
    }
   ],
   "source": [
    "#was to concate the new collection to the list\n",
    "l=[10,20,30,40]\n",
    "m='asd'\n",
    "print(l+list(m))\n",
    "\n"
   ]
  },
  {
   "cell_type": "code",
   "execution_count": 56,
   "metadata": {},
   "outputs": [
    {
     "name": "stdout",
     "output_type": "stream",
     "text": [
      "1469059158720\n",
      "[10, 20, 30, 40, 'a', 's', 'd']\n",
      "1469059301120\n"
     ]
    }
   ],
   "source": [
    "#was to concate the new collection to the list \n",
    "# to different address\n",
    "l=[10,20,30,40]\n",
    "print(id(l))\n",
    "m='asd'\n",
    "l=l+list(m)\n",
    "print(l)\n",
    "print(id(l))"
   ]
  },
  {
   "cell_type": "code",
   "execution_count": 57,
   "metadata": {},
   "outputs": [
    {
     "name": "stdout",
     "output_type": "stream",
     "text": [
      "1469059158720\n",
      "[10, 20, 30, 40, 'a', 's', 'd']\n",
      "1469059158720\n"
     ]
    }
   ],
   "source": [
    "#was to concate the new collection to the list \n",
    "# to same address by using compound assingnment operator\n",
    "l=[10,20,30,40]\n",
    "print(id(l))\n",
    "m='asd'\n",
    "l+=list(m)\n",
    "print(l)\n",
    "print(id(l))"
   ]
  },
  {
   "cell_type": "code",
   "execution_count": 58,
   "metadata": {},
   "outputs": [
    {
     "name": "stdout",
     "output_type": "stream",
     "text": [
      "1469059140064\n",
      "{1, 2, 3, 4, 40, 10, 20, 30}\n",
      "1469059141856\n"
     ]
    }
   ],
   "source": [
    "#was to concate the new valus into set\n",
    "# to different address\n",
    "s={10,20,30,40}\n",
    "print(id(s))\n",
    "s=s|{1,2,3,4}\n",
    "print(s)\n",
    "print(id(s))"
   ]
  },
  {
   "cell_type": "code",
   "execution_count": 59,
   "metadata": {},
   "outputs": [
    {
     "name": "stdout",
     "output_type": "stream",
     "text": [
      "{40, 10, 20, 30} 1469059142976\n",
      "{1, 2, 3, 4, 40, 10, 20, 30}\n",
      "1469059142976\n"
     ]
    }
   ],
   "source": [
    "#was to concate the new valus into set\n",
    "# to same address by using compound assignment operator\n",
    "s={10,20,30,40}\n",
    "print(s,id(s))\n",
    "s|={1,2,3,4}\n",
    "print(s)\n",
    "print(id(s))"
   ]
  },
  {
   "cell_type": "code",
   "execution_count": 60,
   "metadata": {},
   "outputs": [
    {
     "name": "stdout",
     "output_type": "stream",
     "text": [
      "{40, 10, 20, 30}\n",
      "1469059141184\n",
      "{40, 30}\n",
      "1469059141184\n"
     ]
    }
   ],
   "source": [
    "#was to perform difference operation on set\n",
    "s={10,20,30,40}\n",
    "print(s)\n",
    "print(id(s))\n",
    "s-={10,20}\n",
    "print(s)\n",
    "print(id(s))"
   ]
  },
  {
   "cell_type": "code",
   "execution_count": 64,
   "metadata": {},
   "outputs": [
    {
     "name": "stdout",
     "output_type": "stream",
     "text": [
      "{1: 10, 2: [1, 2, 3], 3: 'abc', 4: (10, 20)}\n"
     ]
    }
   ],
   "source": [
    "#was to concate the new value pair to the dictionary\n",
    "d={1:10,2:[1,2,3],3:'abc'}\n",
    "d[4]=(10,20)\n",
    "print(d)\n"
   ]
  }
 ],
 "metadata": {
  "kernelspec": {
   "display_name": "Python 3",
   "language": "python",
   "name": "python3"
  },
  "language_info": {
   "codemirror_mode": {
    "name": "ipython",
    "version": 3
   },
   "file_extension": ".py",
   "mimetype": "text/x-python",
   "name": "python",
   "nbconvert_exporter": "python",
   "pygments_lexer": "ipython3",
   "version": "3.11.0a5"
  },
  "orig_nbformat": 4
 },
 "nbformat": 4,
 "nbformat_minor": 2
}
