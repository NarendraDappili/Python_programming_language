{
 "cells": [
  {
   "cell_type": "code",
   "execution_count": 175,
   "metadata": {},
   "outputs": [],
   "source": [
    "#1\n",
    "a=10\n",
    "b=20\n",
    "c=a+b"
   ]
  },
  {
   "cell_type": "code",
   "execution_count": 176,
   "metadata": {},
   "outputs": [
    {
     "name": "stdout",
     "output_type": "stream",
     "text": [
      "hello world\n"
     ]
    }
   ],
   "source": [
    "#2\n",
    "print('hello world')"
   ]
  },
  {
   "cell_type": "code",
   "execution_count": 177,
   "metadata": {},
   "outputs": [
    {
     "name": "stdout",
     "output_type": "stream",
     "text": [
      "30\n"
     ]
    }
   ],
   "source": [
    "#3\n",
    "a=10\n",
    "b=20\n",
    "c=a+b\n",
    "print(c)"
   ]
  },
  {
   "cell_type": "code",
   "execution_count": 178,
   "metadata": {},
   "outputs": [
    {
     "data": {
      "text/plain": [
       "str"
      ]
     },
     "execution_count": 178,
     "metadata": {},
     "output_type": "execute_result"
    }
   ],
   "source": [
    "#4\n",
    "s='narendra'\n",
    "s\n",
    "id(s)\n",
    "type(s)\n"
   ]
  },
  {
   "cell_type": "code",
   "execution_count": 179,
   "metadata": {},
   "outputs": [
    {
     "name": "stdout",
     "output_type": "stream",
     "text": [
      "2405153224944\n",
      "<class 'str'>\n"
     ]
    }
   ],
   "source": [
    "#5\n",
    "a='eritjrjfnnfsfj'\n",
    "print(id(s))\n",
    "print(type(s))"
   ]
  },
  {
   "cell_type": "code",
   "execution_count": 180,
   "metadata": {},
   "outputs": [
    {
     "name": "stdout",
     "output_type": "stream",
     "text": [
      "narendra\n",
      "2405153224944\n"
     ]
    },
    {
     "data": {
      "text/plain": [
       "str"
      ]
     },
     "execution_count": 180,
     "metadata": {},
     "output_type": "execute_result"
    }
   ],
   "source": [
    "#6\n",
    "s='narendra'\n",
    "print(s)\n",
    "print(id(s))\n",
    "type(s)"
   ]
  },
  {
   "cell_type": "code",
   "execution_count": 181,
   "metadata": {},
   "outputs": [
    {
     "name": "stdout",
     "output_type": "stream",
     "text": [
      "narendra\n"
     ]
    },
    {
     "data": {
      "text/plain": [
       "'n'"
      ]
     },
     "execution_count": 181,
     "metadata": {},
     "output_type": "execute_result"
    }
   ],
   "source": [
    "#7\n",
    "s='narendra'\n",
    "print(s)\n",
    "s[-1]\n",
    "s[0]\n",
    "\n"
   ]
  },
  {
   "cell_type": "code",
   "execution_count": 182,
   "metadata": {},
   "outputs": [
    {
     "name": "stdout",
     "output_type": "stream",
     "text": [
      "hello world\n"
     ]
    }
   ],
   "source": [
    "#8.was to print 'hello world' by using shell\n",
    "print('hello world')"
   ]
  },
  {
   "cell_type": "code",
   "execution_count": 183,
   "metadata": {},
   "outputs": [
    {
     "name": "stdout",
     "output_type": "stream",
     "text": [
      "80\n"
     ]
    }
   ],
   "source": [
    "#9.was to initialize variable and value as 80\n",
    "a=80\n",
    "print(a)"
   ]
  },
  {
   "cell_type": "code",
   "execution_count": 184,
   "metadata": {},
   "outputs": [
    {
     "name": "stdout",
     "output_type": "stream",
     "text": [
      "180 120 280\n"
     ]
    }
   ],
   "source": [
    "#10.was to initialize multiple varaiable values are 180,120,280\n",
    "a,b,c=180,120,280\n",
    "print(a,b,c)"
   ]
  },
  {
   "cell_type": "code",
   "execution_count": 185,
   "metadata": {},
   "outputs": [
    {
     "name": "stdout",
     "output_type": "stream",
     "text": [
      "<class 'list'>\n"
     ]
    }
   ],
   "source": [
    "#11.was to print the type of data in given value\n",
    "a=[1,2,3,4]\n",
    "print(type(a))"
   ]
  },
  {
   "cell_type": "code",
   "execution_count": 186,
   "metadata": {},
   "outputs": [
    {
     "name": "stdout",
     "output_type": "stream",
     "text": [
      "2405153224944\n"
     ]
    }
   ],
   "source": [
    "#12.was to print the address of the memory block address for given value\n",
    "s='narendra'\n",
    "print(id(s))"
   ]
  },
  {
   "cell_type": "code",
   "execution_count": 187,
   "metadata": {},
   "outputs": [
    {
     "name": "stdout",
     "output_type": "stream",
     "text": [
      "narendra\n",
      "22\n",
      "dict_items([('name', 'narendra'), ('age', '22'), ('mno', 9014983958), ('mail', 'narendradappili@gmail.com')])\n",
      "dict_keys(['name', 'age', 'mno', 'mail'])\n",
      "dict_values(['narendra', '22', 9014983958, 'narendradappili@gmail.com'])\n"
     ]
    }
   ],
   "source": [
    "#13.was to print your details firtly store your details, extract the values and display it\n",
    "d={'name':'narendra','age':'22','mno':9014983958,'mail':'narendradappili@gmail.com'}\n",
    "print(d['name']) \n",
    "print(d['age'])\n",
    "print(d.items())\n",
    "print(d.keys())\n",
    "print(d.values())"
   ]
  },
  {
   "cell_type": "code",
   "execution_count": 188,
   "metadata": {},
   "outputs": [
    {
     "name": "stdout",
     "output_type": "stream",
     "text": [
      "30 20\n"
     ]
    }
   ],
   "source": [
    "#14.was to swap two variable values by using temp\n",
    "a=20\n",
    "b=30\n",
    "temp=a\n",
    "a=b\n",
    "b=temp\n",
    "print(a,b) "
   ]
  },
  {
   "cell_type": "code",
   "execution_count": 189,
   "metadata": {},
   "outputs": [
    {
     "name": "stdout",
     "output_type": "stream",
     "text": [
      "(2, 3, 4, 5, 6, 8) [1, 2, 3, 4]\n"
     ]
    }
   ],
   "source": [
    "#15.was to swap two variable values without using temp\n",
    "a=[1,2,3,4]\n",
    "b=(2,3,4,5,6,8)\n",
    "a,b=b,a\n",
    "print(a,b)"
   ]
  },
  {
   "cell_type": "code",
   "execution_count": 190,
   "metadata": {},
   "outputs": [
    {
     "name": "stdout",
     "output_type": "stream",
     "text": [
      "[1, 2, 3, 4, 5]\n",
      "(1, 2, 3, 4, 5, 6, 7)\n"
     ]
    }
   ],
   "source": [
    "#16.was to initialize a value and print the value, after print the value, then reinitialize the new value to the existing variable and display the value\n",
    "#initialization\n",
    "a=[1,2,3,4,5]\n",
    "print(a)\n",
    "#reinitialize the value\n",
    "a=(1,2,3,4,5,6,7,)\n",
    "print(a)"
   ]
  },
  {
   "cell_type": "code",
   "execution_count": 191,
   "metadata": {},
   "outputs": [
    {
     "name": "stdout",
     "output_type": "stream",
     "text": [
      "14\n"
     ]
    }
   ],
   "source": [
    "#17.was to find the length of the sequence\n",
    "s='asdjsdhuhdsfhb'\n",
    "print(len(s))"
   ]
  },
  {
   "cell_type": "code",
   "execution_count": 192,
   "metadata": {},
   "outputs": [
    {
     "name": "stdout",
     "output_type": "stream",
     "text": [
      "4\n",
      "3\n"
     ]
    }
   ],
   "source": [
    "#18.was to print the middle value and find the mid length of the sequence\n",
    "s=[1,2,3,4,5,67,8]\n",
    "print(s[len(s)//2])\n",
    "print(len(s)//2)"
   ]
  },
  {
   "cell_type": "code",
   "execution_count": 193,
   "metadata": {},
   "outputs": [
    {
     "name": "stdout",
     "output_type": "stream",
     "text": [
      "abdhjdajhdhd\n"
     ]
    }
   ],
   "source": [
    "#19.was to concate the two strings\n",
    "a='abdhjd'\n",
    "b='ajhdhd'\n",
    "print(a+b)"
   ]
  },
  {
   "cell_type": "code",
   "execution_count": 194,
   "metadata": {},
   "outputs": [
    {
     "name": "stdout",
     "output_type": "stream",
     "text": [
      "jhhfhsdjhjdf\n"
     ]
    }
   ],
   "source": [
    "#20.was to concate the new string to the ending of the string\n",
    "a='jhhfhsd'\n",
    "b='jhjdf'\n",
    "print(a+b)"
   ]
  },
  {
   "cell_type": "code",
   "execution_count": 195,
   "metadata": {},
   "outputs": [
    {
     "name": "stdout",
     "output_type": "stream",
     "text": [
      "abadgsde\n"
     ]
    }
   ],
   "source": [
    "#21.was to concate the new string to the middle of the given string\n",
    "s='abcde'\n",
    "t='adgs'\n",
    "print(s[0:len(s)//2:]+t+s[(len(s)//2)+1::])"
   ]
  },
  {
   "cell_type": "code",
   "execution_count": 196,
   "metadata": {},
   "outputs": [
    {
     "name": "stdout",
     "output_type": "stream",
     "text": [
      "pysplders\n"
     ]
    }
   ],
   "source": [
    "#22.was to modify the new value to the middle of the given string\n",
    "s='pyspiders'\n",
    "print(s[:len(s)//2]+'l'+s[(len(s)//2)+1::])"
   ]
  },
  {
   "cell_type": "code",
   "execution_count": 197,
   "metadata": {},
   "outputs": [
    {
     "name": "stdout",
     "output_type": "stream",
     "text": [
      "pyspiders\n"
     ]
    }
   ],
   "source": [
    "#23.was to mlodify the sequence of characters in string\n",
    "s='pyspiders'\n",
    "print(s[:3:]+'pid'+s[6::])"
   ]
  },
  {
   "cell_type": "code",
   "execution_count": 198,
   "metadata": {},
   "outputs": [
    {
     "name": "stdout",
     "output_type": "stream",
     "text": [
      "pyspiDers\n"
     ]
    }
   ],
   "source": [
    "#24.was to change the specific character into upper case\n",
    "s='pyspiders'\n",
    "print(s[:5]+'D'+s[6:]) "
   ]
  },
  {
   "cell_type": "code",
   "execution_count": 199,
   "metadata": {},
   "outputs": [
    {
     "name": "stdout",
     "output_type": "stream",
     "text": [
      "pypiders\n"
     ]
    }
   ],
   "source": [
    "#25.was to delete specific character from string\n",
    "s='pyspiders'\n",
    "print(s[:2]+s[3:])"
   ]
  },
  {
   "cell_type": "code",
   "execution_count": 200,
   "metadata": {},
   "outputs": [
    {
     "name": "stdout",
     "output_type": "stream",
     "text": [
      "pysers\n"
     ]
    }
   ],
   "source": [
    "#26.was to delete the sequence of characters from the given string\n",
    "s='pyspiders'\n",
    "print(s[:3]+s[6:])\n",
    "\n"
   ]
  },
  {
   "cell_type": "code",
   "execution_count": 201,
   "metadata": {},
   "outputs": [
    {
     "name": "stdout",
     "output_type": "stream",
     "text": [
      "[1, 34, 8, 4]\n"
     ]
    }
   ],
   "source": [
    "#27.was to modify the specific value in list\n",
    "l=[1,34,6,4]\n",
    "l[2]=8\n",
    "print(l)"
   ]
  },
  {
   "cell_type": "code",
   "execution_count": 202,
   "metadata": {},
   "outputs": [
    {
     "name": "stdout",
     "output_type": "stream",
     "text": [
      "[9, 2, 3, 4, 5]\n"
     ]
    }
   ],
   "source": [
    "#28.was to modify the new value to the starting of the list\n",
    "l=[1,2,3,4,5]\n",
    "l[0]=9\n",
    "print(l)"
   ]
  },
  {
   "cell_type": "code",
   "execution_count": 203,
   "metadata": {},
   "outputs": [
    {
     "name": "stdout",
     "output_type": "stream",
     "text": [
      "[1, 2, 3, 4, 9]\n"
     ]
    }
   ],
   "source": [
    "#29.was to modify the new value to the ending of the list\n",
    "l=[1,2,3,4,5]\n",
    "l[-1]=9\n",
    "print(l)"
   ]
  },
  {
   "cell_type": "code",
   "execution_count": 204,
   "metadata": {},
   "outputs": [
    {
     "name": "stdout",
     "output_type": "stream",
     "text": [
      "[1, 2, 9, 4, 5]\n"
     ]
    }
   ],
   "source": [
    "#30.was to modify the new value to the middle of the list\n",
    "l=[1,2,3,4,5]\n",
    "l[len(l)//2]=9\n",
    "print(l)"
   ]
  },
  {
   "cell_type": "code",
   "execution_count": 205,
   "metadata": {},
   "outputs": [
    {
     "name": "stdout",
     "output_type": "stream",
     "text": [
      "[9, 10, 11, 12, 5, 6, 7, 8]\n"
     ]
    }
   ],
   "source": [
    "#31.was to modify the starting four positions of the list\n",
    "l=[1,2,3,4,5,6,7,8]\n",
    "l[0:4]=[9,10,11,12]\n",
    "print(l)"
   ]
  },
  {
   "cell_type": "code",
   "execution_count": 206,
   "metadata": {},
   "outputs": [
    {
     "name": "stdout",
     "output_type": "stream",
     "text": [
      "[2, 3, 4, 5]\n"
     ]
    }
   ],
   "source": [
    "#32.was to delete the specific element from the list\n",
    "l=[1,2,3,4,5]\n",
    "del l[0]\n",
    "print(l)"
   ]
  },
  {
   "cell_type": "code",
   "execution_count": 207,
   "metadata": {},
   "outputs": [
    {
     "name": "stdout",
     "output_type": "stream",
     "text": [
      "[2, 3, 4, 5]\n"
     ]
    }
   ],
   "source": [
    "#33.was to delete the specific value from  the list without using del keyword\n",
    "l=[1,2,3,4,5]\n",
    "l[0:1]=[]\n",
    "print(l)"
   ]
  },
  {
   "cell_type": "code",
   "execution_count": 208,
   "metadata": {},
   "outputs": [
    {
     "name": "stdout",
     "output_type": "stream",
     "text": [
      "[10, 20, 30, 40, 'a', 's', 'd']\n"
     ]
    }
   ],
   "source": [
    "#34.was to concate the new collection to the list\n",
    "l=[10,20,30,40]\n",
    "m='asd'\n",
    "print(l+list(m))\n",
    "\n"
   ]
  },
  {
   "cell_type": "code",
   "execution_count": 209,
   "metadata": {},
   "outputs": [
    {
     "name": "stdout",
     "output_type": "stream",
     "text": [
      "2405153344064\n",
      "[10, 20, 30, 40, 'a', 's', 'd']\n",
      "2405179583232\n"
     ]
    }
   ],
   "source": [
    "#35.was to concate the new collection to the list \n",
    "# to different address\n",
    "l=[10,20,30,40]\n",
    "print(id(l))\n",
    "m='asd'\n",
    "l=l+list(m)\n",
    "print(l)\n",
    "print(id(l))"
   ]
  },
  {
   "cell_type": "code",
   "execution_count": 210,
   "metadata": {},
   "outputs": [
    {
     "name": "stdout",
     "output_type": "stream",
     "text": [
      "2405179927680\n",
      "[10, 20, 30, 40, 'a', 's', 'd']\n",
      "2405179927680\n"
     ]
    }
   ],
   "source": [
    "#36.was to concate the new collection to the list \n",
    "# to same address by using compound assingnment operator\n",
    "l=[10,20,30,40]\n",
    "print(id(l))\n",
    "m='asd'\n",
    "l+=list(m)\n",
    "print(l)\n",
    "print(id(l))"
   ]
  },
  {
   "cell_type": "code",
   "execution_count": 211,
   "metadata": {},
   "outputs": [
    {
     "name": "stdout",
     "output_type": "stream",
     "text": [
      "2405179548480\n",
      "{1, 2, 3, 4, 40, 10, 20, 30}\n",
      "2405179547136\n"
     ]
    }
   ],
   "source": [
    "#37.was to concate the new valus into set\n",
    "# to different address\n",
    "s={10,20,30,40}\n",
    "print(id(s))\n",
    "s=s|{1,2,3,4}\n",
    "print(s)\n",
    "print(id(s))"
   ]
  },
  {
   "cell_type": "code",
   "execution_count": 212,
   "metadata": {},
   "outputs": [
    {
     "name": "stdout",
     "output_type": "stream",
     "text": [
      "{40, 10, 20, 30} 2405179545792\n",
      "{1, 2, 3, 4, 40, 10, 20, 30}\n",
      "2405179545792\n"
     ]
    }
   ],
   "source": [
    "#38.was to concate the new valus into set\n",
    "# to same address by using compound assignment operator\n",
    "s={10,20,30,40}\n",
    "print(s,id(s))\n",
    "s|={1,2,3,4}\n",
    "print(s)\n",
    "print(id(s))"
   ]
  },
  {
   "cell_type": "code",
   "execution_count": 213,
   "metadata": {},
   "outputs": [
    {
     "name": "stdout",
     "output_type": "stream",
     "text": [
      "{40, 10, 20, 30}\n",
      "2405179548704\n",
      "{40, 30}\n",
      "2405179548704\n"
     ]
    }
   ],
   "source": [
    "#39.was to perform difference operation on set\n",
    "s={10,20,30,40}\n",
    "print(s)\n",
    "print(id(s))\n",
    "s-={10,20}\n",
    "print(s)\n",
    "print(id(s))"
   ]
  },
  {
   "cell_type": "code",
   "execution_count": 214,
   "metadata": {},
   "outputs": [
    {
     "name": "stdout",
     "output_type": "stream",
     "text": [
      "{1: 10, 2: [1, 2, 3], 3: 'abc', 4: (10, 20)}\n"
     ]
    }
   ],
   "source": [
    "#40.was to concate the new value pair to the dictionary\n",
    "d={1:10,2:[1,2,3],3:'abc'}\n",
    "d[4]=(10,20)\n",
    "print(d)\n"
   ]
  },
  {
   "cell_type": "code",
   "execution_count": 215,
   "metadata": {},
   "outputs": [
    {
     "name": "stdout",
     "output_type": "stream",
     "text": [
      "{1: 100, 2: [1, 2, 3], 3: 'abc'}\n"
     ]
    }
   ],
   "source": [
    "#41.was to modufy the specific value in the dictionary\n",
    "d={1:10,2:[1,2,3],3:'abc'}\n",
    "d[1]=100\n",
    "print(d)"
   ]
  },
  {
   "cell_type": "code",
   "execution_count": 216,
   "metadata": {},
   "outputs": [
    {
     "name": "stdout",
     "output_type": "stream",
     "text": [
      "{2: [1, 2, 3], 3: 'abc'}\n"
     ]
    }
   ],
   "source": [
    "#42.was to delete specific value from dict\n",
    "d={1:10,2:[1,2,3],3:'abc'}\n",
    "del d[1]\n",
    "print(d)"
   ]
  },
  {
   "cell_type": "code",
   "execution_count": 217,
   "metadata": {},
   "outputs": [
    {
     "name": "stdout",
     "output_type": "stream",
     "text": [
      "[1, 2, 3, 4, 5, 10, 20, 30]\n"
     ]
    }
   ],
   "source": [
    "#43.was to concate list and tuple values by using typecasting\n",
    "l=[1,2,3,4,5]\n",
    "m=10,20,30,\n",
    "print(l+list(m))"
   ]
  },
  {
   "cell_type": "code",
   "execution_count": 218,
   "metadata": {},
   "outputs": [
    {
     "name": "stdout",
     "output_type": "stream",
     "text": [
      "[1, 2, 3, 4, 5, 10, 20, 30]\n"
     ]
    }
   ],
   "source": [
    "#44.was to concate list and tuple values without using typecasting\n",
    "# by using assignment operator\n",
    "l=[1,2,3,4,5]\n",
    "m=10,20,30,\n",
    "l+=m\n",
    "print(l)"
   ]
  },
  {
   "cell_type": "code",
   "execution_count": 219,
   "metadata": {},
   "outputs": [
    {
     "name": "stdout",
     "output_type": "stream",
     "text": [
      "True\n"
     ]
    }
   ],
   "source": [
    "#45.was to check the number is divisible by 3\n",
    "n=12\n",
    "print(n%3==0)"
   ]
  },
  {
   "cell_type": "code",
   "execution_count": 220,
   "metadata": {},
   "outputs": [
    {
     "name": "stdout",
     "output_type": "stream",
     "text": [
      "True\n",
      "False\n"
     ]
    }
   ],
   "source": [
    "#46.was to check the number is divisible by 2 and 6\n",
    "n=12\n",
    "print(n%2==0 and n%6==0)\n",
    "m=13\n",
    "print(m%2==0 and m%6==0)"
   ]
  },
  {
   "cell_type": "code",
   "execution_count": 221,
   "metadata": {},
   "outputs": [
    {
     "name": "stdout",
     "output_type": "stream",
     "text": [
      "True\n",
      "False\n"
     ]
    }
   ],
   "source": [
    "#47.was to check the last digit is divisible by 3 from given integer\n",
    "n=1999\n",
    "res=n%10\n",
    "print(res%3==0)\n",
    "\n",
    "\n",
    "#------\n",
    "n=1995\n",
    "res=n%10\n",
    "print(res%3==0)\n"
   ]
  },
  {
   "cell_type": "code",
   "execution_count": 222,
   "metadata": {},
   "outputs": [
    {
     "name": "stdout",
     "output_type": "stream",
     "text": [
      "1783\n"
     ]
    }
   ],
   "source": [
    "#48.was to convert integer to string with using type casting\n",
    "n=1783\n",
    "res = str(n)\n",
    "print(res)"
   ]
  },
  {
   "cell_type": "code",
   "execution_count": 223,
   "metadata": {},
   "outputs": [
    {
     "name": "stdout",
     "output_type": "stream",
     "text": [
      "True\n",
      "False\n"
     ]
    }
   ],
   "source": [
    "#49.was to check the given number is greater than 150\n",
    "n=1783\n",
    "print(n>150)\n",
    "\n",
    "m=140\n",
    "print(m>150)"
   ]
  },
  {
   "cell_type": "code",
   "execution_count": 224,
   "metadata": {},
   "outputs": [
    {
     "name": "stdout",
     "output_type": "stream",
     "text": [
      "True\n",
      "False\n"
     ]
    }
   ],
   "source": [
    "#50.was to check the given number is greater than or equal to 150\n",
    "n=1783\n",
    "print(n>=150)\n",
    "\n",
    "m=130\n",
    "print(m>=150)"
   ]
  },
  {
   "cell_type": "code",
   "execution_count": 225,
   "metadata": {},
   "outputs": [
    {
     "name": "stdout",
     "output_type": "stream",
     "text": [
      "False\n"
     ]
    }
   ],
   "source": [
    "#51.was to check the given number is less than 150\n",
    "n=1783\n",
    "print(n<150)"
   ]
  },
  {
   "cell_type": "code",
   "execution_count": 226,
   "metadata": {},
   "outputs": [
    {
     "name": "stdout",
     "output_type": "stream",
     "text": [
      "False\n",
      "True\n"
     ]
    }
   ],
   "source": [
    "#52.was to check the given number is less than 150\n",
    "n=1783\n",
    "print(n<100)\n",
    "\n",
    "m=100\n",
    "print(m<=100)"
   ]
  },
  {
   "cell_type": "code",
   "execution_count": 227,
   "metadata": {},
   "outputs": [
    {
     "name": "stdout",
     "output_type": "stream",
     "text": [
      "True\n"
     ]
    }
   ],
   "source": [
    "#53.was to check the given number is greater than 15 and less than 24\n",
    "n=17\n",
    "print(n>15 and n<24)\n"
   ]
  },
  {
   "cell_type": "code",
   "execution_count": 228,
   "metadata": {},
   "outputs": [
    {
     "name": "stdout",
     "output_type": "stream",
     "text": [
      "False\n",
      "True\n"
     ]
    }
   ],
   "source": [
    "#54.was to check the given number is even number\n",
    "n=1783\n",
    "print(n%2==0)\n",
    "\n",
    "m=468\n",
    "print(m%2==0)"
   ]
  },
  {
   "cell_type": "code",
   "execution_count": 229,
   "metadata": {},
   "outputs": [
    {
     "name": "stdout",
     "output_type": "stream",
     "text": [
      "True\n",
      "False\n"
     ]
    }
   ],
   "source": [
    "#55.was to check the given number is odd number\n",
    "n=1783\n",
    "print(n%2!=0)\n",
    "\n",
    "m=468\n",
    "print(m%2!=0)"
   ]
  },
  {
   "cell_type": "code",
   "execution_count": 230,
   "metadata": {},
   "outputs": [
    {
     "name": "stdout",
     "output_type": "stream",
     "text": [
      "asdasdasdasdasdasd\n"
     ]
    }
   ],
   "source": [
    "#56.was to check perform the replication of a given string with 6\n",
    "# .... multiplication between one integer and collection datatype is called replication\n",
    "s='asd'\n",
    "print(s*6)"
   ]
  },
  {
   "cell_type": "code",
   "execution_count": 231,
   "metadata": {},
   "outputs": [
    {
     "name": "stdout",
     "output_type": "stream",
     "text": [
      "True\n",
      "False\n"
     ]
    }
   ],
   "source": [
    "#57.was to check the number is divisible by three and also greater then 23\n",
    "n=30\n",
    "print(n%3==0 and n>23)\n",
    "\n",
    "m=18\n",
    "print(m%3==0 and m>23)"
   ]
  },
  {
   "cell_type": "code",
   "execution_count": 232,
   "metadata": {},
   "outputs": [
    {
     "name": "stdout",
     "output_type": "stream",
     "text": [
      "9\n",
      "False\n"
     ]
    }
   ],
   "source": [
    "#58.was to check the length of given collection is even or odd\n",
    "a='12334njff'\n",
    "print(len(a))\n",
    "print(len(a)%2==0)"
   ]
  },
  {
   "cell_type": "code",
   "execution_count": 233,
   "metadata": {},
   "outputs": [
    {
     "name": "stdout",
     "output_type": "stream",
     "text": [
      "True\n"
     ]
    }
   ],
   "source": [
    "#59.was to check the length of the collection is less than 55 and grater than the 16\n",
    "t='12345hg32hjgkhhajhdfkfjj'\n",
    "print(len(t)>16 and len(t)<55)"
   ]
  },
  {
   "cell_type": "code",
   "execution_count": 234,
   "metadata": {},
   "outputs": [
    {
     "name": "stdout",
     "output_type": "stream",
     "text": [
      "30\n",
      "False\n"
     ]
    }
   ],
   "source": [
    "#60.was to check the length of the collection is divisible by 5 and odd\n",
    "t='12345hg32hjgkhhajhdfkfjjsqwert'\n",
    "print(len(t))\n",
    "print(len(t)%5==0 and len(t)%2!=0)"
   ]
  },
  {
   "cell_type": "code",
   "execution_count": 235,
   "metadata": {},
   "outputs": [
    {
     "name": "stdout",
     "output_type": "stream",
     "text": [
      "<class 'str'>\n"
     ]
    }
   ],
   "source": [
    "#61.was to check the middle value of a given collection is which type\n",
    "s='asdjf'\n",
    "res=type(s[(len(s)//2)])\n",
    "print(res)"
   ]
  },
  {
   "cell_type": "code",
   "execution_count": 236,
   "metadata": {},
   "outputs": [
    {
     "name": "stdout",
     "output_type": "stream",
     "text": [
      "True\n"
     ]
    }
   ],
   "source": [
    "#62.was to check the number is divisible by 20 and 30 and it should be even\n",
    "n=360\n",
    "print(n%20==0 and n%30==0 and n%2==0)"
   ]
  },
  {
   "cell_type": "code",
   "execution_count": 237,
   "metadata": {},
   "outputs": [
    {
     "name": "stdout",
     "output_type": "stream",
     "text": [
      "True\n"
     ]
    }
   ],
   "source": [
    "#63.was to check the number is even and less than 120\n",
    "n=110\n",
    "print(n%2==0 and n<120)"
   ]
  },
  {
   "cell_type": "code",
   "execution_count": 238,
   "metadata": {},
   "outputs": [
    {
     "name": "stdout",
     "output_type": "stream",
     "text": [
      "True\n"
     ]
    }
   ],
   "source": [
    "#64.was to check the number is even and less than or equal to 70 and grater than or equal to 40\n",
    "n=50\n",
    "print(n%2==0 and n>=40 and n<=70)"
   ]
  },
  {
   "cell_type": "code",
   "execution_count": 239,
   "metadata": {},
   "outputs": [
    {
     "name": "stdout",
     "output_type": "stream",
     "text": [
      "True\n"
     ]
    }
   ],
   "source": [
    "#65.was to check the number is odd and grater than 97\n",
    "n=95\n",
    "print(n%2!=0 and n<97)"
   ]
  },
  {
   "cell_type": "code",
   "execution_count": 240,
   "metadata": {},
   "outputs": [
    {
     "name": "stdout",
     "output_type": "stream",
     "text": [
      "True\n"
     ]
    }
   ],
   "source": [
    "#66.was to check the number is grater than 48 andless than 122 and divisible by 4\n",
    "n=112\n",
    "print(n%4==0 and n>48 and n<122)"
   ]
  },
  {
   "cell_type": "code",
   "execution_count": 241,
   "metadata": {},
   "outputs": [
    {
     "name": "stdout",
     "output_type": "stream",
     "text": [
      "True\n"
     ]
    }
   ],
   "source": [
    "#67.was to check the number is divisible 3 or 5\n",
    "n=110\n",
    "print(n%3==0 or n%5==0)"
   ]
  },
  {
   "cell_type": "code",
   "execution_count": 242,
   "metadata": {},
   "outputs": [
    {
     "name": "stdout",
     "output_type": "stream",
     "text": [
      "100\n",
      "True\n"
     ]
    }
   ],
   "source": [
    "#68.was to check the last character's ascii value should be divisible by 5\n",
    "s='asdfgd'\n",
    "print(ord(s[-1]))\n",
    "print((ord(s[-1]))%5==0)"
   ]
  },
  {
   "cell_type": "code",
   "execution_count": 243,
   "metadata": {},
   "outputs": [
    {
     "name": "stdout",
     "output_type": "stream",
     "text": [
      "True\n"
     ]
    }
   ],
   "source": [
    "#69.was to check the given number is present b/w 60 and 130 and the number should be divisible by 3 and 4and the last didit should be less than 9.\n",
    "n=120\n",
    "print(60<=n<=130 and n%3==0 and n%4==0 and (n%10)<9)"
   ]
  },
  {
   "cell_type": "code",
   "execution_count": 244,
   "metadata": {},
   "outputs": [
    {
     "name": "stdout",
     "output_type": "stream",
     "text": [
      "True\n"
     ]
    }
   ],
   "source": [
    "#70.was to check the given number is even or less than 25.\n",
    "n=24\n",
    "print(n%2==0 or n<25)"
   ]
  },
  {
   "cell_type": "code",
   "execution_count": 245,
   "metadata": {},
   "outputs": [
    {
     "name": "stdout",
     "output_type": "stream",
     "text": [
      "True\n"
     ]
    }
   ],
   "source": [
    "#71.was to check the given number is even or greater than 25.\n",
    "n=31\n",
    "print(n%2==0 or n>25)"
   ]
  },
  {
   "cell_type": "code",
   "execution_count": 246,
   "metadata": {},
   "outputs": [
    {
     "name": "stdout",
     "output_type": "stream",
     "text": [
      "True\n"
     ]
    }
   ],
   "source": [
    "#72.was to check the number is divisible by 3 or 5\n",
    "n=20\n",
    "print(n%3==0 or n%5==0)"
   ]
  },
  {
   "cell_type": "code",
   "execution_count": 247,
   "metadata": {},
   "outputs": [
    {
     "name": "stdout",
     "output_type": "stream",
     "text": [
      "True\n"
     ]
    }
   ],
   "source": [
    "#73.was to check the number is not an even number\n",
    "n=25\n",
    "print(n%2!=0)"
   ]
  },
  {
   "cell_type": "code",
   "execution_count": 250,
   "metadata": {},
   "outputs": [
    {
     "name": "stdout",
     "output_type": "stream",
     "text": [
      "97\n"
     ]
    }
   ],
   "source": [
    "#74.was to find ascii value of given character\n",
    "n='a'\n",
    "print(ord(n))"
   ]
  },
  {
   "cell_type": "code",
   "execution_count": 251,
   "metadata": {},
   "outputs": [
    {
     "name": "stdout",
     "output_type": "stream",
     "text": [
      "65\n"
     ]
    }
   ],
   "source": [
    "#75.was to find ascii value of given character\n",
    "n='A'\n",
    "print(ord(n))"
   ]
  },
  {
   "cell_type": "code",
   "execution_count": 253,
   "metadata": {},
   "outputs": [
    {
     "name": "stdout",
     "output_type": "stream",
     "text": [
      "A\n"
     ]
    }
   ],
   "source": [
    "#76.was to find character of given ascii value\n",
    "ch=65\n",
    "print(chr(ch))"
   ]
  },
  {
   "cell_type": "code",
   "execution_count": 254,
   "metadata": {},
   "outputs": [
    {
     "name": "stdout",
     "output_type": "stream",
     "text": [
      "m\n"
     ]
    }
   ],
   "source": [
    "#77.was to find ascii value of given character\n",
    "ch=109\n",
    "print(chr(ch))"
   ]
  },
  {
   "cell_type": "code",
   "execution_count": 255,
   "metadata": {},
   "outputs": [
    {
     "name": "stdout",
     "output_type": "stream",
     "text": [
      "True\n"
     ]
    }
   ],
   "source": [
    "#78.was to check given character is in uppercase or not\n",
    "n='A'\n",
    "print(n<='A' and n<='Z')"
   ]
  },
  {
   "cell_type": "code",
   "execution_count": 256,
   "metadata": {},
   "outputs": [
    {
     "name": "stdout",
     "output_type": "stream",
     "text": [
      "True\n"
     ]
    }
   ],
   "source": [
    "#79.was to check given character is in lowercase or not\n",
    "n='a'\n",
    "print(n<='a' and n<='z')"
   ]
  },
  {
   "cell_type": "code",
   "execution_count": 267,
   "metadata": {},
   "outputs": [
    {
     "name": "stdout",
     "output_type": "stream",
     "text": [
      "False\n"
     ]
    }
   ],
   "source": [
    "#80.was to check given character is in uppercase or not\n",
    "n='AD'\n",
    "print(len(n)==1 and (n<='A' and n<='Z'))"
   ]
  },
  {
   "cell_type": "code",
   "execution_count": 259,
   "metadata": {},
   "outputs": [
    {
     "name": "stdout",
     "output_type": "stream",
     "text": [
      "False\n"
     ]
    }
   ],
   "source": [
    "#81.was to check given character is in lowercase or not\n",
    "n='abc'\n",
    "print(len(n)==1 and n<='A' and n<='Z')"
   ]
  },
  {
   "cell_type": "code",
   "execution_count": 272,
   "metadata": {},
   "outputs": [
    {
     "name": "stdout",
     "output_type": "stream",
     "text": [
      "True\n"
     ]
    }
   ],
   "source": [
    "#82.was to check given character is alphabet\n",
    "n='A'\n",
    "print(n>='A' or n<='Z' or 'a'<=n<='z')"
   ]
  },
  {
   "cell_type": "code",
   "execution_count": 277,
   "metadata": {},
   "outputs": [
    {
     "name": "stdout",
     "output_type": "stream",
     "text": [
      "False\n"
     ]
    }
   ],
   "source": [
    "#83.was to check given character is alphabet\n",
    "n='Aaa'\n",
    "print(len(n)==1 and (n>='A' or n<='Z' or 'a'<=n<='z'))"
   ]
  },
  {
   "cell_type": "code",
   "execution_count": 273,
   "metadata": {},
   "outputs": [
    {
     "name": "stdout",
     "output_type": "stream",
     "text": [
      "True\n"
     ]
    }
   ],
   "source": [
    "#84.was to check given character is ascii value or not\n",
    "n='9'\n",
    "print(n>='0' and n<='9')"
   ]
  },
  {
   "cell_type": "code",
   "execution_count": 280,
   "metadata": {},
   "outputs": [
    {
     "name": "stdout",
     "output_type": "stream",
     "text": [
      "False\n"
     ]
    }
   ],
   "source": [
    "#85.was to check given character is ascii value or not\n",
    "n='976'\n",
    "print(len(n)==1 and n>='0' and n<='9')"
   ]
  },
  {
   "cell_type": "code",
   "execution_count": 283,
   "metadata": {},
   "outputs": [
    {
     "name": "stdout",
     "output_type": "stream",
     "text": [
      "True\n"
     ]
    }
   ],
   "source": [
    "#86.was to check given character is special character or not\n",
    "n='/'\n",
    "print(not(n>='A' and n<='Z' and 'a'<=n<='z' and n>='0' and n<='9'))"
   ]
  },
  {
   "cell_type": "code",
   "execution_count": 286,
   "metadata": {},
   "outputs": [
    {
     "name": "stdout",
     "output_type": "stream",
     "text": [
      "True\n"
     ]
    }
   ],
   "source": [
    "#87.was to check the character is present in the collection or not\n",
    "ch='dfg'\n",
    "print(ch in 'abcndfgmki')"
   ]
  },
  {
   "cell_type": "code",
   "execution_count": 287,
   "metadata": {},
   "outputs": [
    {
     "name": "stdout",
     "output_type": "stream",
     "text": [
      "False\n"
     ]
    }
   ],
   "source": [
    "#88.was to check the character is present in the collection or not\n",
    "ch='dg'\n",
    "print(ch in 'abcndfgmki')"
   ]
  },
  {
   "cell_type": "code",
   "execution_count": 288,
   "metadata": {},
   "outputs": [
    {
     "name": "stdout",
     "output_type": "stream",
     "text": [
      "a\n"
     ]
    }
   ],
   "source": [
    "#89.was to convert uppercase to lowercase character\n",
    "ch='A'\n",
    "print(chr(ord(ch)+32))"
   ]
  },
  {
   "cell_type": "code",
   "execution_count": 289,
   "metadata": {},
   "outputs": [
    {
     "name": "stdout",
     "output_type": "stream",
     "text": [
      "False\n"
     ]
    }
   ],
   "source": [
    "#90.was to convert uppercase to lowercase character\n",
    "ch='Aaa'\n",
    "print(len(ch)==1 and chr(ord(ch)+32))"
   ]
  },
  {
   "cell_type": "code",
   "execution_count": 290,
   "metadata": {},
   "outputs": [
    {
     "name": "stdout",
     "output_type": "stream",
     "text": [
      "A\n"
     ]
    }
   ],
   "source": [
    "#91.was to convert lowercase to uppercase character\n",
    "ch='a'\n",
    "print(chr(ord(ch)-32))"
   ]
  },
  {
   "cell_type": "code",
   "execution_count": 291,
   "metadata": {},
   "outputs": [
    {
     "name": "stdout",
     "output_type": "stream",
     "text": [
      "False\n"
     ]
    }
   ],
   "source": [
    "#92.was to convert lowercase to uppercase character\n",
    "ch='abf'\n",
    "print(len(ch)==1 and chr(ord(ch)+32))"
   ]
  },
  {
   "cell_type": "code",
   "execution_count": 292,
   "metadata": {},
   "outputs": [
    {
     "name": "stdout",
     "output_type": "stream",
     "text": [
      "True\n"
     ]
    }
   ],
   "source": [
    "#93.was to check the character is vowel or not\n",
    "ch='a'\n",
    "print(ch in 'aeiouAEIOU')"
   ]
  },
  {
   "cell_type": "code",
   "execution_count": 293,
   "metadata": {},
   "outputs": [
    {
     "name": "stdout",
     "output_type": "stream",
     "text": [
      "False\n"
     ]
    }
   ],
   "source": [
    "#94.was to check the character is vowel or not\n",
    "ch='acs'\n",
    "print(len(ch)==1 and ch in 'aeiouAEIOU')"
   ]
  },
  {
   "cell_type": "code",
   "execution_count": 295,
   "metadata": {},
   "outputs": [
    {
     "name": "stdout",
     "output_type": "stream",
     "text": [
      "B\n"
     ]
    }
   ],
   "source": [
    "#95.was to extract the next character of given character\n",
    "ch='A' \n",
    "print(chr(ord(ch)+1))"
   ]
  },
  {
   "cell_type": "code",
   "execution_count": 297,
   "metadata": {},
   "outputs": [
    {
     "name": "stdout",
     "output_type": "stream",
     "text": [
      "False\n"
     ]
    }
   ],
   "source": [
    "#96.was to extract the next character of given character\n",
    "ch='Aaa' \n",
    "print(len(ch)==1 and chr(ord(ch)+1))"
   ]
  },
  {
   "cell_type": "code",
   "execution_count": 298,
   "metadata": {},
   "outputs": [
    {
     "name": "stdout",
     "output_type": "stream",
     "text": [
      "A\n"
     ]
    }
   ],
   "source": [
    "#97.was to extract the previous character of given character\n",
    "ch='B' \n",
    "print(chr(ord(ch)-1))"
   ]
  },
  {
   "cell_type": "code",
   "execution_count": 299,
   "metadata": {},
   "outputs": [
    {
     "name": "stdout",
     "output_type": "stream",
     "text": [
      "False\n"
     ]
    }
   ],
   "source": [
    "#98.was to extract the previous character of given character\n",
    "ch='Baa' \n",
    "print(len(ch)==1 and chr(ord(ch)-1))"
   ]
  },
  {
   "cell_type": "code",
   "execution_count": 332,
   "metadata": {},
   "outputs": [
    {
     "name": "stdout",
     "output_type": "stream",
     "text": [
      "True\n"
     ]
    }
   ],
   "source": [
    "#99.was to check the given character is converted to ascii value and the value is even as well as the character as well as the character should be lowercase.\n",
    "ch='b'\n",
    "print(ord(ch)%2==0 and 'a'<=ch<='z')"
   ]
  },
  {
   "cell_type": "code",
   "execution_count": 333,
   "metadata": {},
   "outputs": [
    {
     "name": "stdout",
     "output_type": "stream",
     "text": [
      "False\n"
     ]
    }
   ],
   "source": [
    "#100.was to check the given character is converted to ascii value and the value is even as well as the character should be lowercase.\n",
    "ch='ba'\n",
    "print(len(ch)==1 and ord(ch)%2==0 and 'a'<=ch<='z')"
   ]
  },
  {
   "cell_type": "code",
   "execution_count": 327,
   "metadata": {},
   "outputs": [
    {
     "name": "stdout",
     "output_type": "stream",
     "text": [
      "True\n",
      "False\n"
     ]
    }
   ],
   "source": [
    "#101.was to check the dict value in tuple\n",
    "t=(10,[10],'a',30,40,50)\n",
    "d={'a':10}\n",
    "print(d['a'] in t)\n",
    "print(d.values() in t)\n"
   ]
  },
  {
   "cell_type": "code",
   "execution_count": 4,
   "metadata": {},
   "outputs": [
    {
     "name": "stdout",
     "output_type": "stream",
     "text": [
      "False\n"
     ]
    }
   ],
   "source": [
    "#102.was to check the given character is converted to ascii value and the value is odd as well as the character should be uppercase.\n",
    "ch='B'\n",
    "print(ord(ch)%2!=0 and 'A'<=ch<='Z')"
   ]
  },
  {
   "cell_type": "code",
   "execution_count": 5,
   "metadata": {},
   "outputs": [
    {
     "name": "stdout",
     "output_type": "stream",
     "text": [
      "False\n"
     ]
    }
   ],
   "source": [
    "#103.was to check the given character is converted to ascii value and the value is odd as well as the character should be uppercase.\n",
    "ch='Ba'\n",
    "print(len(ch)==1 and ord(ch)%2!=0 and 'A'<=ch<='Z')"
   ]
  },
  {
   "cell_type": "code",
   "execution_count": 7,
   "metadata": {},
   "outputs": [
    {
     "name": "stdout",
     "output_type": "stream",
     "text": [
      "True\n"
     ]
    }
   ],
   "source": [
    "#104.was to covert the numer into character and it is not a special symbol\n",
    "n=100\n",
    "print('a'<=chr(n)<='z' or 'A'<=chr(n)<='Z' or '0'<=chr(n)<='9')"
   ]
  },
  {
   "cell_type": "code",
   "execution_count": 8,
   "metadata": {},
   "outputs": [
    {
     "name": "stdout",
     "output_type": "stream",
     "text": [
      "True\n"
     ]
    }
   ],
   "source": [
    "#105.was to covert the numer into character and it is vowel\n",
    "n=101\n",
    "print(chr(n) in 'aeiouAEIOU')"
   ]
  },
  {
   "cell_type": "code",
   "execution_count": 9,
   "metadata": {},
   "outputs": [
    {
     "name": "stdout",
     "output_type": "stream",
     "text": [
      "True\n"
     ]
    }
   ],
   "source": [
    "#106.was to covert the numer into character and it is vowel\n",
    "n=65\n",
    "print(chr(n) in 'aeiouAEIOU')"
   ]
  },
  {
   "cell_type": "code",
   "execution_count": 10,
   "metadata": {},
   "outputs": [
    {
     "name": "stdout",
     "output_type": "stream",
     "text": [
      "True\n"
     ]
    }
   ],
   "source": [
    "#107.was to covert the numer into character and it is vowel\n",
    "n=101\n",
    "print(chr(n) in 'aeiouAEIOU')"
   ]
  },
  {
   "cell_type": "code",
   "execution_count": 11,
   "metadata": {},
   "outputs": [
    {
     "name": "stdout",
     "output_type": "stream",
     "text": [
      "True\n"
     ]
    }
   ],
   "source": [
    "#108. was to check the first and second characters are sequence or not in given string\n",
    "s='abcd'\n",
    "print((ord(s[0])+1) == ord(s[1]))"
   ]
  },
  {
   "cell_type": "code",
   "execution_count": 12,
   "metadata": {},
   "outputs": [
    {
     "name": "stdout",
     "output_type": "stream",
     "text": [
      "False\n"
     ]
    }
   ],
   "source": [
    "#109. was to check the first and second characters are sequence or not in given string\n",
    "s='afcd'\n",
    "print((ord(s[0])+1) == ord(s[1]))"
   ]
  },
  {
   "cell_type": "code",
   "execution_count": 15,
   "metadata": {},
   "outputs": [
    {
     "name": "stdout",
     "output_type": "stream",
     "text": [
      "True\n"
     ]
    }
   ],
   "source": [
    "#110. was to check the ascii value of a character is greater than 50 and greater than 25 or less than 112.\n",
    "n='a'\n",
    "print(ord(n) > 25 or ord(n) < 112 ) "
   ]
  },
  {
   "cell_type": "code",
   "execution_count": 19,
   "metadata": {},
   "outputs": [
    {
     "name": "stdout",
     "output_type": "stream",
     "text": [
      "101\n"
     ]
    }
   ],
   "source": [
    "#111.was to perform the incriment of one in given number\n",
    "n=100\n",
    "n+=1\n",
    "print(n)"
   ]
  },
  {
   "cell_type": "code",
   "execution_count": 20,
   "metadata": {},
   "outputs": [
    {
     "name": "stdout",
     "output_type": "stream",
     "text": [
      "102\n"
     ]
    }
   ],
   "source": [
    "#112.was to perform the incriment of two in given number\n",
    "n=100\n",
    "n+=2\n",
    "print(n)"
   ]
  },
  {
   "cell_type": "code",
   "execution_count": 21,
   "metadata": {},
   "outputs": [
    {
     "name": "stdout",
     "output_type": "stream",
     "text": [
      "99\n"
     ]
    }
   ],
   "source": [
    "#113.was to perform the decriment of one in given number\n",
    "n=100\n",
    "n-=1\n",
    "print(n)"
   ]
  },
  {
   "cell_type": "code",
   "execution_count": 22,
   "metadata": {},
   "outputs": [
    {
     "name": "stdout",
     "output_type": "stream",
     "text": [
      "98\n"
     ]
    }
   ],
   "source": [
    "#114.was to perform the incriment of two in given number\n",
    "n=100\n",
    "n-=2\n",
    "print(n)"
   ]
  },
  {
   "cell_type": "code",
   "execution_count": 23,
   "metadata": {},
   "outputs": [
    {
     "name": "stdout",
     "output_type": "stream",
     "text": [
      "True\n"
     ]
    }
   ],
   "source": [
    "#115.was to check the given integer is present in collection\n",
    "n=10\n",
    "s=[1,2,3,4,10]\n",
    "print(n in s)"
   ]
  },
  {
   "cell_type": "code",
   "execution_count": 24,
   "metadata": {},
   "outputs": [
    {
     "name": "stdout",
     "output_type": "stream",
     "text": [
      "False\n"
     ]
    }
   ],
   "source": [
    "#116.was to check the given integer is present in collection\n",
    "n=20\n",
    "s=[1,2,3,4,10]\n",
    "print(n in s)"
   ]
  },
  {
   "cell_type": "code",
   "execution_count": 26,
   "metadata": {},
   "outputs": [
    {
     "name": "stdout",
     "output_type": "stream",
     "text": [
      "22\n"
     ]
    }
   ],
   "source": [
    "#117.was to perform addition operation on a nd b values and value should be assign to a\n",
    "a=10\n",
    "b=12\n",
    "a+=b\n",
    "print(a)"
   ]
  },
  {
   "cell_type": "code",
   "execution_count": 27,
   "metadata": {},
   "outputs": [
    {
     "name": "stdout",
     "output_type": "stream",
     "text": [
      "True\n"
     ]
    }
   ],
   "source": [
    "#118.was to check the given value is present in collection\n",
    "n='abc'\n",
    "s=[1,2,'abc',3,4,10]\n",
    "print(n in s)"
   ]
  },
  {
   "cell_type": "code",
   "execution_count": 28,
   "metadata": {},
   "outputs": [
    {
     "name": "stdout",
     "output_type": "stream",
     "text": [
      "True\n"
     ]
    }
   ],
   "source": [
    "#119.was to check the given list is present in list\n",
    "n=[10,20,30]\n",
    "s=[1,2,3,4,10,[10,20,30]]\n",
    "print(n in s)"
   ]
  },
  {
   "cell_type": "code",
   "execution_count": 31,
   "metadata": {},
   "outputs": [
    {
     "name": "stdout",
     "output_type": "stream",
     "text": [
      "True\n"
     ]
    }
   ],
   "source": [
    "#120.was to check the given dict is present in tuple\n",
    "n={20:'abc'}\n",
    "s=({20:'abc'},2,3,4,10)\n",
    "print(n in s)"
   ]
  },
  {
   "cell_type": "code",
   "execution_count": 32,
   "metadata": {},
   "outputs": [
    {
     "name": "stdout",
     "output_type": "stream",
     "text": [
      "True\n"
     ]
    }
   ],
   "source": [
    "#121.was to check the given integer is present in dictionay\n",
    "n=20\n",
    "s={1:20,20:30,3:40}\n",
    "print(n in s)"
   ]
  },
  {
   "cell_type": "code",
   "execution_count": 33,
   "metadata": {},
   "outputs": [
    {
     "name": "stdout",
     "output_type": "stream",
     "text": [
      "True\n"
     ]
    }
   ],
   "source": [
    "#122.was to check the given integer is present in dictionay\n",
    "n=20\n",
    "s={1:20,20:30,3:40}\n",
    "print(n in s.values())"
   ]
  },
  {
   "cell_type": "code",
   "execution_count": 35,
   "metadata": {},
   "outputs": [
    {
     "name": "stdout",
     "output_type": "stream",
     "text": [
      "<class 'int'>\n"
     ]
    }
   ],
   "source": [
    "#123.was to check the given value is integer or not\n",
    "n=123\n",
    "print(type(n))"
   ]
  },
  {
   "cell_type": "code",
   "execution_count": 36,
   "metadata": {},
   "outputs": [
    {
     "name": "stdout",
     "output_type": "stream",
     "text": [
      "<class 'str'>\n"
     ]
    }
   ],
   "source": [
    "#124.was to check the given value is string or not\n",
    "n='123'\n",
    "print(type(n))"
   ]
  },
  {
   "cell_type": "code",
   "execution_count": 37,
   "metadata": {},
   "outputs": [
    {
     "name": "stdout",
     "output_type": "stream",
     "text": [
      "True\n"
     ]
    }
   ],
   "source": [
    "#125.was to check the given value is single value  or not\n",
    "n=123\n",
    "print(type(n) in [int,float,bool,bytes,complex,type(None)])"
   ]
  },
  {
   "cell_type": "code",
   "execution_count": 38,
   "metadata": {},
   "outputs": [
    {
     "name": "stdout",
     "output_type": "stream",
     "text": [
      "False\n"
     ]
    }
   ],
   "source": [
    "#126.was to check the given value is single value  or not\n",
    "n='123'\n",
    "print(type(n) in [int,float,bool,bytes,complex,type(None)])"
   ]
  },
  {
   "cell_type": "code",
   "execution_count": 39,
   "metadata": {},
   "outputs": [
    {
     "name": "stdout",
     "output_type": "stream",
     "text": [
      "False\n"
     ]
    }
   ],
   "source": [
    "#127.was to check the given value is multi value  or not\n",
    "n=123\n",
    "print(type(n) not in [int,float,bool,bytes,complex,type(None)])"
   ]
  },
  {
   "cell_type": "code",
   "execution_count": 40,
   "metadata": {},
   "outputs": [
    {
     "name": "stdout",
     "output_type": "stream",
     "text": [
      "True\n"
     ]
    }
   ],
   "source": [
    "#128.was to check the given value is multi value  or not\n",
    "n='123'\n",
    "print(type(n) not in [int,float,bool,bytes,complex,type(None)])"
   ]
  },
  {
   "cell_type": "code",
   "execution_count": 41,
   "metadata": {},
   "outputs": [
    {
     "name": "stdout",
     "output_type": "stream",
     "text": [
      "False\n"
     ]
    }
   ],
   "source": [
    "#129.was to check the given value is mutable or not\n",
    "n=123\n",
    "print(type(n) not in [int,float,bool,bytes,complex,type(None)])"
   ]
  },
  {
   "cell_type": "code",
   "execution_count": 42,
   "metadata": {},
   "outputs": [
    {
     "name": "stdout",
     "output_type": "stream",
     "text": [
      "True\n"
     ]
    }
   ],
   "source": [
    "#130.was to check the given value is mutable or not\n",
    "n=[1,2,3]\n",
    "print(type(n) not in [int,float,bool,bytes,complex,type(None)])"
   ]
  },
  {
   "cell_type": "code",
   "execution_count": 43,
   "metadata": {},
   "outputs": [
    {
     "name": "stdout",
     "output_type": "stream",
     "text": [
      "3\n"
     ]
    }
   ],
   "source": [
    "#131.was to perform the bitwise and operation on values 15 and 19\n",
    "n=15\n",
    "m=19\n",
    "print(n&m)"
   ]
  },
  {
   "cell_type": "code",
   "execution_count": 44,
   "metadata": {},
   "outputs": [
    {
     "name": "stdout",
     "output_type": "stream",
     "text": [
      "127\n"
     ]
    }
   ],
   "source": [
    "#132.was to perform the bitwise or operation on values 115 and 79\n",
    "n=115\n",
    "m=79\n",
    "print(n|m)"
   ]
  },
  {
   "cell_type": "code",
   "execution_count": 45,
   "metadata": {},
   "outputs": [
    {
     "name": "stdout",
     "output_type": "stream",
     "text": [
      "46\n"
     ]
    }
   ],
   "source": [
    "#133.was to perform the bitwise xor operation on values 56 and 22\n",
    "n=56\n",
    "m=22\n",
    "print(n^m)"
   ]
  },
  {
   "cell_type": "code",
   "execution_count": 46,
   "metadata": {},
   "outputs": [
    {
     "name": "stdout",
     "output_type": "stream",
     "text": [
      "-16\n"
     ]
    }
   ],
   "source": [
    "#134.was to perform the bitwise not operation on values 15\n",
    "n=15\n",
    "print(~n)"
   ]
  },
  {
   "cell_type": "code",
   "execution_count": 48,
   "metadata": {},
   "outputs": [
    {
     "name": "stdout",
     "output_type": "stream",
     "text": [
      "256\n"
     ]
    }
   ],
   "source": [
    "#135.was to perform the bitwise left shift operation on value 32 and skipping value is 3\n",
    "n=32\n",
    "m=3\n",
    "print(n<<m)"
   ]
  },
  {
   "cell_type": "code",
   "execution_count": 49,
   "metadata": {},
   "outputs": [
    {
     "name": "stdout",
     "output_type": "stream",
     "text": [
      "6\n"
     ]
    }
   ],
   "source": [
    "#136.was to perform the bitwise right shift operation on value 25 and skipping value is 2\n",
    "n=25\n",
    "m=2\n",
    "print(n>>m)"
   ]
  },
  {
   "cell_type": "code",
   "execution_count": 50,
   "metadata": {},
   "outputs": [
    {
     "name": "stdout",
     "output_type": "stream",
     "text": [
      "True\n"
     ]
    }
   ],
   "source": [
    "#137.was to check the given value is in dictionary \n",
    "d={1:10,2:30}\n",
    "a=10\n",
    "print(a in d.values())"
   ]
  }
 ],
 "metadata": {
  "kernelspec": {
   "display_name": "Python 3",
   "language": "python",
   "name": "python3"
  },
  "language_info": {
   "codemirror_mode": {
    "name": "ipython",
    "version": 3
   },
   "file_extension": ".py",
   "mimetype": "text/x-python",
   "name": "python",
   "nbconvert_exporter": "python",
   "pygments_lexer": "ipython3",
   "version": "3.11.0a5"
  },
  "orig_nbformat": 4
 },
 "nbformat": 4,
 "nbformat_minor": 2
}
