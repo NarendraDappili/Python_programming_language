{
 "cells": [
  {
   "cell_type": "code",
   "execution_count": 1,
   "metadata": {},
   "outputs": [
    {
     "name": "stdout",
     "output_type": "stream",
     "text": [
      "r\n",
      "e\n",
      "n\n",
      "d\n",
      "r\n",
      "a\n"
     ]
    }
   ],
   "source": [
    "# 2.WAP to print all the items present in the string between the range from \n",
    "# m to n\n",
    "s='narendradappili'\n",
    "m=2\n",
    "n=8\n",
    "for i in range(m,n):\n",
    "    print(s[i])\n"
   ]
  },
  {
   "cell_type": "code",
   "execution_count": 2,
   "metadata": {},
   "outputs": [
    {
     "name": "stdout",
     "output_type": "stream",
     "text": [
      "N\n",
      "A\n",
      "D\n"
     ]
    }
   ],
   "source": [
    "# 3.WAP to print the uppercase characters in a given string.\n",
    "s='NArendraDappili'\n",
    "for i in range(len(s)):\n",
    "    if 'A'<=s[i]<='Z':\n",
    "        print(s[i])"
   ]
  },
  {
   "cell_type": "code",
   "execution_count": 3,
   "metadata": {},
   "outputs": [
    {
     "name": "stdout",
     "output_type": "stream",
     "text": [
      "r\n",
      "e\n",
      "n\n",
      "d\n",
      "r\n",
      "a\n",
      "a\n",
      "p\n",
      "p\n",
      "i\n",
      "l\n",
      "i\n"
     ]
    }
   ],
   "source": [
    "# 4.WAP to print the lowercase characters in a given string\n",
    "s='NArendraDappili'\n",
    "for i in range(len(s)):\n",
    "    if 'a'<=s[i]<='z':\n",
    "        print(s[i])"
   ]
  },
  {
   "cell_type": "code",
   "execution_count": 4,
   "metadata": {},
   "outputs": [
    {
     "name": "stdout",
     "output_type": "stream",
     "text": [
      "1\n",
      "4\n",
      "3\n"
     ]
    }
   ],
   "source": [
    "# 5.WAP to print the ascii numbers(Digits) characters in a given string.\n",
    "s='NArendra143Dappili'\n",
    "for i in range(len(s)):\n",
    "    if '0'<=s[i]<='9':\n",
    "        print(s[i])"
   ]
  },
  {
   "cell_type": "code",
   "execution_count": 6,
   "metadata": {},
   "outputs": [
    {
     "name": "stdout",
     "output_type": "stream",
     "text": [
      "@\n",
      "#\n",
      "$\n",
      "%\n",
      "^\n"
     ]
    }
   ],
   "source": [
    "# 6.WAP to print the special characters in a given string.\n",
    "s='NArendra143Da@#$%^ppili'\n",
    "for i in range(len(s)):\n",
    "    if not('A'<=s[i]<='Z' or 'a'<=s[i]<='z' or '0'<=s[i]<='9'):\n",
    "        print(s[i])"
   ]
  },
  {
   "cell_type": "code",
   "execution_count": 7,
   "metadata": {},
   "outputs": [
    {
     "name": "stdout",
     "output_type": "stream",
     "text": [
      "A\n",
      "e\n",
      "a\n",
      "a\n",
      "i\n",
      "i\n"
     ]
    }
   ],
   "source": [
    "# 7. WAP to Print the vowels in a given string.\n",
    "s='NArendra143Da@#$%^ppili'\n",
    "for i in range(len(s)):\n",
    "    if s[i] in 'aeiouAEIOU':\n",
    "        print(s[i])"
   ]
  },
  {
   "cell_type": "code",
   "execution_count": 9,
   "metadata": {},
   "outputs": [
    {
     "name": "stdout",
     "output_type": "stream",
     "text": [
      "N\n",
      "r\n",
      "n\n",
      "d\n",
      "r\n",
      "D\n",
      "p\n",
      "p\n",
      "l\n"
     ]
    }
   ],
   "source": [
    "# 8. WAP to Print the consonants in a given string.\n",
    "s='NArendra143Da@#$%^ppili'\n",
    "for i in range(len(s)):\n",
    "    if 'A'<=s[i]<='Z' or 'a'<=s[i]<='z':\n",
    "        if s[i] not in 'aeiouAEIOU':\n",
    "            print(s[i])"
   ]
  },
  {
   "cell_type": "code",
   "execution_count": 19,
   "metadata": {},
   "outputs": [
    {
     "name": "stdout",
     "output_type": "stream",
     "text": [
      "ilipp^%$#@aD341ardnerAN\n",
      "ilipp^%$#@aD341ardnerAN\n"
     ]
    }
   ],
   "source": [
    "# 9. WAP to print the reverse of the characters in a given string.\n",
    "s='NArendra143Da@#$%^ppili'\n",
    "res=''\n",
    "for i in range(-1,-(len(s)+1),-1):\n",
    "    res+=s[i]\n",
    "print(res)\n",
    "\n",
    "s='NArendra143Da@#$%^ppili'\n",
    "res=''\n",
    "for i in range(len(s)):\n",
    "    res=s[i]+res\n",
    "print(res)"
   ]
  },
  {
   "cell_type": "code",
   "execution_count": 27,
   "metadata": {},
   "outputs": [
    {
     "name": "stdout",
     "output_type": "stream",
     "text": [
      "Nrnr13a#%pii\n"
     ]
    }
   ],
   "source": [
    "# 10. WAP to print even position values characters in a given string\n",
    "s='NArendra143Da@#$%^ppili'\n",
    "res=''\n",
    "for i in range(0,len(s),2):\n",
    "    res+=s[i]\n",
    "print(res)\n"
   ]
  },
  {
   "cell_type": "code",
   "execution_count": 28,
   "metadata": {},
   "outputs": [
    {
     "name": "stdout",
     "output_type": "stream",
     "text": [
      "Aeda4D@$^pl\n"
     ]
    }
   ],
   "source": [
    "# 11. WAP to print odd position values characters in a given string.\n",
    "s='NArendra143Da@#$%^ppili'\n",
    "res=''\n",
    "for i in range(1,len(s),2):\n",
    "    res+=s[i]\n",
    "print(res)"
   ]
  },
  {
   "cell_type": "code",
   "execution_count": 29,
   "metadata": {},
   "outputs": [
    {
     "name": "stdout",
     "output_type": "stream",
     "text": [
      "23\n"
     ]
    }
   ],
   "source": [
    "# 12. WAP to count the total Number of characters in a given string.(with \n",
    "# length function)\n",
    "s='NArendra143Da@#$%^ppili'\n",
    "print(len(s))"
   ]
  },
  {
   "cell_type": "code",
   "execution_count": 30,
   "metadata": {},
   "outputs": [
    {
     "name": "stdout",
     "output_type": "stream",
     "text": [
      "23\n"
     ]
    }
   ],
   "source": [
    "# 13. WAP to count the total Number of characters in a given string.(without \n",
    "# length function)\n",
    "s='NArendra143Da@#$%^ppili'\n",
    "count=0\n",
    "for i in s:\n",
    "    count+=1\n",
    "print(count)"
   ]
  },
  {
   "cell_type": "code",
   "execution_count": 34,
   "metadata": {},
   "outputs": [
    {
     "name": "stdout",
     "output_type": "stream",
     "text": [
      "NArendraDappili\n"
     ]
    }
   ],
   "source": [
    "# 14. WAP to count alphabets in a given string.\n",
    "s='NArendra143Da@#$%^ppili'\n",
    "res=''\n",
    "for i in range(len(s)):\n",
    "    if 'A'<=s[i]<='Z' or 'a'<=s[i]<='z':\n",
    "        res+=s[i]\n",
    "print(res)"
   ]
  },
  {
   "cell_type": "code",
   "execution_count": 35,
   "metadata": {},
   "outputs": [
    {
     "name": "stdout",
     "output_type": "stream",
     "text": [
      "3\n"
     ]
    }
   ],
   "source": [
    "# 15. WAP to count Number of uppercase in a given string\n",
    "s='NArendra143Da@#$%^ppili'\n",
    "res=0\n",
    "for i in range(len(s)):\n",
    "    if 'A'<=s[i]<='Z':\n",
    "        res+=1\n",
    "print(res)"
   ]
  },
  {
   "cell_type": "code",
   "execution_count": 36,
   "metadata": {},
   "outputs": [
    {
     "name": "stdout",
     "output_type": "stream",
     "text": [
      "12\n"
     ]
    }
   ],
   "source": [
    "# 16. WAP to count lowercase in a given string.\n",
    "s='NArendra143Da@#$%^ppili'\n",
    "res=0\n",
    "for i in range(len(s)):\n",
    "    if 'a'<=s[i]<='z':\n",
    "        res+=1\n",
    "print(res)"
   ]
  },
  {
   "cell_type": "code",
   "execution_count": 37,
   "metadata": {},
   "outputs": [
    {
     "name": "stdout",
     "output_type": "stream",
     "text": [
      "5\n"
     ]
    }
   ],
   "source": [
    "# 17. WAP to count Number of special symbols in a given string.\n",
    "s='NArendra143Da@#$%^ppili'\n",
    "res=0\n",
    "for i in range(len(s)):\n",
    "    if not('a'<=s[i]<='z' or 'A'<=s[i]<='Z' or '0'<=s[i]<='9'):\n",
    "        res+=1\n",
    "print(res)"
   ]
  },
  {
   "cell_type": "code",
   "execution_count": 38,
   "metadata": {},
   "outputs": [
    {
     "name": "stdout",
     "output_type": "stream",
     "text": [
      "15\n"
     ]
    }
   ],
   "source": [
    "# 18. WAP to count uppercase and lowercase in a given string.\n",
    "s='NArendra143Da@#$%^ppili'\n",
    "res=0\n",
    "for i in range(len(s)):\n",
    "    if 'a'<=s[i]<='z' or 'A'<=s[i]<='Z':\n",
    "        res+=1\n",
    "print(res)"
   ]
  },
  {
   "cell_type": "code",
   "execution_count": 39,
   "metadata": {},
   "outputs": [
    {
     "name": "stdout",
     "output_type": "stream",
     "text": [
      "3\n"
     ]
    }
   ],
   "source": [
    "# 19. WAP to count Number of ascii numbers in a given string.\n",
    "s='NArendra143Da@#$%^ppili'\n",
    "res=0\n",
    "for i in range(len(s)):\n",
    "    if '0'<=s[i]<='9':\n",
    "        res+=1\n",
    "print(res)"
   ]
  },
  {
   "cell_type": "code",
   "execution_count": 45,
   "metadata": {},
   "outputs": [
    {
     "name": "stdout",
     "output_type": "stream",
     "text": [
      "t\n",
      "y\n",
      "haii\n",
      "hello\n",
      "namasthe\n",
      "addhab\n",
      "6\n"
     ]
    }
   ],
   "source": [
    "# 20. WAP to Count Total Number of Words in a String.\n",
    "s=' t y haii hello namasthe addhab  '\n",
    "res=''\n",
    "count=0\n",
    "for i in s:\n",
    "    if i!=' ':\n",
    "        res+=i\n",
    "    else:\n",
    "        if len(res)>0:\n",
    "            print(res)\n",
    "            count+=1\n",
    "            res=''\n",
    "if len(res)>0:\n",
    "    count+=1\n",
    "    print(res)\n",
    "print(count)\n",
    "        "
   ]
  },
  {
   "cell_type": "code",
   "execution_count": 47,
   "metadata": {},
   "outputs": [
    {
     "name": "stdout",
     "output_type": "stream",
     "text": [
      "7\n"
     ]
    }
   ],
   "source": [
    "# 21. WAP to Count Total Number of spaces in a String.\n",
    "s='nvv kfndfj dvn    kjn '\n",
    "count=0\n",
    "for i in s:\n",
    "    if i==' ':\n",
    "        count+=1\n",
    "print(count)"
   ]
  },
  {
   "cell_type": "code",
   "execution_count": 49,
   "metadata": {},
   "outputs": [
    {
     "name": "stdout",
     "output_type": "stream",
     "text": [
      "3\n"
     ]
    }
   ],
   "source": [
    "# 22. WAP to Count Vowels in a String.\n",
    "s='nvv kfeuindfj dvn    kjn '\n",
    "count=0\n",
    "for i in s:\n",
    "    if i in 'aeiouAEIOU':\n",
    "        count+=1\n",
    "print(count)"
   ]
  },
  {
   "cell_type": "code",
   "execution_count": 50,
   "metadata": {},
   "outputs": [
    {
     "name": "stdout",
     "output_type": "stream",
     "text": [
      "15\n"
     ]
    }
   ],
   "source": [
    "# 23. WAP to Count consonants in a String.\n",
    "s='nvv kfeuindfj dvn    kjn '\n",
    "count=0\n",
    "for i in s:\n",
    "    if 'A'<=i<='Z' or 'a'<=i<='z':\n",
    "        if i not in 'aeiouAEIOU':\n",
    "            count+=1\n",
    "print(count)"
   ]
  },
  {
   "cell_type": "code",
   "execution_count": 51,
   "metadata": {},
   "outputs": [
    {
     "name": "stdout",
     "output_type": "stream",
     "text": [
      "18\n"
     ]
    }
   ],
   "source": [
    "# 24. WAP to Count Vowels and Consonants in a String.\n",
    "s='nvv kfeuindfj dvn    kjn '\n",
    "count=0\n",
    "for i in s:\n",
    "    if 'A'<=i<='Z' or 'a'<=i<='z':\n",
    "        if i not in 'aeiouAEIOU':\n",
    "            count+=1\n",
    "        else:\n",
    "            count+=1\n",
    "print(count)"
   ]
  },
  {
   "cell_type": "code",
   "execution_count": 59,
   "metadata": {},
   "outputs": [
    {
     "name": "stdout",
     "output_type": "stream",
     "text": [
      "3\n"
     ]
    }
   ],
   "source": [
    "# 25. WAP to count Number of new lines in a given string.\n",
    "s='''jbvv js\n",
    "jhdd\n",
    "dhh\n",
    "hdhbh jfj hdha'''\n",
    "count=0\n",
    "for i in s:\n",
    "    if i == '\\n':\n",
    "        count+=1\n",
    "print(count)"
   ]
  },
  {
   "cell_type": "code",
   "execution_count": 60,
   "metadata": {},
   "outputs": [
    {
     "name": "stdout",
     "output_type": "stream",
     "text": [
      "4\n"
     ]
    }
   ],
   "source": [
    "# 26. WAP to count Number of lines in a given string.\n",
    "s='''jbvv js\n",
    "jhdd\n",
    "dhh\n",
    "hdhbh jfj hdha'''\n",
    "count=1\n",
    "for i in s:\n",
    "    if i == '\\n':\n",
    "        count+=1\n",
    "print(count)\n"
   ]
  },
  {
   "cell_type": "code",
   "execution_count": 62,
   "metadata": {},
   "outputs": [
    {
     "name": "stdout",
     "output_type": "stream",
     "text": [
      "25\n",
      "25\n"
     ]
    }
   ],
   "source": [
    "# 27. WAP to count no of alphabets, numbers, and special characters in a given \n",
    "# string.\n",
    "s='nvv kfeuindfj dvn    kjn '\n",
    "count=0\n",
    "for i in s:\n",
    "    if 'A'<=i<='Z' or 'a'<=i<='z' or '0'<=i<='9':\n",
    "        count+=1\n",
    "    else:\n",
    "        count+=1\n",
    "print(count)\n",
    "print(len(s))"
   ]
  },
  {
   "cell_type": "code",
   "execution_count": 64,
   "metadata": {},
   "outputs": [
    {
     "name": "stdout",
     "output_type": "stream",
     "text": [
      "jbvv\n",
      "js\n",
      "2\n"
     ]
    }
   ],
   "source": [
    "# 28. WAP to Count Total no of words in a first line of the Doc String.\n",
    "s='''jbvv js\n",
    "jhdd\n",
    "dhh\n",
    "hdhbh jfj hdha'''\n",
    "count=0\n",
    "res=''\n",
    "for i in s:\n",
    "    if i!=' ' and i!='\\n':\n",
    "        res+=i\n",
    "    else:\n",
    "        if len(res)>0:\n",
    "            print(res)\n",
    "            count+=1\n",
    "            res=''\n",
    "    if i == '\\n':\n",
    "        break\n",
    "if len(res)>0:\n",
    "    count+=1\n",
    "    print(res)\n",
    "print(count)\n"
   ]
  },
  {
   "cell_type": "code",
   "execution_count": 66,
   "metadata": {},
   "outputs": [
    {
     "name": "stdout",
     "output_type": "stream",
     "text": [
      "15\n"
     ]
    }
   ],
   "source": [
    "# 29. WAP to sum of digits in a given string.\n",
    "s='1212234dbfhjbg$#$'\n",
    "sum=0\n",
    "for i in s:\n",
    "    if '0'<=i<='9':\n",
    "        sum+=int(i)\n",
    "print(sum)\n"
   ]
  },
  {
   "cell_type": "code",
   "execution_count": 111,
   "metadata": {},
   "outputs": [
    {
     "name": "stdout",
     "output_type": "stream",
     "text": [
      "{'z': 1, 'a': 3, 'n': 4, 'r': 1, 'e': 1, 'f': 5, 'v': 1, 'd': 4, 's': 4}\n",
      "['z', 'a', 'n', 'r', 'e', 'f', 'v', 'd', 's']\n",
      "a\n"
     ]
    }
   ],
   "source": [
    "# 30. WAP to Print First Occurrence of a Character in a String.\n",
    "s='zanrenfvnnaadsdffdsfsfds'\n",
    "res={}\n",
    "d={}\n",
    "for i in s:\n",
    "    if i not in res:\n",
    "        res[i]=1\n",
    "    else:\n",
    "        res[i]+=1\n",
    "print(res)\n",
    "l=list(res)\n",
    "print(l)\n",
    "for i in l:\n",
    "    if res[i]>1:\n",
    "        print(i)\n",
    "        break"
   ]
  },
  {
   "cell_type": "code",
   "execution_count": 109,
   "metadata": {},
   "outputs": [
    {
     "name": "stdout",
     "output_type": "stream",
     "text": [
      "{'a': 3, 'n': 4, 'r': 1, 'e': 1, 'v': 1, 'd': 4, 's': 4, 'f': 4}\n",
      "f\n",
      "['f', 's', 'd', 'v', 'e', 'r', 'n', 'a']\n"
     ]
    }
   ],
   "source": [
    "# 31. WAP to Print Last Occurrence of a Character in a String.\n",
    "s='anrenvaanndsdffdsfsfds'\n",
    "res={}\n",
    "for i in s:\n",
    "    if i not in res:\n",
    "        res[i]=1\n",
    "    else:\n",
    "        res[i]+=1\n",
    "print(res)\n",
    "l=list(res)\n",
    "l=l[::-1]\n",
    "for i in l:\n",
    "    if res[i]>1:\n",
    "        print(i)\n",
    "        break\n",
    "print(l)"
   ]
  },
  {
   "cell_type": "code",
   "execution_count": 114,
   "metadata": {},
   "outputs": [
    {
     "name": "stdout",
     "output_type": "stream",
     "text": [
      "{'a': 1, 'n': 4, 'r': 1, 'e': 1, 'v': 1, 'd': 4, 's': 4, 'f': 4}\n",
      "n\n",
      "f\n"
     ]
    }
   ],
   "source": [
    "# 32. WAP to Print First and last Occurrence of a Character in a String.\n",
    "s='anrenvnndsdffdsfsfds'\n",
    "res={}\n",
    "for i in s:\n",
    "    if i not in res:\n",
    "        res[i]=1\n",
    "    else:\n",
    "        res[i]+=1\n",
    "print(res)\n",
    "l=list(res)\n",
    "m=l[::-1]\n",
    "for i in l:\n",
    "    if res[i]>1:\n",
    "        print(i)\n",
    "        break\n",
    "for i in m:\n",
    "    if res[i]>1:\n",
    "        print(i)\n",
    "        break"
   ]
  },
  {
   "cell_type": "code",
   "execution_count": 120,
   "metadata": {},
   "outputs": [
    {
     "name": "stdout",
     "output_type": "stream",
     "text": [
      "{'a': 3, 'n': 4, 'r': 1, 'z': 1, 'e': 1, 'f': 5, 'v': 1, 'd': 4, 's': 4}\n",
      "r\n"
     ]
    }
   ],
   "source": [
    "# 32. WAP to Print first not Occurrence of a Character in a String.\n",
    "s='anrzenfvaanndsdffdsfsfds'\n",
    "res={}\n",
    "for i in s:\n",
    "    if i not in res:\n",
    "        res[i]=1\n",
    "    else:\n",
    "        res[i]+=1\n",
    "print(res)\n",
    "l=list(res)\n",
    "for i in l:\n",
    "    if res[i]==1:\n",
    "        print(i)\n",
    "        break\n"
   ]
  },
  {
   "cell_type": "code",
   "execution_count": 119,
   "metadata": {},
   "outputs": [
    {
     "name": "stdout",
     "output_type": "stream",
     "text": [
      "{'a': 3, 'n': 4, 'r': 1, 'z': 1, 'e': 1, 'f': 5, 'v': 1, 'd': 4, 's': 4}\n",
      "v\n"
     ]
    }
   ],
   "source": [
    "# 32. WAP to Print last not Occurrence of a Character in a String.\n",
    "s='anrzenfvaanndsdffdsfsfds'\n",
    "res={}\n",
    "for i in s:\n",
    "    if i not in res:\n",
    "        res[i]=1\n",
    "    else:\n",
    "        res[i]+=1\n",
    "print(res)\n",
    "l=list(res)\n",
    "l=l[::-1]\n",
    "for i in l:\n",
    "    if res[i]==1:\n",
    "        print(i)\n",
    "        break\n"
   ]
  },
  {
   "cell_type": "code",
   "execution_count": 100,
   "metadata": {},
   "outputs": [
    {
     "name": "stdout",
     "output_type": "stream",
     "text": [
      "0\n",
      "8\n"
     ]
    }
   ],
   "source": [
    "l=[10,20,30,40,50,60,10,50,10]\n",
    "def sample(coll,ele,occur=1,start=0,end=0):\n",
    "    if start<0:\n",
    "        start=len(coll)+start\n",
    "    if end<0:\n",
    "        end=len(coll)+end\n",
    "    if end==0:\n",
    "        end=len(coll)\n",
    "    count=0\n",
    "    for i in range(start,end):\n",
    "        if coll[i]==ele:\n",
    "            count+=1\n",
    "            if count==occur:\n",
    "                return i\n",
    "    return -1\n",
    "print(sample(l,10,3,0,10))"
   ]
  },
  {
   "cell_type": "code",
   "execution_count": 101,
   "metadata": {},
   "outputs": [
    {
     "data": {
      "text/plain": [
       "'HAAI HERKJ JKSNJ'"
      ]
     },
     "execution_count": 101,
     "metadata": {},
     "output_type": "execute_result"
    }
   ],
   "source": [
    "def Upper():\n",
    "    st='Haai HERKJ jksnj'\n",
    "    res=''\n",
    "    for i in st:\n",
    "        if 'a'<=i<='z':\n",
    "            res+=chr(ord(i)-32)\n",
    "        else:\n",
    "            res+=i\n",
    "    return res\n",
    "Upper()"
   ]
  },
  {
   "cell_type": "code",
   "execution_count": 5,
   "metadata": {},
   "outputs": [
    {
     "name": "stdout",
     "output_type": "stream",
     "text": [
      "1\n",
      "2\n",
      "6\n",
      "24\n",
      "120\n"
     ]
    }
   ],
   "source": [
    "#wap to print the series of facorials in given range\n",
    "def u_factorial(start,end):\n",
    "    while start<=end:\n",
    "        x=1\n",
    "        fact=1\n",
    "        while x<=start:\n",
    "            fact*=x\n",
    "            x+=1\n",
    "        print(fact)\n",
    "        start+=1\n",
    "u_factorial(1,5)"
   ]
  },
  {
   "cell_type": "code",
   "execution_count": 14,
   "metadata": {},
   "outputs": [
    {
     "name": "stdout",
     "output_type": "stream",
     "text": [
      "1 * 1 = 1\n",
      "1 * 2 = 2\n",
      "1 * 3 = 3\n",
      "1 * 4 = 4\n",
      "1 * 5 = 5\n",
      "1 * 6 = 6\n",
      "1 * 7 = 7\n",
      "1 * 8 = 8\n",
      "1 * 9 = 9\n",
      "1 * 10 = 10\n",
      "\t\n",
      "2 * 1 = 2\n",
      "2 * 2 = 4\n",
      "2 * 3 = 6\n",
      "2 * 4 = 8\n",
      "2 * 5 = 10\n",
      "2 * 6 = 12\n",
      "2 * 7 = 14\n",
      "2 * 8 = 16\n",
      "2 * 9 = 18\n",
      "2 * 10 = 20\n",
      "\t\n"
     ]
    }
   ],
   "source": [
    "#wap to print \n",
    "def u_multiplication(start,end,upto=10):\n",
    "    while start<=end:\n",
    "        i=1\n",
    "        while i<=upto:\n",
    "            print(start,'*',i,'=',start*i)\n",
    "            i+=1\n",
    "        start+=1\n",
    "        print('\\t')\n",
    "u_multiplication(1,2)"
   ]
  },
  {
   "cell_type": "code",
   "execution_count": 24,
   "metadata": {},
   "outputs": [
    {
     "data": {
      "text/plain": [
       "{'I': 2, 'love': 2, 'india': 1, 'my': 1, 'country': 2}"
      ]
     },
     "execution_count": 24,
     "metadata": {},
     "output_type": "execute_result"
    }
   ],
   "source": [
    "st='I love india I love my country country'\n",
    "def u_occur_of_words(coll):\n",
    "    res=''\n",
    "    d={}\n",
    "    for i in coll:\n",
    "        if i!=' ':\n",
    "            res+=i\n",
    "        else:\n",
    "            if len(res)!=0:\n",
    "                if res not in d:\n",
    "                    d[res]=1\n",
    "                else:\n",
    "                    d[res]+=1\n",
    "            res=''\n",
    "    if len(res)!=0 and res not in d:\n",
    "        d[res]=1\n",
    "    else:\n",
    "        d[res]+=1\n",
    "    return d\n",
    "u_occur_of_words(st)"
   ]
  },
  {
   "cell_type": "code",
   "execution_count": 25,
   "metadata": {},
   "outputs": [
    {
     "data": {
      "text/plain": [
       "{1: 1, 2: 8, 3: 27, 4: 64, 5: 125}"
      ]
     },
     "execution_count": 25,
     "metadata": {},
     "output_type": "execute_result"
    }
   ],
   "source": [
    "# store the dict {1:1} like this with keys and cubes of that keys\n",
    "def u_cubes(start,end):\n",
    "    d={}\n",
    "    while start<=end:\n",
    "        d[start]=start**3\n",
    "        start+=1\n",
    "    return d\n",
    "u_cubes(1,5)\n"
   ]
  },
  {
   "cell_type": "code",
   "execution_count": 19,
   "metadata": {},
   "outputs": [
    {
     "name": "stdout",
     "output_type": "stream",
     "text": [
      "0\n",
      "1\n",
      "1\n",
      "2\n",
      "3\n",
      "5\n",
      "8\n",
      "13\n",
      "21\n",
      "34\n",
      "55\n",
      "89\n"
     ]
    }
   ],
   "source": [
    "#fibanacci series of nth \n",
    "n=10\n",
    "a=0\n",
    "b=1\n",
    "print(a)\n",
    "print(b)\n",
    "m=0\n",
    "while m<n:\n",
    "    c=a+b\n",
    "    print(c)\n",
    "    a=b\n",
    "    b=c\n",
    "    m+=1\n"
   ]
  },
  {
   "cell_type": "code",
   "execution_count": 20,
   "metadata": {},
   "outputs": [
    {
     "name": "stdout",
     "output_type": "stream",
     "text": [
      "6\n",
      "28\n",
      "496\n"
     ]
    }
   ],
   "source": [
    "#print the series of perfect number in given range\n",
    "m=1\n",
    "n=1800\n",
    "while m<=n:\n",
    "    x=1\n",
    "    sum=0\n",
    "    while x<m:\n",
    "        if m%x==0:\n",
    "            sum+=x\n",
    "        x+=1\n",
    "    if sum==m:\n",
    "        print(m)\n",
    "    m+=1\n",
    "\n",
    "              "
   ]
  },
  {
   "cell_type": "code",
   "execution_count": null,
   "metadata": {},
   "outputs": [],
   "source": []
  }
 ],
 "metadata": {
  "kernelspec": {
   "display_name": "Python 3",
   "language": "python",
   "name": "python3"
  },
  "language_info": {
   "codemirror_mode": {
    "name": "ipython",
    "version": 3
   },
   "file_extension": ".py",
   "mimetype": "text/x-python",
   "name": "python",
   "nbconvert_exporter": "python",
   "pygments_lexer": "ipython3",
   "version": "3.11.0a5"
  },
  "orig_nbformat": 4
 },
 "nbformat": 4,
 "nbformat_minor": 2
}
