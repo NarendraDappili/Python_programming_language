{
 "cells": [
  {
   "cell_type": "code",
   "execution_count": 52,
   "metadata": {},
   "outputs": [
    {
     "name": "stdout",
     "output_type": "stream",
     "text": [
      "9\n"
     ]
    },
    {
     "data": {
      "text/plain": [
       "'1222333679'"
      ]
     },
     "execution_count": 52,
     "metadata": {},
     "output_type": "execute_result"
    }
   ],
   "source": [
    "st='one two double two triple three six seven nine'\n",
    "def getting_mobile_number(s):\n",
    "    d={'zero':0,'one':1,'two':2,'three':3,'four':4,'five':5,'six':6,'seven':7,'eight':8,'nine':9}\n",
    "    res=s.split()\n",
    "    t=''\n",
    "    print(len(res))\n",
    "    if len(res)==0:\n",
    "        return -1\n",
    "    i=0\n",
    "    while (i<len(res)):\n",
    "        ele=res[i]\n",
    "        if ele not in ['zero','one','two','three','four','five','six','seven','eight','nine','double','triple']:\n",
    "            i+=1\n",
    "        if res[i]=='double':\n",
    "            if res[i+1] in ['zero','one','two','three','four','five','six','seven','eight','nine']:\n",
    "                t+=str(d[res[i+1]])*2\n",
    "            i+=2\n",
    "        elif res[i]=='triple':\n",
    "            t+=str(d[res[i+1]])*3\n",
    "            i+=2\n",
    "        elif res[i] in ['zero','one','two','three','four','five','six','seven','eight','nine']:\n",
    "            t+=str(d[res[i]])\n",
    "            i+=1\n",
    "    return t   \n",
    "getting_mobile_number(st)"
   ]
  },
  {
   "cell_type": "code",
   "execution_count": 57,
   "metadata": {},
   "outputs": [
    {
     "name": "stdout",
     "output_type": "stream",
     "text": [
      "10 c\n"
     ]
    }
   ],
   "source": [
    "d={'a':-10,'b':-7,'c':10,'d':-3}\n",
    "l=list(d)  #[a,b,c,d]\n",
    "l_n=d[l[0]]  #-10\n",
    "i=0\n",
    "while i<len(l):     #0 < 4  1 <4  2<4  3<4  \n",
    "    if l_n<d[l[i]]:   #-10 < -7  -7<10  10<3\n",
    "        l_n=d[l[i]] #-7  10  10\n",
    "        ch=l[i] # a  b  c  d\n",
    "    i+=1\n",
    "print(l_n,ch)"
   ]
  },
  {
   "cell_type": "code",
   "execution_count": 62,
   "metadata": {},
   "outputs": [
    {
     "name": "stdout",
     "output_type": "stream",
     "text": [
      "[60, 50, 40]\n"
     ]
    }
   ],
   "source": [
    "l=[10,50,20,30,40,15,60]\n",
    "m=[]\n",
    "i=0\n",
    "while i<=2:\n",
    "    j=0\n",
    "    l_n=0\n",
    "    pos=None\n",
    "    while j<len(l):\n",
    "        if l_n<l[j]:\n",
    "            l_n=l[j]\n",
    "            pos=j\n",
    "        \n",
    "        j+=1\n",
    "    m+=[l_n]\n",
    "    l=l[:pos:]+l[pos+1:]\n",
    "    i+=1\n",
    "print(m)            \n",
    "\n",
    "\n",
    "        \n"
   ]
  },
  {
   "cell_type": "code",
   "execution_count": 4,
   "metadata": {},
   "outputs": [
    {
     "data": {
      "text/plain": [
       "'you are how hello hai'"
      ]
     },
     "execution_count": 4,
     "metadata": {},
     "output_type": "execute_result"
    }
   ],
   "source": [
    "st='hai hello how are you'\n",
    "def convert(coll):\n",
    "    res=''\n",
    "    l=''\n",
    "    for i in coll:\n",
    "        if i !=' ':\n",
    "            l+=i\n",
    "        else:\n",
    "            if len(l)!=0:\n",
    "                res=' '+l+res\n",
    "            l=''\n",
    "    if len(l)!=0:\n",
    "        res=l+res\n",
    "    return res\n",
    "convert(st)"
   ]
  },
  {
   "cell_type": "code",
   "execution_count": 4,
   "metadata": {},
   "outputs": [
    {
     "name": "stdout",
     "output_type": "stream",
     "text": [
      "{'a': 5, 'b': 7, 'c': 1, 'd': 1, 'f': 1, 'h': 1, 'g': 1}\n"
     ]
    },
    {
     "data": {
      "text/plain": [
       "'atcatatatdtatfthg'"
      ]
     },
     "execution_count": 4,
     "metadata": {},
     "output_type": "execute_result"
    }
   ],
   "source": [
    "#wap to replace a maximum occurance character with new character in given string.\n",
    "st='abcabababdbabfbhg'\n",
    "def ocuurance_replace(coll):\n",
    "    d={}\n",
    "    for i in coll:\n",
    "        if i not in d:\n",
    "            d[i]=1\n",
    "        else:\n",
    "            d[i]+=1\n",
    "    print(d)\n",
    "    max,ch=0,''\n",
    "    for i in d:\n",
    "        if d[i]>max:\n",
    "            max=d[i]\n",
    "            ch=i\n",
    "    res,new_char='','t'\n",
    "    for i in coll:\n",
    "        if ch==i:\n",
    "            res+=new_char\n",
    "        else:\n",
    "            res+=i\n",
    "    return res\n",
    "ocuurance_replace(st)"
   ]
  },
  {
   "cell_type": "code",
   "execution_count": 48,
   "metadata": {},
   "outputs": [
    {
     "data": {
      "text/plain": [
       "{'one': 1,\n",
       " 'two': 2,\n",
       " 'double': 1,\n",
       " 'triple': 1,\n",
       " 'three': 1,\n",
       " 'six': 1,\n",
       " 'seven': 1,\n",
       " 'nine': 1}"
      ]
     },
     "execution_count": 48,
     "metadata": {},
     "output_type": "execute_result"
    }
   ],
   "source": [
    "#wap to find the occurance of words in a given string.\n",
    "st='one two double two triple three six   seven nine '\n",
    "def occurance_words(coll):\n",
    "    d,t,={},''\n",
    "    for i in coll:\n",
    "        if i != ' ':\n",
    "            t+=i\n",
    "        else: \n",
    "            if len(t)!=0:\n",
    "                if t not in d:\n",
    "                    d[t]=1\n",
    "                else:\n",
    "                    d[t]+=1\n",
    "            t=''\n",
    "    if len(t)!=0:\n",
    "        if t not in d:\n",
    "            d[t]=1\n",
    "        else: \n",
    "            d[t]+=1\n",
    "    return d\n",
    "occurance_words(st)"
   ]
  },
  {
   "cell_type": "code",
   "execution_count": 17,
   "metadata": {},
   "outputs": [
    {
     "data": {
      "text/plain": [
       "150"
      ]
     },
     "execution_count": 17,
     "metadata": {},
     "output_type": "execute_result"
    }
   ],
   "source": [
    "#wap to sum of the elements in a given list in recursively.\n",
    "l=[10,20,30,40,50]\n",
    "def u_sum(coll,i=0,sum1=0):\n",
    "    if i==len(coll):\n",
    "        return sum1\n",
    "    sum1+=coll[i]\n",
    "    return u_sum(coll,i+1,sum1)\n",
    "u_sum(l)\n"
   ]
  },
  {
   "cell_type": "code",
   "execution_count": 51,
   "metadata": {},
   "outputs": [
    {
     "data": {
      "text/plain": [
       "[['a', 3], ['b', 8], ['c', 5]]"
      ]
     },
     "execution_count": 51,
     "metadata": {},
     "output_type": "execute_result"
    }
   ],
   "source": [
    "# i/p: l=[['a',2],['a',3],['a',1],['b',8],['b',5],['c',4],['c',5]]\n",
    "# o/p: l=[['a',3],['b',8],['c',5]]\n",
    "l=[['a',2],['a',3],['a',1],['b',8],['b',5],['c',4],['c',5]]\n",
    "def u_max(coll):\n",
    "    ch=coll[0][0]\n",
    "    x=0\n",
    "    m={}\n",
    "    i=0\n",
    "    while i<len(coll):\n",
    "        if ch==coll[i][0]:\n",
    "            if coll[i][1]>x:\n",
    "                x=coll[i][1]\n",
    "                # print(x)\n",
    "                if coll[i][0] not in m:\n",
    "                    m[coll[i][0]]=x\n",
    "                    # print(m)\n",
    "                else:\n",
    "                    m[coll[i][0]]=x\n",
    "        else:\n",
    "            ch=coll[i][0]\n",
    "            x=0\n",
    "            i-=1\n",
    "        i+=1\n",
    "    x=[[j,m[j]] for j in m]\n",
    "    return x\n",
    "u_max(l)\n",
    "        \n",
    "\n",
    "\n"
   ]
  },
  {
   "cell_type": "code",
   "execution_count": 26,
   "metadata": {},
   "outputs": [
    {
     "name": "stdout",
     "output_type": "stream",
     "text": [
      "{'model': 'oneplus 11', 'ram': '16gb', 'rom': '256gb', 'processor': 'meditate 8', 'price': 45000, 'IEMI': 'on12345'}\n"
     ]
    }
   ],
   "source": [
    "class mobile:\n",
    "    cname='oneplus'\n",
    "    def __init__(self,m_model,m_ram,m_rom,m_processor,m_price,m_IEMI):\n",
    "        self.model=m_model\n",
    "        self.ram=m_ram\n",
    "        self.rom=m_rom\n",
    "        self.processor=m_processor\n",
    "        self.price=m_price\n",
    "        self.IEMI=m_IEMI\n",
    "obj1=mobile('oneplus 11','16gb','256gb','meditate 8',45000,'on12345')\n",
    "print(obj1.__dict__)\n"
   ]
  }
 ],
 "metadata": {
  "kernelspec": {
   "display_name": "Python 3",
   "language": "python",
   "name": "python3"
  },
  "language_info": {
   "codemirror_mode": {
    "name": "ipython",
    "version": 3
   },
   "file_extension": ".py",
   "mimetype": "text/x-python",
   "name": "python",
   "nbconvert_exporter": "python",
   "pygments_lexer": "ipython3",
   "version": "3.11.0"
  },
  "orig_nbformat": 4
 },
 "nbformat": 4,
 "nbformat_minor": 2
}
