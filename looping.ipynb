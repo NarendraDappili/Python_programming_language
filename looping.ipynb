{
 "cells": [
  {
   "cell_type": "code",
   "execution_count": 6,
   "metadata": {},
   "outputs": [
    {
     "name": "stdout",
     "output_type": "stream",
     "text": [
      "1\n",
      "2\n",
      "5\n",
      "10\n",
      "18\n"
     ]
    }
   ],
   "source": [
    "#wap to findout the sum of all factors of a given number\n",
    "n=10\n",
    "m=1\n",
    "sum=0\n",
    "while m<=n:\n",
    "    if n%m==0:\n",
    "        print(m)\n",
    "        sum+=m\n",
    "    m+=1\n",
    "print(sum)"
   ]
  },
  {
   "cell_type": "code",
   "execution_count": 74,
   "metadata": {},
   "outputs": [
    {
     "name": "stdout",
     "output_type": "stream",
     "text": [
      "745\n",
      "not a strong number\n"
     ]
    }
   ],
   "source": [
    "#wap to check a given number is a strong number or not.\n",
    "num=146\n",
    "strong=0\n",
    "temp=num\n",
    "while num:\n",
    "    ld=num%10\n",
    "    m=1\n",
    "    prod=1\n",
    "    while m<=ld:\n",
    "        prod*=m\n",
    "        m+=1\n",
    "    num=num//10\n",
    "    strong+=prod\n",
    "print(strong)\n",
    "if strong==temp:\n",
    "    print('strong numner')\n",
    "else:\n",
    "    print('not a strong number')\n"
   ]
  },
  {
   "cell_type": "code",
   "execution_count": 61,
   "metadata": {},
   "outputs": [
    {
     "name": "stdout",
     "output_type": "stream",
     "text": [
      "17\n",
      "17 is prime\n"
     ]
    }
   ],
   "source": [
    "#wap to sum of all the digits in a given number and check the final resultant is primt or not.\n",
    "n=1234241\n",
    "count=0\n",
    "sum=0\n",
    "m=1\n",
    "while n:\n",
    "    ld=n%10\n",
    "    sum+=ld\n",
    "    n=n//10\n",
    "print(sum)\n",
    "while m<=sum:\n",
    "    if sum%m==0:\n",
    "        count+=1\n",
    "    m+=1\n",
    "if count==2:\n",
    "    print(sum,'is prime')\n",
    "else:\n",
    "    print(sum,'is not a prime')\n",
    "\n"
   ]
  },
  {
   "cell_type": "code",
   "execution_count": 40,
   "metadata": {},
   "outputs": [
    {
     "name": "stdout",
     "output_type": "stream",
     "text": [
      "6\n",
      "6 is a perfect number\n"
     ]
    }
   ],
   "source": [
    "#wap to find product of all digits in given number nad the final resultant is perfect number or not.\n",
    "n=123\n",
    "prod=1\n",
    "m=1\n",
    "temp=0\n",
    "while n:\n",
    "    ld=n%10\n",
    "    prod *= ld\n",
    "    n=n//10\n",
    "print(prod)\n",
    "while m<prod:\n",
    "    if prod%m==0:\n",
    "        temp+=m\n",
    "    m+=1\n",
    "if temp==prod:\n",
    "    print(prod,'is a perfect number')\n",
    "else:\n",
    "    print(prod,'is not a perfect number')\n"
   ]
  },
  {
   "cell_type": "code",
   "execution_count": null,
   "metadata": {},
   "outputs": [],
   "source": [
    "#1.wap to check a given number is a strong number or not.\n",
    "num=146\n",
    "strong=0\n",
    "temp=num\n",
    "while num:\n",
    "    ld=num%10\n",
    "    m=1\n",
    "    prod=1\n",
    "    while m<=ld:\n",
    "        prod*=m\n",
    "        m+=1\n",
    "    num=num//10\n",
    "    strong+=prod\n",
    "print(strong)\n",
    "if strong==temp:\n",
    "    print('strong numner')\n",
    "else:\n",
    "    print('not a strong number')"
   ]
  },
  {
   "cell_type": "code",
   "execution_count": 75,
   "metadata": {},
   "outputs": [
    {
     "name": "stdout",
     "output_type": "stream",
     "text": [
      "7 is prime\n"
     ]
    }
   ],
   "source": [
    "#2.prime number or not\n",
    "n=7\n",
    "m=1\n",
    "count=0\n",
    "while m<=n:\n",
    "    if n%m==0:\n",
    "        count+=1\n",
    "    m+=1\n",
    "if count==2:\n",
    "    print(n,'is prime')\n",
    "else:\n",
    "    print(n,'is not a prime')\n"
   ]
  },
  {
   "cell_type": "code",
   "execution_count": 77,
   "metadata": {},
   "outputs": [
    {
     "name": "stdout",
     "output_type": "stream",
     "text": [
      "2\n",
      "4\n",
      "6\n",
      "12\n",
      "24\n"
     ]
    }
   ],
   "source": [
    "#3.wap to findout the sum of all even factors of a given number\n",
    "n=12\n",
    "m=1\n",
    "sum=0\n",
    "while m<=n:\n",
    "    if n%m==0:\n",
    "        if m%2==0:\n",
    "            print(m)\n",
    "            sum+=m\n",
    "    m+=1\n",
    "print(sum)"
   ]
  },
  {
   "cell_type": "code",
   "execution_count": 80,
   "metadata": {},
   "outputs": [
    {
     "name": "stdout",
     "output_type": "stream",
     "text": [
      "321\n"
     ]
    }
   ],
   "source": [
    "#4.reverse number\n",
    "n=123\n",
    "rev=0\n",
    "temp=n\n",
    "while n:\n",
    "    ld=n%10\n",
    "    rev=(rev*10)+ld\n",
    "    n=n//10\n",
    "print(rev)\n"
   ]
  },
  {
   "cell_type": "code",
   "execution_count": 78,
   "metadata": {},
   "outputs": [
    {
     "name": "stdout",
     "output_type": "stream",
     "text": [
      "1\n",
      "2\n",
      "3\n",
      "4\n",
      "5\n",
      "6\n",
      "7\n",
      "8\n",
      "9\n",
      "10\n",
      "11\n",
      "12\n",
      "13\n",
      "14\n",
      "15\n"
     ]
    }
   ],
   "source": [
    "#5.generate sequence\n",
    "n=15\n",
    "m=1\n",
    "if n>m:\n",
    "    n,m,=m,n\n",
    "while n<=m:\n",
    "    print(n)\n",
    "    n+=1\n",
    "    "
   ]
  },
  {
   "cell_type": "code",
   "execution_count": 79,
   "metadata": {},
   "outputs": [
    {
     "name": "stdout",
     "output_type": "stream",
     "text": [
      "945\n"
     ]
    }
   ],
   "source": [
    "#6.print odd values\n",
    "n=25\n",
    "m=65\n",
    "sum=0\n",
    "while n<=m:\n",
    "    if n%2!=0:\n",
    "        sum+=n\n",
    "    n+=1\n",
    "print(sum)\n"
   ]
  },
  {
   "cell_type": "code",
   "execution_count": 84,
   "metadata": {},
   "outputs": [
    {
     "name": "stdout",
     "output_type": "stream",
     "text": [
      "10\n",
      "1\n",
      "2\n",
      "5\n",
      "10\n"
     ]
    }
   ],
   "source": [
    "#7.summ all all digits in a number and print the factors of final result.\n",
    "n=1234\n",
    "sum=0\n",
    "m=1\n",
    "while n:\n",
    "    ld=n%10\n",
    "    sum+=ld\n",
    "    n=n//10\n",
    "print(sum)\n",
    "while m<=sum:\n",
    "    if sum%m==0:\n",
    "        print(m)\n",
    "    m+=1\n"
   ]
  },
  {
   "cell_type": "code",
   "execution_count": 95,
   "metadata": {},
   "outputs": [
    {
     "name": "stdout",
     "output_type": "stream",
     "text": [
      "5\n",
      "0\n"
     ]
    }
   ],
   "source": [
    "n=12345\n",
    "count1=0\n",
    "temp=n\n",
    "while n:\n",
    "    ld=n%10\n",
    "    count1+=1\n",
    "    n=n//10\n",
    "print(count1)\n",
    "count2=0\n",
    "while temp:\n",
    "    lld=n%10\n",
    "    count2+=1\n",
    "    if count2==(count1//2):\n",
    "        print(lld)\n",
    "    temp=temp//10\n"
   ]
  }
 ],
 "metadata": {
  "kernelspec": {
   "display_name": "Python 3",
   "language": "python",
   "name": "python3"
  },
  "language_info": {
   "codemirror_mode": {
    "name": "ipython",
    "version": 3
   },
   "file_extension": ".py",
   "mimetype": "text/x-python",
   "name": "python",
   "nbconvert_exporter": "python",
   "pygments_lexer": "ipython3",
   "version": "3.11.0a5"
  },
  "orig_nbformat": 4
 },
 "nbformat": 4,
 "nbformat_minor": 2
}
