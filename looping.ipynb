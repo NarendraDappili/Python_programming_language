{
 "cells": [
  {
   "cell_type": "code",
   "execution_count": 6,
   "metadata": {},
   "outputs": [
    {
     "name": "stdout",
     "output_type": "stream",
     "text": [
      "1\n",
      "2\n",
      "5\n",
      "10\n",
      "18\n"
     ]
    }
   ],
   "source": [
    "#wap to findout the sum of all factors of a given number\n",
    "n=10\n",
    "m=1\n",
    "sum=0\n",
    "while m<=n:\n",
    "    if n%m==0:\n",
    "        print(m)\n",
    "        sum+=m\n",
    "    m+=1\n",
    "print(sum)"
   ]
  },
  {
   "cell_type": "code",
   "execution_count": 32,
   "metadata": {},
   "outputs": [
    {
     "name": "stdout",
     "output_type": "stream",
     "text": [
      "21\n",
      "21 is not a prime\n"
     ]
    }
   ],
   "source": [
    "#wap to sum of all the digits in a given number and check the final resultant is primt or not.\n",
    "n=1234245\n",
    "count=0\n",
    "sum=0\n",
    "m=1\n",
    "while n:\n",
    "    ld=n%10\n",
    "    sum+=ld\n",
    "    n=n//10\n",
    "print(sum)\n",
    "while m<=sum:\n",
    "    if sum%m==0:\n",
    "        count+=1\n",
    "    m+=1\n",
    "if count==2:\n",
    "    print(sum,'is prime')\n",
    "else:\n",
    "    print(sum,'is not a prime')\n",
    "\n"
   ]
  },
  {
   "cell_type": "code",
   "execution_count": 42,
   "metadata": {},
   "outputs": [
    {
     "name": "stdout",
     "output_type": "stream",
     "text": [
      "6\n",
      "6 is a perfect number\n"
     ]
    }
   ],
   "source": [
    "#wap to find product of all digits in given number nad the final resultant is perfect number or not.\n",
    "n=123\n",
    "prod=1\n",
    "m=1\n",
    "temp=0\n",
    "while n:\n",
    "    ld=n%10\n",
    "    prod *= ld\n",
    "    n=n//10\n",
    "print(prod)\n",
    "while m<prod:\n",
    "    if prod%m==0:\n",
    "        temp+=m\n",
    "    m+=1\n",
    "if temp==prod:\n",
    "    print(prod,'is a perfect number')\n",
    "else:\n",
    "    print(prod,'is not a perfect number')\n"
   ]
  },
  {
   "cell_type": "code",
   "execution_count": 59,
   "metadata": {},
   "outputs": [
    {
     "name": "stdout",
     "output_type": "stream",
     "text": [
      "0\n",
      "1\n",
      "1\n",
      "2\n",
      "3\n",
      "5\n",
      "8\n",
      "13\n",
      "21\n",
      "34\n"
     ]
    }
   ],
   "source": [
    "#fibanacci series upto 10 numbers.\n",
    "a=0\n",
    "b=1\n",
    "n=10\n",
    "print(a)\n",
    "print(b)\n",
    "count=1\n",
    "while count<n-1:\n",
    "    temp=a+b\n",
    "    a=b\n",
    "    b=temp\n",
    "    count+=1\n",
    "    print(temp)"
   ]
  }
 ],
 "metadata": {
  "kernelspec": {
   "display_name": "Python 3",
   "language": "python",
   "name": "python3"
  },
  "language_info": {
   "codemirror_mode": {
    "name": "ipython",
    "version": 3
   },
   "file_extension": ".py",
   "mimetype": "text/x-python",
   "name": "python",
   "nbconvert_exporter": "python",
   "pygments_lexer": "ipython3",
   "version": "3.11.0"
  },
  "orig_nbformat": 4
 },
 "nbformat": 4,
 "nbformat_minor": 2
}
